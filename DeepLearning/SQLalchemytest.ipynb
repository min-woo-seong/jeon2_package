{
 "cells": [
  {
   "cell_type": "code",
   "execution_count": null,
   "metadata": {},
   "outputs": [],
   "source": [
    "from sqlalchemy.orm import declarative_base\n",
    "from sqlalchemy import create_engine\n",
    "from sqlalchemy.ext.asyncio import AsyncSession, create_async_engine\n",
    "\n",
    "Base = declarative_base()\n",
    "\n",
    "# engine생성\n",
    "engine = create_async_engine(f\"postgresql+asyncpg://{self.db_user}:{self.db_password}@{self.db_host}/{self.db_name}\")\n",
    "\n",
    "# session생성 및 연결\n",
    "async_session = sessionmaker(\n",
    "    autocommit=False,\n",
    "    autoflush=False,\n",
    "    expire_on_commit=False,\n",
    "    bind=engine,\n",
    "    class_=AsyncSession,\n",
    ")"
   ]
  }
 ],
 "metadata": {
  "kernelspec": {
   "display_name": "Python 3.10.4 ('study')",
   "language": "python",
   "name": "python3"
  },
  "language_info": {
   "name": "python",
   "version": "3.10.4"
  },
  "orig_nbformat": 4,
  "vscode": {
   "interpreter": {
    "hash": "7686ba3900ac7c249b87df7ba5470728244e461a13fc76511b10ac837ea0b4fa"
   }
  }
 },
 "nbformat": 4,
 "nbformat_minor": 2
}
