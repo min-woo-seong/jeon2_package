{
 "cells": [
  {
   "cell_type": "code",
   "execution_count": 3,
   "metadata": {},
   "outputs": [
    {
     "name": "stdout",
     "output_type": "stream",
     "text": [
      "DB 접속 성공\n"
     ]
    },
    {
     "name": "stderr",
     "output_type": "stream",
     "text": [
      "/home/jeon2/anaconda3/envs/study/lib/python3.10/site-packages/pandas/io/sql.py:761: UserWarning: pandas only support SQLAlchemy connectable(engine/connection) ordatabase string URI or sqlite3 DBAPI2 connectionother DBAPI2 objects are not tested, please consider using SQLAlchemy\n",
      "  warnings.warn(\n"
     ]
    },
    {
     "ename": "NameError",
     "evalue": "name '_x' is not defined",
     "output_type": "error",
     "traceback": [
      "\u001b[0;31m---------------------------------------------------------------------------\u001b[0m",
      "\u001b[0;31mNameError\u001b[0m                                 Traceback (most recent call last)",
      "\u001b[1;32m/mnt/FE0A5E240A5DDA6B/workspace/jeon2_package/DeepLearning/RNN.ipynb 셀 1\u001b[0m in \u001b[0;36m<cell line: 34>\u001b[0;34m()\u001b[0m\n\u001b[1;32m     <a href='vscode-notebook-cell:/mnt/FE0A5E240A5DDA6B/workspace/jeon2_package/DeepLearning/RNN.ipynb#W0sZmlsZQ%3D%3D?line=31'>32</a>\u001b[0m     data_x\u001b[39m.\u001b[39mappend(_x)\n\u001b[1;32m     <a href='vscode-notebook-cell:/mnt/FE0A5E240A5DDA6B/workspace/jeon2_package/DeepLearning/RNN.ipynb#W0sZmlsZQ%3D%3D?line=32'>33</a>\u001b[0m     data_y\u001b[39m.\u001b[39mappend(_y)\n\u001b[0;32m---> <a href='vscode-notebook-cell:/mnt/FE0A5E240A5DDA6B/workspace/jeon2_package/DeepLearning/RNN.ipynb#W0sZmlsZQ%3D%3D?line=33'>34</a>\u001b[0m \u001b[39mprint\u001b[39m(_x, \u001b[39m\"\u001b[39m\u001b[39m->\u001b[39m\u001b[39m\"\u001b[39m, _y)\n\u001b[1;32m     <a href='vscode-notebook-cell:/mnt/FE0A5E240A5DDA6B/workspace/jeon2_package/DeepLearning/RNN.ipynb#W0sZmlsZQ%3D%3D?line=35'>36</a>\u001b[0m train_size \u001b[39m=\u001b[39m \u001b[39mint\u001b[39m(\u001b[39mlen\u001b[39m(data_y) \u001b[39m*\u001b[39m \u001b[39m0.7\u001b[39m)\n\u001b[1;32m     <a href='vscode-notebook-cell:/mnt/FE0A5E240A5DDA6B/workspace/jeon2_package/DeepLearning/RNN.ipynb#W0sZmlsZQ%3D%3D?line=36'>37</a>\u001b[0m train_x \u001b[39m=\u001b[39m np\u001b[39m.\u001b[39marray(data_x[\u001b[39m0\u001b[39m : train_size])\n",
      "\u001b[0;31mNameError\u001b[0m: name '_x' is not defined"
     ]
    }
   ],
   "source": [
    "from tensorflow.keras import Sequential\n",
    "from tensorflow.keras.layers import Dense, LSTM, Dropout\n",
    "import numpy as np\n",
    "import matplotlib.pyplot as plt\n",
    "from Investar import Analyzer\n",
    "\n",
    "mk = Analyzer.MarketDB()\n",
    "raw_df = mk.get_daily_price('삼성전자', '2020-01-01', '2022-09-16')\n",
    "\n",
    "window_size = 10 \n",
    "data_size = 5\n",
    "\n",
    "def MinMaxScaler(data):\n",
    "    \"\"\"최솟값과 최댓값을 이용하여 0 ~ 1 값으로 변환\"\"\"\n",
    "    numerator = data - np.min(data, 0)\n",
    "    denominator = np.max(data, 0) - np.min(data, 0)\n",
    "    # 0으로 나누기 에러가 발생하지 않도록 매우 작은 값(1e-7)을 더해서 나눔\n",
    "    return numerator / (denominator + 1e-7)\n",
    "\n",
    "dfx = raw_df[['open','high','low','volume', 'close']]\n",
    "dfx = MinMaxScaler(dfx)\n",
    "dfy = dfx[['close']]\n",
    "\n",
    "x = dfx.values.tolist()\n",
    "y = dfy.values.tolist()\n",
    "\n",
    "data_x = []\n",
    "data_y = []\n",
    "for i in range(len(y) - window_size):\n",
    "    _x = x[i : i + window_size] # 다음 날 종가(i+windows_size)는 포함되지 않음\n",
    "    _y = y[i + window_size]     # 다음 날 종가\n",
    "    data_x.append(_x)\n",
    "    data_y.append(_y)\n",
    "print(_x, \"->\", _y)\n",
    "\n",
    "train_size = int(len(data_y) * 0.7)\n",
    "train_x = np.array(data_x[0 : train_size])\n",
    "train_y = np.array(data_y[0 : train_size])\n",
    "\n",
    "test_size = len(data_y) - train_size\n",
    "test_x = np.array(data_x[train_size : len(data_x)])\n",
    "test_y = np.array(data_y[train_size : len(data_y)])\n",
    "\n",
    "# 모델 생성\n",
    "model = Sequential()\n",
    "model.add(LSTM(units=10, activation='relu', return_sequences=True, input_shape=(window_size, data_size)))\n",
    "model.add(Dropout(0.1))\n",
    "model.add(LSTM(units=10, activation='relu'))\n",
    "model.add(Dropout(0.1))\n",
    "model.add(Dense(units=1))\n",
    "model.summary()\n",
    "\n",
    "model.compile(optimizer='adam', loss='mean_squared_error')\n",
    "model.fit(train_x, train_y, epochs=60, batch_size=30)\n",
    "pred_y = model.predict(test_x)\n",
    "\n",
    "# Visualising the results\n",
    "plt.figure()\n",
    "plt.plot(test_y, color='red', label='real SEC stock price')\n",
    "plt.plot(pred_y, color='blue', label='predicted SEC stock price')\n",
    "plt.title('SEC stock price prediction')\n",
    "plt.xlabel('time')\n",
    "plt.ylabel('stock price')\n",
    "plt.legend()\n",
    "plt.show()\n",
    "\n",
    "# raw_df.close[-1] : dfy.close[-1] = x : pred_y[-1]\n",
    "print(\"Tomorrow's SEC price :\", raw_df.close[-1] * pred_y[-1] / dfy.close[-1], 'KRW')"
   ]
  }
 ],
 "metadata": {
  "kernelspec": {
   "display_name": "Python 3.10.4 ('study')",
   "language": "python",
   "name": "python3"
  },
  "language_info": {
   "codemirror_mode": {
    "name": "ipython",
    "version": 3
   },
   "file_extension": ".py",
   "mimetype": "text/x-python",
   "name": "python",
   "nbconvert_exporter": "python",
   "pygments_lexer": "ipython3",
   "version": "3.10.4"
  },
  "orig_nbformat": 4,
  "vscode": {
   "interpreter": {
    "hash": "7686ba3900ac7c249b87df7ba5470728244e461a13fc76511b10ac837ea0b4fa"
   }
  }
 },
 "nbformat": 4,
 "nbformat_minor": 2
}
