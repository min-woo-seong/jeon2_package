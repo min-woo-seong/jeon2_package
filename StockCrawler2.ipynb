{
 "cells": [
  {
   "cell_type": "markdown",
   "id": "896164f7",
   "metadata": {},
   "source": [
    "## 원본"
   ]
  },
  {
   "cell_type": "code",
   "execution_count": 1,
   "id": "37e078fd",
   "metadata": {},
   "outputs": [
    {
     "name": "stdout",
     "output_type": "stream",
     "text": [
      "['102280', '001440', '034020', '014990', '009810']\n"
     ]
    }
   ],
   "source": [
    "import requests\n",
    "from bs4 import BeautifulSoup\n",
    "\n",
    "URL = 'https://finance.naver.com/sise/sise_quant.nhn'\n",
    "res = requests.get(URL)\n",
    "# print(res.status_code)\n",
    "\n",
    "soup = BeautifulSoup(res.text, 'html.parser')\n",
    "stocks = soup.select('.type_2 tr')[2:]\n",
    "\n",
    "codes = []\n",
    "\n",
    "for stock in stocks:\n",
    "    try:\n",
    "        stock_n = stock.select_one('.tltle').text\n",
    "        price = stock.select_one('.number').text.replace(',', '')\n",
    "        code = stock.select_one('.tltle').attrs['href'][-6:]\n",
    "\n",
    "        if (('인버스' not in stock_n) and ('레버리지' not in stock_n)) and (int(price) <= 26000):\n",
    "            codes.append(code)\n",
    "        else:\n",
    "            pass\n",
    "    except:\n",
    "        continue\n",
    "        \n",
    "    if len(codes) == 5:\n",
    "        break\n",
    "        \n",
    "print(codes)"
   ]
  },
  {
   "cell_type": "markdown",
   "id": "1365d3d5",
   "metadata": {},
   "source": [
    "## 추가 중.."
   ]
  },
  {
   "cell_type": "code",
   "execution_count": 3,
   "id": "5b46cf38",
   "metadata": {},
   "outputs": [],
   "source": [
    "import requests\n",
    "from bs4 import BeautifulSoup\n",
    "\n",
    "URL = 'https://finance.naver.com/sise/sise_quant.nhn'\n",
    "res = requests.get(URL)\n",
    "# print(res.status_code)\n",
    "\n",
    "soup = BeautifulSoup(res.text, 'html.parser')\n",
    "stocks = soup.select('.type_2 tr')[2:]"
   ]
  },
  {
   "cell_type": "code",
   "execution_count": 4,
   "id": "c5cbda90",
   "metadata": {},
   "outputs": [
    {
     "data": {
      "text/plain": [
       "[<span class=\"tah p11 red02\">\n",
       " \t\t\t\t30\n",
       " \t\t\t\t</span>,\n",
       " <span class=\"tah p11 red01\">\n",
       " \t\t\t\t+0.95%\n",
       " \t\t\t\t</span>]"
      ]
     },
     "execution_count": 4,
     "metadata": {},
     "output_type": "execute_result"
    }
   ],
   "source": [
    "stocks[0].select('.tah.p11')"
   ]
  },
  {
   "cell_type": "code",
   "execution_count": 5,
   "id": "f7e2b2fc",
   "metadata": {},
   "outputs": [
    {
     "data": {
      "text/plain": [
       "'\\n\\t\\t\\t\\t30\\n\\t\\t\\t\\t'"
      ]
     },
     "execution_count": 5,
     "metadata": {},
     "output_type": "execute_result"
    }
   ],
   "source": [
    "stocks[0].select('.tah.p11')[0].text"
   ]
  },
  {
   "cell_type": "code",
   "execution_count": 6,
   "id": "5583b43e",
   "metadata": {},
   "outputs": [
    {
     "data": {
      "text/plain": [
       "'\\n\\t\\t\\t\\t+0.95%\\n\\t\\t\\t\\t'"
      ]
     },
     "execution_count": 6,
     "metadata": {},
     "output_type": "execute_result"
    }
   ],
   "source": [
    "stocks[0].select('.tah.p11')[1].text"
   ]
  },
  {
   "cell_type": "code",
   "execution_count": 7,
   "id": "3bcde46a",
   "metadata": {},
   "outputs": [],
   "source": [
    "import re"
   ]
  },
  {
   "cell_type": "code",
   "execution_count": 8,
   "id": "20c6ea1c",
   "metadata": {
    "scrolled": true
   },
   "outputs": [
    {
     "name": "stdout",
     "output_type": "stream",
     "text": [
      "\n",
      "\t\t\t\t30\n",
      "\t\t\t\t \n",
      "\t\t\t\t+0.95%\n",
      "\t\t\t\t\n"
     ]
    }
   ],
   "source": [
    "a = stocks[0].select('.tah.p11')[0].text\n",
    "b = stocks[0].select('.tah.p11')[1].text\n",
    "re_a = re.sub('[a-zA-Z]', '', a)\n",
    "re_b = re.sub('[a-zA-Z]', '', b)\n",
    "print(re_a, re_b)"
   ]
  },
  {
   "cell_type": "code",
   "execution_count": 9,
   "id": "c1002b3b",
   "metadata": {},
   "outputs": [
    {
     "name": "stdout",
     "output_type": "stream",
     "text": [
      "30 +0.95%\n"
     ]
    }
   ],
   "source": [
    "Notag_a = re.sub('\\t*|\\n*|(\\<[^\\>]*\\>)|\\n*\\t*', '', a)\n",
    "Notag_b = re.sub('\\t*|\\n*|(\\<[^\\>]*\\>)|\\n*\\t*', '', b)\n",
    "print(Notag_a, Notag_b)"
   ]
  },
  {
   "cell_type": "code",
   "execution_count": 36,
   "id": "fec40dbc",
   "metadata": {},
   "outputs": [
    {
     "name": "stdout",
     "output_type": "stream",
     "text": [
      "[<td class=\"number\">63,913,877</td>, <td class=\"number\">33,485</td>, <td class=\"number\">505</td>, <td class=\"number\">506</td>, <td class=\"number\">1,326</td>]\n",
      "63,913,877\n",
      "1,326\n"
     ]
    },
    {
     "data": {
      "text/plain": [
       "'63,913,877'"
      ]
     },
     "execution_count": 36,
     "metadata": {},
     "output_type": "execute_result"
    }
   ],
   "source": [
    "ccc = stocks[1].select('td.number')[3:-2]\n",
    "print(ccc, stocks[1].select('td.number')[3].text, stocks[1].select('td.number')[-3].text, sep = '\\n')\n",
    "ccc[0].text"
   ]
  },
  {
   "cell_type": "code",
   "execution_count": 35,
   "id": "66c4065c",
   "metadata": {},
   "outputs": [
    {
     "data": {
      "text/plain": [
       "'63,913,877'"
      ]
     },
     "execution_count": 35,
     "metadata": {},
     "output_type": "execute_result"
    }
   ],
   "source": [
    "pp = re.sub('\\t*|\\n*|(\\<[^\\>]*\\>)|\\n*\\t*|, ', '', str(ccc[0]))\n",
    "pp"
   ]
  },
  {
   "cell_type": "code",
   "execution_count": 14,
   "id": "057fb468",
   "metadata": {
    "scrolled": true
   },
   "outputs": [
    {
     "name": "stdout",
     "output_type": "stream",
     "text": [
      "<class 'bs4.element.Tag'>\n"
     ]
    }
   ],
   "source": [
    "print(type(ccc[0]))"
   ]
  },
  {
   "cell_type": "code",
   "execution_count": 15,
   "id": "3c4416e4",
   "metadata": {},
   "outputs": [
    {
     "name": "stdout",
     "output_type": "stream",
     "text": [
      "<td class=\"number\">63,913,877</td>\n",
      "<td class=\"number\">33,485</td>\n",
      "<td class=\"number\">505</td>\n",
      "<td class=\"number\">506</td>\n",
      "<td class=\"number\">1,326</td>\n"
     ]
    },
    {
     "data": {
      "text/plain": [
       "['63,913,877', '33,485', '505', '506', '1,326']"
      ]
     },
     "execution_count": 15,
     "metadata": {},
     "output_type": "execute_result"
    }
   ],
   "source": [
    "result = []\n",
    "\n",
    "for cc in ccc:\n",
    "    c = re.sub('\\t*|\\n*|(\\<[^\\>]*\\>)|\\n*\\t*|, ', '', str(cc))\n",
    "    print(cc)\n",
    "    result.append(c)\n",
    "result # 거래량, 거래대금, 매수호가, 매도호가, 시가총액"
   ]
  },
  {
   "cell_type": "code",
   "execution_count": 52,
   "id": "ce1186ed",
   "metadata": {},
   "outputs": [
    {
     "name": "stdout",
     "output_type": "stream",
     "text": [
      "['102280', '001440', '034020', '014990', '009810']\n",
      "\n",
      "{'종목명': '쌍방울', '현재가': '505', '전일비': '19', '등락률': '-3.63%', '거래량': '63,913,877', '시가총액': '1,326'}\n",
      "\n",
      "{'종목명': '대한전선', '현재가': '1720', '전일비': '20', '등락률': '-1.15%', '거래량': '20,225,837', '시가총액': '21,405'}\n",
      "\n",
      "{'종목명': '두산에너빌리티', '현재가': '19100', '전일비': '100', '등락률': '-0.52%', '거래량': '9,747,404', '시가총액': '121,917'}\n",
      "\n",
      "{'종목명': '인디에프', '현재가': '785', '전일비': '75', '등락률': '+10.56%', '거래량': '7,776,828', '시가총액': '555'}\n",
      "\n",
      "{'종목명': '플레이그램', '현재가': '1340', '전일비': '180', '등락률': '+15.52%', '거래량': '6,294,982', '시가총액': '1,202'}\n"
     ]
    }
   ],
   "source": [
    "import requests\n",
    "from bs4 import BeautifulSoup\n",
    "import re\n",
    "\n",
    "URL = 'https://finance.naver.com/sise/sise_quant.nhn'\n",
    "res = requests.get(URL)\n",
    "# print(res.status_code)\n",
    "\n",
    "soup = BeautifulSoup(res.text, 'html.parser')\n",
    "stocks = soup.select('.type_2 tr')[2:]\n",
    "\n",
    "codes = []\n",
    "keys = ['종목명', '현재가', '전일비', '등락률', '거래량', '시가총액']\n",
    "result = []\n",
    "\n",
    "for stock in stocks:\n",
    "    try:\n",
    "        stock_n = stock.select_one('.tltle').text\n",
    "        price = stock.select_one('.number').text.replace(',', '')\n",
    "\n",
    "        if (('인버스' not in stock_n) and ('레버리지' not in stock_n)) and (int(price) <= 26000):\n",
    "            \n",
    "            code = stock.select_one('.tltle').attrs['href'][-6:]\n",
    "            codes.append(code)\n",
    "            \n",
    "            updown = stock.select('.tah.p11')[0].text\n",
    "            percentage = stock.select('.tah.p11')[1].text\n",
    "            \n",
    "            re_updown = re.sub('\\t*|\\n*|(\\<[^\\>]*\\>)|\\n*\\t*', '', updown)\n",
    "            re_percentage = re.sub('\\t*|\\n*|(\\<[^\\>]*\\>)|\\n*\\t*', '', percentage)\n",
    "            \n",
    "            market = stock.select('td.number')[3].text\n",
    "            volumn = stock.select('td.number')[-3].text\n",
    "            \n",
    "            values = [stock_n, price, re_updown, re_percentage, market, volumn]\n",
    "            \n",
    "            info_dict = dict(zip(keys, values))\n",
    "            result.append(info_dict)\n",
    "        \n",
    "        else:\n",
    "            pass\n",
    "    except:\n",
    "        continue\n",
    "        \n",
    "    if len(codes) == 5:\n",
    "        break\n",
    "        \n",
    "print(codes)\n",
    "\n",
    "for r in result:\n",
    "    print()\n",
    "    print(r)"
   ]
  }
 ],
 "metadata": {
  "kernelspec": {
   "display_name": "Python [conda env:study] *",
   "language": "python",
   "name": "conda-env-study-py"
  },
  "language_info": {
   "codemirror_mode": {
    "name": "ipython",
    "version": 3
   },
   "file_extension": ".py",
   "mimetype": "text/x-python",
   "name": "python",
   "nbconvert_exporter": "python",
   "pygments_lexer": "ipython3",
   "version": "3.10.4"
  }
 },
 "nbformat": 4,
 "nbformat_minor": 5
}
