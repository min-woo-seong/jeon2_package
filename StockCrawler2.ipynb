{
 "cells": [
  {
   "cell_type": "markdown",
   "id": "896164f7",
   "metadata": {},
   "source": [
    "## 원본"
   ]
  },
  {
   "cell_type": "code",
   "execution_count": 30,
   "id": "37e078fd",
   "metadata": {},
   "outputs": [
    {
     "name": "stdout",
     "output_type": "stream",
     "text": [
      "['001570', '009270', '006220', '010580', '096300']\n"
     ]
    }
   ],
   "source": [
    "import requests\n",
    "from bs4 import BeautifulSoup\n",
    "\n",
    "URL = 'https://finance.naver.com/sise/sise_quant.nhn'\n",
    "res = requests.get(URL)\n",
    "# print(res.status_code)\n",
    "\n",
    "soup = BeautifulSoup(res.text, 'html.parser')\n",
    "stocks = soup.select('.type_2 tr')[2:]\n",
    "\n",
    "codes = []\n",
    "\n",
    "for stock in stocks:\n",
    "    try:\n",
    "        stock_n = stock.select_one('.tltle').text\n",
    "        price = stock.select_one('.number').text.replace(',', '')\n",
    "        code = stock.select_one('.tltle').attrs['href'][-6:]\n",
    "\n",
    "        if (('인버스' not in stock_n) and ('레버리지' not in stock_n)) and (int(price) <= 26000):\n",
    "            codes.append(code)\n",
    "        else:\n",
    "            continue\n",
    "    except:\n",
    "        pass\n",
    "        \n",
    "    if len(codes) == 5:\n",
    "        break\n",
    "        \n",
    "print(codes)"
   ]
  },
  {
   "cell_type": "markdown",
   "id": "1365d3d5",
   "metadata": {},
   "source": [
    "## 작업 중.. \n",
    "### (codes에 담긴 종목 중 변동성 돌파 기반으로 매수해야 할 종목이 있는지 추가적으로 데이터 크롤링 후 시각화 예정)"
   ]
  },
  {
   "cell_type": "code",
   "execution_count": 3,
   "id": "5b46cf38",
   "metadata": {},
   "outputs": [],
   "source": [
    "import requests\n",
    "from bs4 import BeautifulSoup\n",
    "\n",
    "URL = 'https://finance.naver.com/sise/sise_quant.nhn'\n",
    "res = requests.get(URL)\n",
    "# print(res.status_code)\n",
    "\n",
    "soup = BeautifulSoup(res.text, 'html.parser')\n",
    "stocks = soup.select('.type_2 tr')[2:]"
   ]
  },
  {
   "cell_type": "code",
   "execution_count": 4,
   "id": "c5cbda90",
   "metadata": {},
   "outputs": [
    {
     "data": {
      "text/plain": [
       "[<span class=\"tah p11 red02\">\n",
       " \t\t\t\t30\n",
       " \t\t\t\t</span>,\n",
       " <span class=\"tah p11 red01\">\n",
       " \t\t\t\t+0.95%\n",
       " \t\t\t\t</span>]"
      ]
     },
     "execution_count": 4,
     "metadata": {},
     "output_type": "execute_result"
    }
   ],
   "source": [
    "stocks[0].select('.tah.p11')"
   ]
  },
  {
   "cell_type": "code",
   "execution_count": 5,
   "id": "f7e2b2fc",
   "metadata": {},
   "outputs": [
    {
     "data": {
      "text/plain": [
       "'\\n\\t\\t\\t\\t30\\n\\t\\t\\t\\t'"
      ]
     },
     "execution_count": 5,
     "metadata": {},
     "output_type": "execute_result"
    }
   ],
   "source": [
    "stocks[0].select('.tah.p11')[0].text"
   ]
  },
  {
   "cell_type": "code",
   "execution_count": 6,
   "id": "5583b43e",
   "metadata": {},
   "outputs": [
    {
     "data": {
      "text/plain": [
       "'\\n\\t\\t\\t\\t+0.95%\\n\\t\\t\\t\\t'"
      ]
     },
     "execution_count": 6,
     "metadata": {},
     "output_type": "execute_result"
    }
   ],
   "source": [
    "stocks[0].select('.tah.p11')[1].text"
   ]
  },
  {
   "cell_type": "code",
   "execution_count": 7,
   "id": "3bcde46a",
   "metadata": {},
   "outputs": [],
   "source": [
    "import re"
   ]
  },
  {
   "cell_type": "code",
   "execution_count": 8,
   "id": "20c6ea1c",
   "metadata": {
    "scrolled": true
   },
   "outputs": [
    {
     "name": "stdout",
     "output_type": "stream",
     "text": [
      "\n",
      "\t\t\t\t30\n",
      "\t\t\t\t \n",
      "\t\t\t\t+0.95%\n",
      "\t\t\t\t\n"
     ]
    }
   ],
   "source": [
    "a = stocks[0].select('.tah.p11')[0].text\n",
    "b = stocks[0].select('.tah.p11')[1].text\n",
    "re_a = re.sub('[a-zA-Z]', '', a)\n",
    "re_b = re.sub('[a-zA-Z]', '', b)\n",
    "print(re_a, re_b)"
   ]
  },
  {
   "cell_type": "code",
   "execution_count": 9,
   "id": "c1002b3b",
   "metadata": {},
   "outputs": [
    {
     "name": "stdout",
     "output_type": "stream",
     "text": [
      "30 +0.95%\n"
     ]
    }
   ],
   "source": [
    "Notag_a = re.sub('\\t*|\\n*|(\\<[^\\>]*\\>)|\\n*\\t*', '', a)\n",
    "Notag_b = re.sub('\\t*|\\n*|(\\<[^\\>]*\\>)|\\n*\\t*', '', b)\n",
    "print(Notag_a, Notag_b)"
   ]
  },
  {
   "cell_type": "code",
   "execution_count": 36,
   "id": "fec40dbc",
   "metadata": {},
   "outputs": [
    {
     "name": "stdout",
     "output_type": "stream",
     "text": [
      "[<td class=\"number\">63,913,877</td>, <td class=\"number\">33,485</td>, <td class=\"number\">505</td>, <td class=\"number\">506</td>, <td class=\"number\">1,326</td>]\n",
      "63,913,877\n",
      "1,326\n"
     ]
    },
    {
     "data": {
      "text/plain": [
       "'63,913,877'"
      ]
     },
     "execution_count": 36,
     "metadata": {},
     "output_type": "execute_result"
    }
   ],
   "source": [
    "ccc = stocks[1].select('td.number')[3:-2]\n",
    "print(ccc, stocks[1].select('td.number')[3].text, stocks[1].select('td.number')[-3].text, sep = '\\n')\n",
    "ccc[0].text"
   ]
  },
  {
   "cell_type": "code",
   "execution_count": 35,
   "id": "66c4065c",
   "metadata": {},
   "outputs": [
    {
     "data": {
      "text/plain": [
       "'63,913,877'"
      ]
     },
     "execution_count": 35,
     "metadata": {},
     "output_type": "execute_result"
    }
   ],
   "source": [
    "pp = re.sub('\\t*|\\n*|(\\<[^\\>]*\\>)|\\n*\\t*|, ', '', str(ccc[0]))\n",
    "pp"
   ]
  },
  {
   "cell_type": "code",
   "execution_count": 14,
   "id": "057fb468",
   "metadata": {
    "scrolled": true
   },
   "outputs": [
    {
     "name": "stdout",
     "output_type": "stream",
     "text": [
      "<class 'bs4.element.Tag'>\n"
     ]
    }
   ],
   "source": [
    "print(type(ccc[0]))"
   ]
  },
  {
   "cell_type": "code",
   "execution_count": 15,
   "id": "3c4416e4",
   "metadata": {},
   "outputs": [
    {
     "name": "stdout",
     "output_type": "stream",
     "text": [
      "<td class=\"number\">63,913,877</td>\n",
      "<td class=\"number\">33,485</td>\n",
      "<td class=\"number\">505</td>\n",
      "<td class=\"number\">506</td>\n",
      "<td class=\"number\">1,326</td>\n"
     ]
    },
    {
     "data": {
      "text/plain": [
       "['63,913,877', '33,485', '505', '506', '1,326']"
      ]
     },
     "execution_count": 15,
     "metadata": {},
     "output_type": "execute_result"
    }
   ],
   "source": [
    "result = []\n",
    "\n",
    "for cc in ccc:\n",
    "    c = re.sub('\\t*|\\n*|(\\<[^\\>]*\\>)|\\n*\\t*|, ', '', str(cc))\n",
    "    print(cc)\n",
    "    result.append(c)\n",
    "result # 거래량, 거래대금, 매수호가, 매도호가, 시가총액"
   ]
  },
  {
   "cell_type": "code",
   "execution_count": 32,
   "id": "ce1186ed",
   "metadata": {
    "scrolled": false
   },
   "outputs": [
    {
     "name": "stdout",
     "output_type": "stream",
     "text": [
      "['001570', '009270', '006220', '010580', '096300']\n",
      "\n",
      "{'종목명': '금양', '현재가': '17450', '전일비': '600', '등락률': '+3.56%', '거래량': '25,566,113', '시가총액': '10,048'}\n",
      "\n",
      "{'종목명': '신원', '현재가': '1680', '전일비': '55', '등락률': '+3.38%', '거래량': '16,567,236', '시가총액': '1,606'}\n",
      "\n",
      "{'종목명': '제주은행', '현재가': '7020', '전일비': '730', '등락률': '+11.61%', '거래량': '11,798,306', '시가총액': '2,255'}\n",
      "\n",
      "{'종목명': '에스엠벡셀', '현재가': '2700', '전일비': '405', '등락률': '+17.65%', '거래량': '11,708,144', '시가총액': '3,004'}\n",
      "\n",
      "{'종목명': '베트남개발1', '현재가': '71', '전일비': '5', '등락률': '+7.58%', '거래량': '11,487,373', '시가총액': '98'}\n"
     ]
    }
   ],
   "source": [
    "import requests\n",
    "from bs4 import BeautifulSoup\n",
    "import re\n",
    "\n",
    "URL = 'https://finance.naver.com/sise/sise_quant.nhn'\n",
    "res = requests.get(URL)\n",
    "# print(res.status_code)\n",
    "\n",
    "soup = BeautifulSoup(res.text, 'html.parser')\n",
    "stocks = soup.select('.type_2 tr')[2:]\n",
    "\n",
    "codes = []\n",
    "keys = ['종목명', '현재가', '전일비', '등락률', '거래량', '시가총액']\n",
    "result = []\n",
    "\n",
    "for stock in stocks:\n",
    "    try:\n",
    "        stock_n = stock.select_one('.tltle').text\n",
    "        price = stock.select_one('.number').text.replace(',', '')\n",
    "\n",
    "        if (('인버스' not in stock_n) and ('레버리지' not in stock_n)) and (int(price) <= 26000):\n",
    "            \n",
    "            code = stock.select_one('.tltle').attrs['href'][-6:]\n",
    "            codes.append(code)\n",
    "            \n",
    "            updown = stock.select('.tah.p11')[0].text\n",
    "            percentage = stock.select('.tah.p11')[1].text\n",
    "            \n",
    "            re_updown = re.sub('\\t*|\\n*|(\\<[^\\>]*\\>)|\\n*\\t*', '', updown)\n",
    "            re_percentage = re.sub('\\t*|\\n*|(\\<[^\\>]*\\>)|\\n*\\t*', '', percentage)\n",
    "            \n",
    "            market = stock.select('td.number')[3].text\n",
    "            volumn = stock.select('td.number')[-3].text\n",
    "            \n",
    "            values = [stock_n, price, re_updown, re_percentage, market, volumn]\n",
    "            \n",
    "            info_dict = dict(zip(keys, values))\n",
    "            result.append(info_dict)\n",
    "        \n",
    "        else:\n",
    "            continue\n",
    "    except:\n",
    "        pass\n",
    "        \n",
    "    if len(codes) == 5:\n",
    "        break\n",
    "        \n",
    "print(codes)\n",
    "\n",
    "for r in result:\n",
    "    print()\n",
    "    print(r)"
   ]
  },
  {
   "cell_type": "code",
   "execution_count": 33,
   "id": "8f5455dc",
   "metadata": {
    "scrolled": true
   },
   "outputs": [
    {
     "name": "stdout",
     "output_type": "stream",
     "text": [
      "['001570', '009270', '006220', '010580', '096300'] [<class 'str'>, <class 'str'>, <class 'str'>, <class 'str'>, <class 'str'>]\n",
      "\n",
      "{'종목명': '금양', '현재가': '17450', '전일비': '600', '등락률': '+3.56%', '거래량': '25,566,113', '시가총액': '10,048'}\n",
      "\n",
      "{'종목명': '신원', '현재가': '1680', '전일비': '55', '등락률': '+3.38%', '거래량': '16,567,236', '시가총액': '1,606'}\n",
      "\n",
      "{'종목명': '제주은행', '현재가': '7020', '전일비': '730', '등락률': '+11.61%', '거래량': '11,798,306', '시가총액': '2,255'}\n",
      "\n",
      "{'종목명': '에스엠벡셀', '현재가': '2700', '전일비': '405', '등락률': '+17.65%', '거래량': '11,708,144', '시가총액': '3,004'}\n",
      "\n",
      "{'종목명': '베트남개발1', '현재가': '71', '전일비': '5', '등락률': '+7.58%', '거래량': '11,487,373', '시가총액': '98'}\n",
      "https://finance.naver.com/item/sise_day.naver?code=001570\n",
      "https://finance.naver.com/item/sise_day.naver?code=009270\n",
      "https://finance.naver.com/item/sise_day.naver?code=006220\n",
      "https://finance.naver.com/item/sise_day.naver?code=010580\n",
      "https://finance.naver.com/item/sise_day.naver?code=096300\n"
     ]
    }
   ],
   "source": [
    "import requests\n",
    "from bs4 import BeautifulSoup\n",
    "import re\n",
    "\n",
    "URL = 'https://finance.naver.com/sise/sise_quant.nhn'\n",
    "res = requests.get(URL)\n",
    "# print(res.status_code)\n",
    "\n",
    "soup = BeautifulSoup(res.text, 'html.parser')\n",
    "stocks = soup.select('.type_2 tr')[2:]\n",
    "\n",
    "codes = []\n",
    "keys = ['종목명', '현재가', '전일비', '등락률', '거래량', '시가총액']\n",
    "result = []\n",
    "urls = []\n",
    "\n",
    "for stock in stocks:\n",
    "    try:\n",
    "        company = stock.select_one('.tltle').text\n",
    "        price = stock.select_one('.number').text.replace(',', '')\n",
    "\n",
    "        if (('인버스' not in company) and ('레버리지' not in company)) and (int(price) <= 26000):\n",
    "            \n",
    "            code = stock.select_one('.tltle').attrs['href'][-6:] # 종목코드 가져오기\n",
    "            codes.append(code)\n",
    "            \n",
    "            updown = stock.select('.tah.p11')[0].text # 전일비 가져오기\n",
    "            percentage = stock.select('.tah.p11')[1].text # 등락률 가져오기\n",
    "            \n",
    "            re_updown = re.sub('\\t*|\\n*|(\\<[^\\>]*\\>)|\\n*\\t*', '', updown) # 전일비 정규표현식으로 클렌징\n",
    "            re_percentage = re.sub('\\t*|\\n*|(\\<[^\\>]*\\>)|\\n*\\t*', '', percentage) # 등락률 정규표현식으로 클렌징\n",
    "            \n",
    "            market = stock.select('td.number')[3].text # 거래량 가져오기\n",
    "            volumn = stock.select('td.number')[-3].text # 시가총액 가져오기\n",
    "            \n",
    "            values = [company, price, re_updown, re_percentage, market, volumn]\n",
    "            \n",
    "            info_dict = dict(zip(keys, values))\n",
    "            result.append(info_dict)\n",
    "            \n",
    "            sise_URL = 'https://finance.naver.com/item/sise_day.naver?code=' + code # 각 종목의 시세 탭으로 진입\n",
    "            urls.append(sise_URL)\n",
    "#             sise_res = requests.get(sise_URL)\n",
    "        \n",
    "        else:\n",
    "            continue\n",
    "    except:\n",
    "        pass\n",
    "        \n",
    "    if len(codes) == 5:\n",
    "        break\n",
    "        \n",
    "print(codes, [type(i) for i in codes])\n",
    "\n",
    "for r in result:\n",
    "    print()\n",
    "    print(r)\n",
    "\n",
    "print(*urls, sep='\\n')\n",
    "\n",
    "# for url in urls:\n",
    "#     res = requests.get(url)\n",
    "#     soup = BeautifulSoup(res.text, 'html.parser')"
   ]
  },
  {
   "cell_type": "markdown",
   "id": "21552089",
   "metadata": {},
   "source": [
    "## 고정 돌파계수 K vs. 시장 상황(전날 추세 - 9/8 목)에 따른 변동 돌파계수 K"
   ]
  },
  {
   "cell_type": "markdown",
   "id": "0fd16dcb",
   "metadata": {},
   "source": [
    "#### 날짜\n",
    "#### 종가\n",
    "#### 전일비\n",
    "#### 시가\n",
    "#### 고가\n",
    "#### 저가\n",
    "#### 거래량\n",
    " \n",
    "#### 특정 종목의 (전일 고가-전일 저가)가 갑자기 크게 증가한 다음날 (상한가를 치거나 주가가 많이 오른 경우) \n",
    "#### 전날보다는 못하지만 어느 정도 상승장을 이어가고 있을 때 고정된 돌파계수 0.5 때문에 매수 타이밍을 못 잡는 경우가 생길 수도 있고 \n",
    "#### 반대의 경우, 즉 (전일 고가-전일 저가)가 작았던 다음날 작은 주가 상승에도 매수를 시도하는 경우가 생기기도 함"
   ]
  },
  {
   "cell_type": "code",
   "execution_count": 27,
   "id": "f749d2f1",
   "metadata": {
    "scrolled": false
   },
   "outputs": [
    {
     "name": "stdout",
     "output_type": "stream",
     "text": [
      "<tr onmouseout=\"mouseOut(this)\" onmouseover=\"mouseOver(this)\">\n",
      "<td align=\"center\"><span class=\"tah p10 gray03\">2022.09.08</span></td>\n",
      "<td class=\"num\"><span class=\"tah p11\">17,450</span></td>\n",
      "<td class=\"num\">\n",
      "<img alt=\"상승\" height=\"6\" src=\"https://ssl.pstatic.net/imgstock/images/images4/ico_up.gif\" style=\"margin-right:4px;\" width=\"7\"/><span class=\"tah p11 red02\">\n",
      "\t\t\t\t600\n",
      "\t\t\t\t</span>\n",
      "</td>\n",
      "<td class=\"num\"><span class=\"tah p11\">16,700</span></td>\n",
      "<td class=\"num\"><span class=\"tah p11\">21,250</span></td>\n",
      "<td class=\"num\"><span class=\"tah p11\">16,250</span></td>\n",
      "<td class=\"num\"><span class=\"tah p11\">25,566,113</span></td>\n",
      "</tr> \n",
      "최근 날짜: 2022.09.08, \n",
      "시가: 16700, \n",
      "종가: 17450, \n",
      "고가: 21250, \n",
      "저가: 16250, \n",
      "돌파계수 K: 0.85, \n",
      "매수 타겟가: 20950.0\n",
      "19200.0 20950.0 차이: 20950.0 - 19200.0 = 1750.0\n"
     ]
    }
   ],
   "source": [
    "import requests\n",
    "from bs4 import BeautifulSoup\n",
    "\n",
    "headers = {'user-agent': 'Mozilla/5.0 (X11; Ubuntu; Linux x86_64; rv:104.0) Gecko/20100101 Firefox/104.0'}\n",
    "sise_URL = 'https://finance.naver.com/item/sise_day.naver?code=001570'\n",
    "sise_res = requests.get(sise_URL, headers=headers)\n",
    "# print(res.status_code)\n",
    "\n",
    "soup = BeautifulSoup(sise_res.text, 'html.parser')\n",
    "prices = soup.select('.type2 tr')[2]\n",
    "\n",
    "latest_date = prices.select_one('.tah.p10.gray03').text # 최근 날짜\n",
    "start_price = int(prices.select('.tah.p11')[2].text.replace(',', '')) # 전날 시가이기 때문에 필요 없음. 당일 시가로 대체해야\n",
    "end_price = int(prices.select('.tah.p11')[0].text.replace(',', '')) # 종가\n",
    "highest_price = int(prices.select('.tah.p11')[3].text.replace(',', '')) # 고가\n",
    "lowest_price = int(prices.select('.tah.p11')[4].text.replace(',', '')) # 저가\n",
    "\n",
    "# K = 0.5 # 고정 돌파계수 K\n",
    "K = 1 - (abs(start_price - end_price) / (highest_price - lowest_price)) # 돌파계수 K, 9/8 - 0.85\n",
    "\n",
    "target_price = start_price + (highest_price - lowest_price) * K # 매수 타켓가\n",
    "\n",
    "print(prices, f'\\n최근 날짜: {latest_date}, \\n시가: {start_price}, \\n종가: {end_price}, \\n고가: {highest_price}, \\n저가: {lowest_price}, \\n돌파계수 K: {K}, \\n매수 타겟가: {target_price}')\n",
    "\n",
    "fixedK = start_price + (highest_price - lowest_price) * 0.5 # 돌파계수 K가 default 0.5일 때. 매수 타켓가: 19200\n",
    "flexibleK = start_price + (highest_price - lowest_price) * K # 돌파계수 K가 시장 상황에 따라 0.85일 때. 매수 타켓가: 20950\n",
    "print(fixedK, flexibleK, f'차이: {flexibleK} - {fixedK} =', abs(flexibleK - fixedK))"
   ]
  },
  {
   "cell_type": "markdown",
   "id": "0ae48d57",
   "metadata": {},
   "source": [
    "## 1. 시장 상황(추세)에 따른 돌파계수 K를 구하기 귀해 열흘 치 주가 정보 가져와서 평균을 구하자\n",
    "\n",
    "## 2. 열흘 치 주가 정보를 고정/변동/평균 K로 운영했을 때 예상 수익을 비교해보자 (백테스트)\n",
    "- ### 고정 K: -200, 변동 K: -401, 변동 K 평균: -1168"
   ]
  },
  {
   "cell_type": "code",
   "execution_count": 98,
   "id": "073a06a9",
   "metadata": {
    "scrolled": false
   },
   "outputs": [
    {
     "name": "stdout",
     "output_type": "stream",
     "text": [
      "날짜: 2022.09.08, \n",
      "시가: 16700, \n",
      "종가: 17450, \n",
      "고가: 21250, \n",
      "저가: 16250,               \n",
      "변동 돌파계수 K: 0.85\n",
      "차이: 변동 K 20950 - 고정 K 19200 = 1750\n",
      "매수 여부(변동 K): True\n",
      "고정 K 예상 수익: -1750, 변동 K 예상 수익: -3500, 승부: 고정 K 승리\n",
      "\n",
      "날짜: 2022.09.07, \n",
      "시가: 15200, \n",
      "종가: 16850, \n",
      "고가: 16850, \n",
      "저가: 14950,               \n",
      "변동 돌파계수 K: 0.13\n",
      "차이: 변동 K 15447 - 고정 K 16150 = 703\n",
      "매수 여부(변동 K): True\n",
      "고정 K 예상 수익: 700, 변동 K 예상 수익: 1403, 승부: 변동 K 승리\n",
      "\n",
      "날짜: 2022.09.06, \n",
      "시가: 12950, \n",
      "종가: 14850, \n",
      "고가: 15650, \n",
      "저가: 12900,               \n",
      "변동 돌파계수 K: 0.31\n",
      "차이: 변동 K 13802 - 고정 K 14325 = 523\n",
      "매수 여부(변동 K): True\n",
      "고정 K 예상 수익: 525, 변동 K 예상 수익: 1048, 승부: 변동 K 승리\n",
      "\n",
      "날짜: 2022.09.05, \n",
      "시가: 12600, \n",
      "종가: 13150, \n",
      "고가: 13550, \n",
      "저가: 11350,               \n",
      "변동 돌파계수 K: 0.75\n",
      "차이: 변동 K 14250 - 고정 K 13700 = 550\n",
      "매수 여부(변동 K): False\n",
      "고정 K 예상 수익: 0, 변동 K 예상 수익: 0, 승부: 동점\n",
      "\n",
      "날짜: 2022.09.02, \n",
      "시가: 12150, \n",
      "종가: 12100, \n",
      "고가: 12250, \n",
      "저가: 11800,               \n",
      "변동 돌파계수 K: 0.89\n",
      "차이: 변동 K 12550 - 고정 K 12375 = 175\n",
      "매수 여부(변동 K): False\n",
      "고정 K 예상 수익: 0, 변동 K 예상 수익: 0, 승부: 동점\n",
      "\n",
      "날짜: 2022.09.01, \n",
      "시가: 11700, \n",
      "종가: 12100, \n",
      "고가: 12250, \n",
      "저가: 11700,               \n",
      "변동 돌파계수 K: 0.27\n",
      "차이: 변동 K 11848 - 고정 K 11975 = 127\n",
      "매수 여부(변동 K): True\n",
      "고정 K 예상 수익: 125, 변동 K 예상 수익: 252, 승부: 변동 K 승리\n",
      "\n",
      "날짜: 2022.08.31, \n",
      "시가: 11800, \n",
      "종가: 12050, \n",
      "고가: 13150, \n",
      "저가: 11050,               \n",
      "변동 돌파계수 K: 0.88\n",
      "차이: 변동 K 13648 - 고정 K 12850 = 798\n",
      "매수 여부(변동 K): False\n",
      "고정 K 예상 수익: 0, 변동 K 예상 수익: 0, 승부: 동점\n",
      "\n",
      "날짜: 2022.08.30, \n",
      "시가: 11650, \n",
      "종가: 11900, \n",
      "고가: 11900, \n",
      "저가: 11400,               \n",
      "변동 돌파계수 K: 0.5\n",
      "차이: 변동 K 11900 - 고정 K 11900 = 0\n",
      "매수 여부(변동 K): True\n",
      "고정 K 예상 수익: 0, 변동 K 예상 수익: 0, 승부: 동점\n",
      "\n",
      "날짜: 2022.08.29, \n",
      "시가: 10750, \n",
      "종가: 11650, \n",
      "고가: 12000, \n",
      "저가: 10600,               \n",
      "변동 돌파계수 K: 0.36\n",
      "차이: 변동 K 11254 - 고정 K 11450 = 196\n",
      "매수 여부(변동 K): True\n",
      "고정 K 예상 수익: 200, 변동 K 예상 수익: 396, 승부: 변동 K 승리\n",
      "\n",
      "날짜: 2022.08.26, \n",
      "시가: 11150, \n",
      "종가: 11200, \n",
      "고가: 11300, \n",
      "저가: 10850,               \n",
      "변동 돌파계수 K: 0.89\n",
      "차이: 변동 K 11550 - 고정 K 11375 = 175\n",
      "매수 여부(변동 K): False\n",
      "고정 K 예상 수익: 0, 변동 K 예상 수익: 0, 승부: 동점\n",
      "\n",
      "고정 K로 열흘 운용했을 때 예상 수익: -200, 변동 K로 열흘 운용했을 때 예상 수익: -401\n",
      "경기가 안 좋다.. 하락장!\n",
      "\n",
      "변동 K의 열흘 치 평균: 0.58\n"
     ]
    }
   ],
   "source": [
    "import requests\n",
    "from bs4 import BeautifulSoup\n",
    "\n",
    "headers = {'user-agent': 'Mozilla/5.0 (X11; Ubuntu; Linux x86_64; rv:104.0) Gecko/20100101 Firefox/104.0'}\n",
    "sise_URL = 'https://finance.naver.com/item/sise_day.naver?code=001570'\n",
    "sise_res = requests.get(sise_URL, headers=headers)\n",
    "# print(res.status_code)\n",
    "\n",
    "soup = BeautifulSoup(sise_res.text, 'html.parser')\n",
    "prices = soup.select('.type2 tr')[2:-1] # 최근 열흘치 주가 정보 가져오기\n",
    "# print(prices[-1].text)\n",
    "\n",
    "fixedKprofits = 0\n",
    "flexibleKprofits = 0\n",
    "flexibleKs = 0\n",
    "\n",
    "for price in prices:\n",
    "#     print(price.text)\n",
    "    \n",
    "    try:\n",
    "        latest_date = price.select_one('.tah.p10.gray03').text # 최근 날짜\n",
    "        start_price = int(price.select('.tah.p11')[2].text.replace(',', '')) # 전날 시가이기 때문에 필요 없음. 당일 시가로 대체해야\n",
    "        end_price = int(price.select('.tah.p11')[0].text.replace(',', '')) # 종가\n",
    "        highest_price = int(price.select('.tah.p11')[3].text.replace(',', '')) # 고가\n",
    "        lowest_price = int(price.select('.tah.p11')[4].text.replace(',', '')) # 저가\n",
    "        \n",
    "        K = 1 - (abs(start_price - end_price) / (highest_price - lowest_price)) # 돌파계수 K, 9/8 - 0.85\n",
    "        K = round(K, 2)\n",
    "        flexibleKs += K # 변동 K의 평균 구하기\n",
    "\n",
    "        fixedKtarget = int(start_price + (highest_price - lowest_price) * 0.5) # 돌파계수 K가 default 0.5일 때 매수 타켓가\n",
    "        flexibleKtarget = int(start_price + (highest_price - lowest_price) * K) # 돌파계수 K가 시장 상황에 따라 0.85일 때 매수 타켓가\n",
    "\n",
    "        print(f'날짜: {latest_date}, \\n시가: {start_price}, \\n종가: {end_price}, \\n고가: {highest_price}, \\n저가: {lowest_price}, \\\n",
    "              \\n변동 돌파계수 K: {K}')\n",
    "        \n",
    "        gap = abs(flexibleKtarget - fixedKtarget)\n",
    "        \n",
    "        print(f'차이: 변동 K {flexibleKtarget} - 고정 K {fixedKtarget} =', gap)\n",
    "        \n",
    "        # 현재가가 매수 타겟가를 넘어서자 마자 매수할 것이고, 종가에 근접한 가격으로 매도할 것이기 때문에 데이 트레이딩 수익 예측이 가능함\n",
    "        BuyOrDont = highest_price >= flexibleKtarget # 매수 여부 확인\n",
    "        \n",
    "        if BuyOrDont == True: # 매수 했을 경우 수익 계산\n",
    "            fixedKprofit = end_price - fixedKtarget # 고정 K 예상 수익\n",
    "            flexibleKprofit = end_price - flexibleKtarget # 변동 K 예상 수익\n",
    "\n",
    "            fixedKprofits += fixedKprofit # 고정 K 예상 누적 수익\n",
    "            flexibleKprofits += flexibleKprofit # 변동 K 예상 누적 수익\n",
    "        \n",
    "            if flexibleKprofit > fixedKprofit:\n",
    "                versus = '변동 K 승리'\n",
    "\n",
    "            elif flexibleKprofit < fixedKprofit:\n",
    "                versus = '고정 K 승리'\n",
    "                \n",
    "        else:\n",
    "            fixedKprofit = 0 # 고정 K 예상 수익\n",
    "            flexibleKprofit = 0 # 변동 K 예상 수익\n",
    "            versus = '동점'\n",
    "        \n",
    "        print(f'매수 여부(변동 K): {BuyOrDont}')\n",
    "        print(f'고정 K 예상 수익: {fixedKprofit}, 변동 K 예상 수익: {flexibleKprofit}, 승부: {versus}\\n')\n",
    "        \n",
    "    except:\n",
    "        continue\n",
    "    \n",
    "print(f'고정 K로 열흘 운용했을 때 예상 수익: {fixedKprofits}, 변동 K로 열흘 운용했을 때 예상 수익: {flexibleKprofits}')\n",
    "# 고정 K로 열흘 운용했을 때 예상 수익: -200, 변동 K로 열흘 운용했을 때 예상 수익: -401, 변동 K 평균으로 열흘 운용했을 때 예상 수익: -1168\n",
    "\n",
    "if fixedKprofits < 0 and flexibleKprofits < 0:\n",
    "    print('경기가 안 좋다.. 하락장!\\n')\n",
    "    \n",
    "elif fixedKprofits <= 1000 and flexibleKprofits <= 1000:\n",
    "    print('경기가 그냥 그렇다. 보합권!\\n')\n",
    "    \n",
    "else:\n",
    "    print('경기가 좋다! 상승장!\\n')\n",
    "    \n",
    "print(f'변동 K의 열흘 치 평균: {round(flexibleKs / 10, 2)}')"
   ]
  }
 ],
 "metadata": {
  "kernelspec": {
   "display_name": "Python 3 (ipykernel)",
   "language": "python",
   "name": "python3"
  },
  "language_info": {
   "codemirror_mode": {
    "name": "ipython",
    "version": 3
   },
   "file_extension": ".py",
   "mimetype": "text/x-python",
   "name": "python",
   "nbconvert_exporter": "python",
   "pygments_lexer": "ipython3",
   "version": "3.10.4"
  },
  "vscode": {
   "interpreter": {
    "hash": "7686ba3900ac7c249b87df7ba5470728244e461a13fc76511b10ac837ea0b4fa"
   }
  }
 },
 "nbformat": 4,
 "nbformat_minor": 5
}
