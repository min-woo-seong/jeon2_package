{
 "cells": [
  {
   "cell_type": "markdown",
   "id": "896164f7",
   "metadata": {},
   "source": [
    "## 원본"
   ]
  },
  {
   "cell_type": "markdown",
   "id": "5551f6cc",
   "metadata": {},
   "source": [
    "<파서 라이브러리>\n",
    "<br>\n",
    "lxml 사용 시\n",
    "CPU times: user 147 ms, sys: 0 ns, total: 147 ms\n",
    "Wall time: 203 ms\n",
    "\n",
    "html.parser 사용 시\n",
    "CPU times: user 167 ms, sys: 2.19 ms, total: 170 ms\n",
    "Wall time: 222 ms"
   ]
  },
  {
   "cell_type": "code",
   "execution_count": 7,
   "id": "37e078fd",
   "metadata": {},
   "outputs": [
    {
     "name": "stdout",
     "output_type": "stream",
     "text": [
      "['001570', '009270', '006220', '010580', '096300']\n"
     ]
    }
   ],
   "source": [
    "# %%time\n",
    "\n",
    "import requests\n",
    "from bs4 import BeautifulSoup\n",
    "\n",
    "URL = 'https://finance.naver.com/sise/sise_quant.nhn'\n",
    "res = requests.get(URL)\n",
    "# print(res.status_code)\n",
    "\n",
    "soup = BeautifulSoup(res.text, 'lxml') # html.parser\n",
    "stocks = soup.select('.type_2 tr')[2:]\n",
    "\n",
    "codes = []\n",
    "\n",
    "for stock in stocks:\n",
    "    try:\n",
    "        stock_n = stock.select_one('.tltle').text\n",
    "        price = stock.select_one('.number').text.replace(',', '')\n",
    "        code = stock.select_one('.tltle').attrs['href'][-6:]\n",
    "\n",
    "        if (('인버스' not in stock_n) and ('레버리지' not in stock_n)) and (int(price) <= 26000):\n",
    "            codes.append(code)\n",
    "        else:\n",
    "            continue\n",
    "    except:\n",
    "        pass\n",
    "        \n",
    "    if len(codes) == 5:\n",
    "        break\n",
    "        \n",
    "print(codes)"
   ]
  },
  {
   "cell_type": "markdown",
   "id": "1365d3d5",
   "metadata": {},
   "source": [
    "## 작업 중.. \n",
    "### (codes에 담긴 종목 중 변동성 돌파 기반으로 매수해야 할 종목이 있는지 추가적으로 데이터 크롤링 후 시각화 예정)"
   ]
  },
  {
   "cell_type": "code",
   "execution_count": 8,
   "id": "5b46cf38",
   "metadata": {},
   "outputs": [],
   "source": [
    "import requests\n",
    "from bs4 import BeautifulSoup\n",
    "\n",
    "URL = 'https://finance.naver.com/sise/sise_quant.nhn'\n",
    "res = requests.get(URL)\n",
    "# print(res.status_code)\n",
    "\n",
    "soup = BeautifulSoup(res.text, 'lxml')\n",
    "stocks = soup.select('.type_2 tr')[2:]"
   ]
  },
  {
   "cell_type": "code",
   "execution_count": 9,
   "id": "c5cbda90",
   "metadata": {},
   "outputs": [
    {
     "data": {
      "text/plain": [
       "[<span class=\"tah p11 nv01\">\n",
       " \t\t\t\t20\n",
       " \t\t\t\t</span>,\n",
       " <span class=\"tah p11 nv01\">\n",
       " \t\t\t\t-0.61%\n",
       " \t\t\t\t</span>]"
      ]
     },
     "execution_count": 9,
     "metadata": {},
     "output_type": "execute_result"
    }
   ],
   "source": [
    "stocks[0].select('.tah.p11')"
   ]
  },
  {
   "cell_type": "code",
   "execution_count": 10,
   "id": "f7e2b2fc",
   "metadata": {},
   "outputs": [
    {
     "data": {
      "text/plain": [
       "'\\n\\t\\t\\t\\t20\\n\\t\\t\\t\\t'"
      ]
     },
     "execution_count": 10,
     "metadata": {},
     "output_type": "execute_result"
    }
   ],
   "source": [
    "stocks[0].select('.tah.p11')[0].text"
   ]
  },
  {
   "cell_type": "code",
   "execution_count": 11,
   "id": "5583b43e",
   "metadata": {},
   "outputs": [
    {
     "data": {
      "text/plain": [
       "'\\n\\t\\t\\t\\t-0.61%\\n\\t\\t\\t\\t'"
      ]
     },
     "execution_count": 11,
     "metadata": {},
     "output_type": "execute_result"
    }
   ],
   "source": [
    "stocks[0].select('.tah.p11')[1].text"
   ]
  },
  {
   "cell_type": "code",
   "execution_count": 12,
   "id": "3bcde46a",
   "metadata": {},
   "outputs": [],
   "source": [
    "import re"
   ]
  },
  {
   "cell_type": "code",
   "execution_count": 13,
   "id": "20c6ea1c",
   "metadata": {
    "scrolled": true
   },
   "outputs": [
    {
     "name": "stdout",
     "output_type": "stream",
     "text": [
      "\n",
      "\t\t\t\t20\n",
      "\t\t\t\t \n",
      "\t\t\t\t-0.61%\n",
      "\t\t\t\t\n"
     ]
    }
   ],
   "source": [
    "a = stocks[0].select('.tah.p11')[0].text\n",
    "b = stocks[0].select('.tah.p11')[1].text\n",
    "re_a = re.sub('[a-zA-Z]', '', a)\n",
    "re_b = re.sub('[a-zA-Z]', '', b)\n",
    "print(re_a, re_b)"
   ]
  },
  {
   "cell_type": "code",
   "execution_count": 14,
   "id": "c1002b3b",
   "metadata": {},
   "outputs": [
    {
     "name": "stdout",
     "output_type": "stream",
     "text": [
      "20 -0.61%\n"
     ]
    }
   ],
   "source": [
    "Notag_a = re.sub('\\t*|\\n*|(\\<[^\\>]*\\>)|\\n*\\t*', '', a)\n",
    "Notag_b = re.sub('\\t*|\\n*|(\\<[^\\>]*\\>)|\\n*\\t*', '', b)\n",
    "print(Notag_a, Notag_b)"
   ]
  },
  {
   "cell_type": "code",
   "execution_count": 22,
   "id": "fec40dbc",
   "metadata": {},
   "outputs": [
    {
     "name": "stdout",
     "output_type": "stream",
     "text": [
      "[<td class=\"number\">63,776,794</td>, <td class=\"number\">8,609</td>, <td class=\"number\">135</td>, <td class=\"number\">140</td>, <td class=\"number\">855</td>]\n",
      "63,776,794\n",
      "855\n"
     ]
    },
    {
     "data": {
      "text/plain": [
       "'63,776,794'"
      ]
     },
     "execution_count": 22,
     "metadata": {},
     "output_type": "execute_result"
    }
   ],
   "source": [
    "ccc = stocks[1].select('td.number')[3:-2]\n",
    "print(ccc, stocks[1].select('td.number')[3].text, stocks[1].select('td.number')[-3].text, sep = '\\n')\n",
    "ccc[0].text"
   ]
  },
  {
   "cell_type": "code",
   "execution_count": 23,
   "id": "66c4065c",
   "metadata": {},
   "outputs": [
    {
     "data": {
      "text/plain": [
       "'63,776,794'"
      ]
     },
     "execution_count": 23,
     "metadata": {},
     "output_type": "execute_result"
    }
   ],
   "source": [
    "pp = re.sub('\\t*|\\n*|(\\<[^\\>]*\\>)|\\n*\\t*|, ', '', str(ccc[0]))\n",
    "pp"
   ]
  },
  {
   "cell_type": "code",
   "execution_count": 24,
   "id": "057fb468",
   "metadata": {
    "scrolled": true
   },
   "outputs": [
    {
     "name": "stdout",
     "output_type": "stream",
     "text": [
      "<class 'bs4.element.Tag'>\n"
     ]
    }
   ],
   "source": [
    "print(type(ccc[0]))"
   ]
  },
  {
   "cell_type": "code",
   "execution_count": 25,
   "id": "3c4416e4",
   "metadata": {},
   "outputs": [
    {
     "name": "stdout",
     "output_type": "stream",
     "text": [
      "<td class=\"number\">63,776,794</td>\n",
      "<td class=\"number\">8,609</td>\n",
      "<td class=\"number\">135</td>\n",
      "<td class=\"number\">140</td>\n",
      "<td class=\"number\">855</td>\n"
     ]
    },
    {
     "data": {
      "text/plain": [
       "['63,776,794', '8,609', '135', '140', '855']"
      ]
     },
     "execution_count": 25,
     "metadata": {},
     "output_type": "execute_result"
    }
   ],
   "source": [
    "result = []\n",
    "\n",
    "for cc in ccc:\n",
    "    c = re.sub('\\t*|\\n*|(\\<[^\\>]*\\>)|\\n*\\t*|, ', '', str(cc))\n",
    "    print(cc)\n",
    "    result.append(c)\n",
    "result # 거래량, 거래대금, 매수호가, 매도호가, 시가총액"
   ]
  },
  {
   "cell_type": "code",
   "execution_count": 26,
   "id": "ce1186ed",
   "metadata": {
    "scrolled": false
   },
   "outputs": [
    {
     "name": "stdout",
     "output_type": "stream",
     "text": [
      "['001570', '009270', '006220', '010580', '096300']\n",
      "\n",
      "{'종목명': '금양', '현재가': '17450', '전일비': '600', '등락률': '+3.56%', '거래량': '25,566,113', '시가총액': '10,048'}\n",
      "\n",
      "{'종목명': '신원', '현재가': '1680', '전일비': '55', '등락률': '+3.38%', '거래량': '16,567,236', '시가총액': '1,606'}\n",
      "\n",
      "{'종목명': '제주은행', '현재가': '7020', '전일비': '730', '등락률': '+11.61%', '거래량': '11,798,306', '시가총액': '2,255'}\n",
      "\n",
      "{'종목명': '에스엠벡셀', '현재가': '2700', '전일비': '405', '등락률': '+17.65%', '거래량': '11,708,144', '시가총액': '3,004'}\n",
      "\n",
      "{'종목명': '베트남개발1', '현재가': '71', '전일비': '5', '등락률': '+7.58%', '거래량': '11,487,373', '시가총액': '98'}\n"
     ]
    }
   ],
   "source": [
    "import requests\n",
    "from bs4 import BeautifulSoup\n",
    "import re\n",
    "\n",
    "URL = 'https://finance.naver.com/sise/sise_quant.nhn'\n",
    "res = requests.get(URL)\n",
    "# print(res.status_code)\n",
    "\n",
    "soup = BeautifulSoup(res.text, 'lxml')\n",
    "stocks = soup.select('.type_2 tr')[2:]\n",
    "\n",
    "codes = []\n",
    "keys = ['종목명', '현재가', '전일비', '등락률', '거래량', '시가총액']\n",
    "result = []\n",
    "\n",
    "for stock in stocks:\n",
    "    try:\n",
    "        stock_n = stock.select_one('.tltle').text\n",
    "        price = stock.select_one('.number').text.replace(',', '')\n",
    "\n",
    "        if (('인버스' not in stock_n) and ('레버리지' not in stock_n)) and (int(price) <= 26000):\n",
    "            \n",
    "            code = stock.select_one('.tltle').attrs['href'][-6:]\n",
    "            codes.append(code)\n",
    "            \n",
    "            updown = stock.select('.tah.p11')[0].text\n",
    "            percentage = stock.select('.tah.p11')[1].text\n",
    "            \n",
    "            re_updown = re.sub('\\t*|\\n*|(\\<[^\\>]*\\>)|\\n*\\t*', '', updown)\n",
    "            re_percentage = re.sub('\\t*|\\n*|(\\<[^\\>]*\\>)|\\n*\\t*', '', percentage)\n",
    "            \n",
    "            market = stock.select('td.number')[3].text\n",
    "            volumn = stock.select('td.number')[-3].text\n",
    "            \n",
    "            values = [stock_n, price, re_updown, re_percentage, market, volumn]\n",
    "            \n",
    "            info_dict = dict(zip(keys, values))\n",
    "            result.append(info_dict)\n",
    "        \n",
    "        else:\n",
    "            continue\n",
    "    except:\n",
    "        pass\n",
    "        \n",
    "    if len(codes) == 5:\n",
    "        break\n",
    "        \n",
    "print(codes)\n",
    "\n",
    "for r in result:\n",
    "    print()\n",
    "    print(r)"
   ]
  },
  {
   "cell_type": "code",
   "execution_count": 29,
   "id": "8f5455dc",
   "metadata": {
    "scrolled": true
   },
   "outputs": [
    {
     "name": "stdout",
     "output_type": "stream",
     "text": [
      "['001570', '009270', '006220', '010580', '096300']\n",
      "\n",
      "{'종목명': '금양', '현재가': '17450', '전일비': '600', '등락률': '+3.56%', '거래량': '25,566,113', '시가총액': '10,048'}\n",
      "\n",
      "{'종목명': '신원', '현재가': '1680', '전일비': '55', '등락률': '+3.38%', '거래량': '16,567,236', '시가총액': '1,606'}\n",
      "\n",
      "{'종목명': '제주은행', '현재가': '7020', '전일비': '730', '등락률': '+11.61%', '거래량': '11,798,306', '시가총액': '2,255'}\n",
      "\n",
      "{'종목명': '에스엠벡셀', '현재가': '2700', '전일비': '405', '등락률': '+17.65%', '거래량': '11,708,144', '시가총액': '3,004'}\n",
      "\n",
      "{'종목명': '베트남개발1', '현재가': '71', '전일비': '5', '등락률': '+7.58%', '거래량': '11,487,373', '시가총액': '98'}\n",
      "https://finance.naver.com/item/sise_day.naver?code=001570\n",
      "https://finance.naver.com/item/sise_day.naver?code=009270\n",
      "https://finance.naver.com/item/sise_day.naver?code=006220\n",
      "https://finance.naver.com/item/sise_day.naver?code=010580\n",
      "https://finance.naver.com/item/sise_day.naver?code=096300\n"
     ]
    }
   ],
   "source": [
    "import requests\n",
    "from bs4 import BeautifulSoup\n",
    "import re\n",
    "\n",
    "URL = 'https://finance.naver.com/sise/sise_quant.nhn'\n",
    "res = requests.get(URL)\n",
    "# print(res.status_code)\n",
    "\n",
    "soup = BeautifulSoup(res.text, 'lxml')\n",
    "stocks = soup.select('.type_2 tr')[2:]\n",
    "\n",
    "codes = []\n",
    "keys = ['종목명', '현재가', '전일비', '등락률', '거래량', '시가총액']\n",
    "result = []\n",
    "urls = []\n",
    "\n",
    "for stock in stocks:\n",
    "    try:\n",
    "        company = stock.select_one('.tltle').text\n",
    "        price = stock.select_one('.number').text.replace(',', '')\n",
    "\n",
    "        if (('인버스' not in company) and ('레버리지' not in company)) and (int(price) <= 26000):\n",
    "            \n",
    "            code = stock.select_one('.tltle').attrs['href'][-6:] # 종목코드 가져오기\n",
    "            codes.append(code)\n",
    "            \n",
    "            updown = stock.select('.tah.p11')[0].text # 전일비 가져오기\n",
    "            percentage = stock.select('.tah.p11')[1].text # 등락률 가져오기\n",
    "            \n",
    "            re_updown = re.sub('\\t*|\\n*|(\\<[^\\>]*\\>)|\\n*\\t*', '', updown) # 전일비 정규표현식으로 클렌징\n",
    "            re_percentage = re.sub('\\t*|\\n*|(\\<[^\\>]*\\>)|\\n*\\t*', '', percentage) # 등락률 정규표현식으로 클렌징\n",
    "            \n",
    "            market = stock.select('td.number')[3].text # 거래량 가져오기\n",
    "            volumn = stock.select('td.number')[-3].text # 시가총액 가져오기\n",
    "            \n",
    "            values = [company, price, re_updown, re_percentage, market, volumn]\n",
    "            \n",
    "            info_dict = dict(zip(keys, values))\n",
    "            result.append(info_dict)\n",
    "            \n",
    "            sise_URL = 'https://finance.naver.com/item/sise_day.naver?code=' + code # 각 종목의 시세 탭으로 진입\n",
    "            urls.append(sise_URL)\n",
    "#             sise_res = requests.get(sise_URL)\n",
    "        \n",
    "        else:\n",
    "            continue\n",
    "    except:\n",
    "        pass\n",
    "        \n",
    "    if len(codes) == 5:\n",
    "        break\n",
    "        \n",
    "print(codes) # [type(i) for i in codes]\n",
    "\n",
    "for r in result:\n",
    "    print()\n",
    "    print(r)\n",
    "\n",
    "print(*urls, sep='\\n')\n",
    "\n",
    "# for url in urls:\n",
    "#     res = requests.get(url)\n",
    "#     soup = BeautifulSoup(res.text, 'lxml')"
   ]
  },
  {
   "cell_type": "markdown",
   "id": "21552089",
   "metadata": {},
   "source": [
    "## 고정 돌파계수 K vs. 시장 상황(전날 추세 - 9/8 목)에 따른 변동 돌파계수 K"
   ]
  },
  {
   "cell_type": "markdown",
   "id": "0fd16dcb",
   "metadata": {},
   "source": [
    "#### 날짜\n",
    "#### 종가\n",
    "#### 전일비\n",
    "#### 시가\n",
    "#### 고가\n",
    "#### 저가\n",
    "#### 거래량\n",
    " \n",
    "#### 특정 종목의 (전일 고가-전일 저가)가 갑자기 크게 증가한 다음날 (상한가를 치거나 주가가 많이 오른 경우) \n",
    "#### 전날보다는 못하지만 어느 정도 상승장을 이어가고 있을 때 고정된 돌파계수 0.5 때문에 매수 타이밍을 못 잡는 경우가 생길 수도 있고 \n",
    "#### 반대의 경우, 즉 (전일 고가-전일 저가)가 작았던 다음날 작은 주가 상승에도 매수를 시도하는 경우가 생기기도 함"
   ]
  },
  {
   "cell_type": "code",
   "execution_count": 30,
   "id": "f749d2f1",
   "metadata": {
    "scrolled": false
   },
   "outputs": [
    {
     "name": "stdout",
     "output_type": "stream",
     "text": [
      "<tr onmouseout=\"mouseOut(this)\" onmouseover=\"mouseOver(this)\">\n",
      "<td align=\"center\"><span class=\"tah p10 gray03\">2022.09.08</span></td>\n",
      "<td class=\"num\"><span class=\"tah p11\">17,450</span></td>\n",
      "<td class=\"num\">\n",
      "<img alt=\"상승\" height=\"6\" src=\"https://ssl.pstatic.net/imgstock/images/images4/ico_up.gif\" style=\"margin-right:4px;\" width=\"7\"/><span class=\"tah p11 red02\">\n",
      "\t\t\t\t600\n",
      "\t\t\t\t</span>\n",
      "</td>\n",
      "<td class=\"num\"><span class=\"tah p11\">16,700</span></td>\n",
      "<td class=\"num\"><span class=\"tah p11\">21,250</span></td>\n",
      "<td class=\"num\"><span class=\"tah p11\">16,250</span></td>\n",
      "<td class=\"num\"><span class=\"tah p11\">25,566,113</span></td>\n",
      "</tr> \n",
      "최근 날짜: 2022.09.08, \n",
      "시가: 16700, \n",
      "종가: 17450, \n",
      "고가: 21250, \n",
      "저가: 16250, \n",
      "돌파계수 K: 0.85, \n",
      "매수 타겟가: 20950.0\n",
      "19200.0 20950.0 차이: 20950.0 - 19200.0 = 1750.0\n"
     ]
    }
   ],
   "source": [
    "import requests\n",
    "from bs4 import BeautifulSoup\n",
    "\n",
    "headers = {'user-agent': 'Mozilla/5.0 (X11; Ubuntu; Linux x86_64; rv:104.0) Gecko/20100101 Firefox/104.0'}\n",
    "sise_URL = 'https://finance.naver.com/item/sise_day.naver?code=001570'\n",
    "sise_res = requests.get(sise_URL, headers=headers)\n",
    "# print(res.status_code)\n",
    "\n",
    "soup = BeautifulSoup(sise_res.text, 'lxml')\n",
    "prices = soup.select('.type2 tr')[2]\n",
    "\n",
    "latest_date = prices.select_one('.tah.p10.gray03').text # 최근 날짜\n",
    "start_price = int(prices.select('.tah.p11')[2].text.replace(',', '')) # 전날 시가이기 때문에 필요 없음. 당일 시가로 대체해야\n",
    "end_price = int(prices.select('.tah.p11')[0].text.replace(',', '')) # 종가\n",
    "highest_price = int(prices.select('.tah.p11')[3].text.replace(',', '')) # 고가\n",
    "lowest_price = int(prices.select('.tah.p11')[4].text.replace(',', '')) # 저가\n",
    "\n",
    "# K = 0.5 # 고정 돌파계수 K\n",
    "K = 1 - (abs(start_price - end_price) / (highest_price - lowest_price)) # 돌파계수 K, 9/8 - 0.85\n",
    "\n",
    "target_price = start_price + (highest_price - lowest_price) * K # 매수 타켓가\n",
    "\n",
    "print(prices, f'\\n최근 날짜: {latest_date}, \\n시가: {start_price}, \\n종가: {end_price}, \\n고가: {highest_price}, \\n저가: {lowest_price}, \\n돌파계수 K: {K}, \\n매수 타겟가: {target_price}')\n",
    "\n",
    "fixedK = start_price + (highest_price - lowest_price) * 0.5 # 돌파계수 K가 default 0.5일 때. 매수 타켓가: 19200\n",
    "flexibleK = start_price + (highest_price - lowest_price) * K # 돌파계수 K가 시장 상황에 따라 0.85일 때. 매수 타켓가: 20950\n",
    "print(fixedK, flexibleK, f'차이: {flexibleK} - {fixedK} =', abs(flexibleK - fixedK))"
   ]
  },
  {
   "cell_type": "markdown",
   "id": "0ae48d57",
   "metadata": {},
   "source": [
    "## 1. 시장 상황(추세)에 따른 돌파계수 K를 구하기 귀해 열흘 치 주가 정보 가져와서 평균을 구하자\n",
    "\n",
    "## 2. 열흘 치 주가 정보를 고정/변동/평균 K로 운영했을 때 예상 수익을 비교해보자 (백테스트)\n",
    "- ### 고정 K: -200, 변동 K: -401, 변동 K 평균: -1168"
   ]
  },
  {
   "cell_type": "code",
   "execution_count": 33,
   "id": "073a06a9",
   "metadata": {
    "scrolled": true
   },
   "outputs": [
    {
     "name": "stdout",
     "output_type": "stream",
     "text": [
      "날짜: 2022.09.08, \n",
      "시가: 16700, \n",
      "종가: 17450, \n",
      "고가: 21250, \n",
      "저가: 16250,               \n",
      "변동 돌파계수 K: 0.85\n",
      "차이: 변동 K 20950 - 고정 K 19600 = 1350\n",
      "매수 여부(변동 K): True\n",
      "고정 K 예상 수익: -2150, 변동 K 예상 수익: -3500, 승부: 고정 K 승리\n",
      "\n",
      "날짜: 2022.09.07, \n",
      "시가: 15200, \n",
      "종가: 16850, \n",
      "고가: 16850, \n",
      "저가: 14950,               \n",
      "변동 돌파계수 K: 0.13\n",
      "차이: 변동 K 15447 - 고정 K 16302 = 855\n",
      "매수 여부(변동 K): True\n",
      "고정 K 예상 수익: 548, 변동 K 예상 수익: 1403, 승부: 변동 K 승리\n",
      "\n",
      "날짜: 2022.09.06, \n",
      "시가: 12950, \n",
      "종가: 14850, \n",
      "고가: 15650, \n",
      "저가: 12900,               \n",
      "변동 돌파계수 K: 0.31\n",
      "차이: 변동 K 13802 - 고정 K 14545 = 743\n",
      "매수 여부(변동 K): True\n",
      "고정 K 예상 수익: 305, 변동 K 예상 수익: 1048, 승부: 변동 K 승리\n",
      "\n",
      "날짜: 2022.09.05, \n",
      "시가: 12600, \n",
      "종가: 13150, \n",
      "고가: 13550, \n",
      "저가: 11350,               \n",
      "변동 돌파계수 K: 0.75\n",
      "차이: 변동 K 14250 - 고정 K 13876 = 374\n",
      "매수 여부(변동 K): False\n",
      "고정 K 예상 수익: 0, 변동 K 예상 수익: 0, 승부: 동점\n",
      "\n",
      "날짜: 2022.09.02, \n",
      "시가: 12150, \n",
      "종가: 12100, \n",
      "고가: 12250, \n",
      "저가: 11800,               \n",
      "변동 돌파계수 K: 0.89\n",
      "차이: 변동 K 12550 - 고정 K 12411 = 139\n",
      "매수 여부(변동 K): False\n",
      "고정 K 예상 수익: 0, 변동 K 예상 수익: 0, 승부: 동점\n",
      "\n",
      "날짜: 2022.09.01, \n",
      "시가: 11700, \n",
      "종가: 12100, \n",
      "고가: 12250, \n",
      "저가: 11700,               \n",
      "변동 돌파계수 K: 0.27\n",
      "차이: 변동 K 11848 - 고정 K 12019 = 171\n",
      "매수 여부(변동 K): True\n",
      "고정 K 예상 수익: 81, 변동 K 예상 수익: 252, 승부: 변동 K 승리\n",
      "\n",
      "날짜: 2022.08.31, \n",
      "시가: 11800, \n",
      "종가: 12050, \n",
      "고가: 13150, \n",
      "저가: 11050,               \n",
      "변동 돌파계수 K: 0.88\n",
      "차이: 변동 K 13648 - 고정 K 13018 = 630\n",
      "매수 여부(변동 K): False\n",
      "고정 K 예상 수익: 0, 변동 K 예상 수익: 0, 승부: 동점\n",
      "\n",
      "날짜: 2022.08.30, \n",
      "시가: 11650, \n",
      "종가: 11900, \n",
      "고가: 11900, \n",
      "저가: 11400,               \n",
      "변동 돌파계수 K: 0.5\n",
      "차이: 변동 K 11900 - 고정 K 11940 = 40\n",
      "매수 여부(변동 K): True\n",
      "고정 K 예상 수익: -40, 변동 K 예상 수익: 0, 승부: 변동 K 승리\n",
      "\n",
      "날짜: 2022.08.29, \n",
      "시가: 10750, \n",
      "종가: 11650, \n",
      "고가: 12000, \n",
      "저가: 10600,               \n",
      "변동 돌파계수 K: 0.36\n",
      "차이: 변동 K 11254 - 고정 K 11562 = 308\n",
      "매수 여부(변동 K): True\n",
      "고정 K 예상 수익: 88, 변동 K 예상 수익: 396, 승부: 변동 K 승리\n",
      "\n",
      "날짜: 2022.08.26, \n",
      "시가: 11150, \n",
      "종가: 11200, \n",
      "고가: 11300, \n",
      "저가: 10850,               \n",
      "변동 돌파계수 K: 0.89\n",
      "차이: 변동 K 11550 - 고정 K 11411 = 139\n",
      "매수 여부(변동 K): False\n",
      "고정 K 예상 수익: 0, 변동 K 예상 수익: 0, 승부: 동점\n",
      "\n",
      "고정 K로 열흘 운용했을 때 예상 수익: -1168, 변동 K로 열흘 운용했을 때 예상 수익: -401\n",
      "경기가 안 좋다.. 하락장!\n",
      "\n",
      "변동 K의 열흘 치 평균: 0.58\n"
     ]
    }
   ],
   "source": [
    "import requests\n",
    "from bs4 import BeautifulSoup\n",
    "\n",
    "headers = {'user-agent': 'Mozilla/5.0 (X11; Ubuntu; Linux x86_64; rv:104.0) Gecko/20100101 Firefox/104.0'}\n",
    "sise_URL = 'https://finance.naver.com/item/sise_day.naver?code=001570'\n",
    "sise_res = requests.get(sise_URL, headers=headers)\n",
    "# print(res.status_code)\n",
    "\n",
    "soup = BeautifulSoup(sise_res.text, 'lxml')\n",
    "prices = soup.select('.type2 tr')[2:-1] # 최근 열흘치 주가 정보 가져오기\n",
    "# print(prices[-1].text)\n",
    "\n",
    "fixedKprofits = 0\n",
    "flexibleKprofits = 0\n",
    "flexibleKs = 0\n",
    "\n",
    "for price in prices:\n",
    "#     print(price.text)\n",
    "    \n",
    "    try:\n",
    "        latest_date = price.select_one('.tah.p10.gray03').text # 최근 날짜\n",
    "        start_price = int(price.select('.tah.p11')[2].text.replace(',', '')) # 전날 시가이기 때문에 필요 없음. 당일 시가로 대체해야\n",
    "        end_price = int(price.select('.tah.p11')[0].text.replace(',', '')) # 종가\n",
    "        highest_price = int(price.select('.tah.p11')[3].text.replace(',', '')) # 고가\n",
    "        lowest_price = int(price.select('.tah.p11')[4].text.replace(',', '')) # 저가\n",
    "        \n",
    "        K = 1 - (abs(start_price - end_price) / (highest_price - lowest_price)) # 돌파계수 K, 9/8 - 0.85\n",
    "        K = round(K, 2)\n",
    "        flexibleKs += K # 변동 K의 평균 구하기\n",
    "\n",
    "        fixedKtarget = int(start_price + (highest_price - lowest_price) * 0.5) # 돌파계수 K가 default 0.5일 때 매수 타켓가\n",
    "        flexibleKtarget = int(start_price + (highest_price - lowest_price) * K) # 돌파계수 K가 시장 상황에 따라 0.85일 때 매수 타켓가\n",
    "\n",
    "        print(f'날짜: {latest_date}, \\n시가: {start_price}, \\n종가: {end_price}, \\n고가: {highest_price}, \\n저가: {lowest_price}, \\\n",
    "              \\n변동 돌파계수 K: {K}')\n",
    "        \n",
    "        gap = abs(flexibleKtarget - fixedKtarget)\n",
    "        \n",
    "        print(f'차이: 변동 K {flexibleKtarget} - 고정 K {fixedKtarget} =', gap)\n",
    "        \n",
    "        # 현재가가 매수 타겟가를 넘어서자 마자 매수할 것이고, 종가에 근접한 가격으로 매도할 것이기 때문에 데이 트레이딩 수익 예측이 가능함\n",
    "        BuyOrDont = highest_price >= flexibleKtarget # 매수 여부 확인\n",
    "        \n",
    "        if BuyOrDont == True: # 매수 했을 경우 수익 계산\n",
    "            fixedKprofit = end_price - fixedKtarget # 고정 K 예상 수익\n",
    "            flexibleKprofit = end_price - flexibleKtarget # 변동 K 예상 수익\n",
    "\n",
    "            fixedKprofits += fixedKprofit # 고정 K 예상 누적 수익\n",
    "            flexibleKprofits += flexibleKprofit # 변동 K 예상 누적 수익\n",
    "        \n",
    "            if flexibleKprofit > fixedKprofit:\n",
    "                versus = '변동 K 승리'\n",
    "\n",
    "            elif flexibleKprofit < fixedKprofit:\n",
    "                versus = '고정 K 승리'\n",
    "                \n",
    "        else:\n",
    "            fixedKprofit = 0 # 고정 K 예상 수익\n",
    "            flexibleKprofit = 0 # 변동 K 예상 수익\n",
    "            versus = '동점'\n",
    "        \n",
    "        print(f'매수 여부(변동 K): {BuyOrDont}')\n",
    "        print(f'고정 K 예상 수익: {fixedKprofit}, 변동 K 예상 수익: {flexibleKprofit}, 승부: {versus}\\n')\n",
    "        \n",
    "    except:\n",
    "        continue\n",
    "    \n",
    "print(f'고정 K로 열흘 운용했을 때 예상 수익: {fixedKprofits}, 변동 K로 열흘 운용했을 때 예상 수익: {flexibleKprofits}')\n",
    "# 고정 K로 열흘 운용했을 때 예상 수익: -200, 변동 K로 열흘 운용했을 때 예상 수익: -401, 변동 K 평균으로 열흘 운용했을 때 예상 수익: -1168\n",
    "\n",
    "if fixedKprofits < 0 and flexibleKprofits < 0:\n",
    "    print('경기가 안 좋다.. 하락장!\\n')\n",
    "    \n",
    "elif fixedKprofits <= 1000 and flexibleKprofits <= 1000:\n",
    "    print('경기가 그냥 그렇다. 보합권!\\n')\n",
    "    \n",
    "else:\n",
    "    print('경기가 좋다! 상승장!\\n')\n",
    "    \n",
    "print(f'변동 K의 열흘 치 평균: {round(flexibleKs / 10, 2)}')"
   ]
  },
  {
   "cell_type": "code",
   "execution_count": 55,
   "id": "637cf21c",
   "metadata": {},
   "outputs": [
    {
     "name": "stdout",
     "output_type": "stream",
     "text": [
      "현재가: 17450, 오늘 시가: 16700\n"
     ]
    }
   ],
   "source": [
    "import requests\n",
    "from bs4 import BeautifulSoup\n",
    "\n",
    "headers = {'user-agent': 'Mozilla/5.0 (X11; Ubuntu; Linux x86_64; rv:104.0) Gecko/20100101 Firefox/104.0'}\n",
    "sise_URL = 'https://finance.naver.com/item/sise.naver?code=001570'\n",
    "sise_res = requests.get(sise_URL, headers=headers)\n",
    "# print(res.status_code)\n",
    "\n",
    "soup = BeautifulSoup(sise_res.text, 'lxml')\n",
    "present_price = int(soup.select('table.type2.type_tax tbody .tah.p11')[0].text.replace(',', ''))\n",
    "today_opening_price = int(soup.select('table.type2.type_tax tbody .tah.p11')[7].text.replace(',', ''))\n",
    "\n",
    "print(f'현재가: {present_price}, 오늘 시가: {today_opening_price}')"
   ]
  },
  {
   "cell_type": "code",
   "execution_count": 63,
   "id": "65dfc97d",
   "metadata": {
    "scrolled": false
   },
   "outputs": [],
   "source": [
    "import pandas as pd\n",
    "import requests\n",
    "from bs4 import BeautifulSoup\n",
    "import mplfinance as mpf\n",
    "\n",
    "import html5lib\n",
    "import warnings\n",
    "\n",
    "warnings.filterwarnings(action='ignore')\n",
    "\n",
    "headers = {'user-agent': 'Mozilla/5.0 (X11; Ubuntu; Linux x86_64; rv:104.0) Gecko/20100101 Firefox/104.0'}\n",
    "url = 'https://finance.naver.com/item/sise_day.nhn?code=001570&page=1'\n",
    "res = requests.get(url, headers=headers)\n",
    "soup = BeautifulSoup(res.text, 'lxml')\n",
    "\n",
    "pgrr = soup.find('td', class_='pgRR')\n",
    "s = str(pgrr.a['href']).split('=')\n",
    "last_page = s[-1]\n",
    "last_page\n",
    "\n",
    "df = pd.DataFrame()\n",
    "sise_url = 'https://finance.naver.com/item/sise_day.nhn?code=001570'\n",
    "for page in range(1, int(last_page)+1):\n",
    "    page_url = '{}&page={}'.format(sise_url, page)\n",
    "    res = requests.get(page_url, headers=headers)\n",
    "    soup = BeautifulSoup(res.text, 'lxml')\n",
    "    table = soup.select_one('table', class_='type2') # 현재 페이지에서 클래스가 type2인 table 태그 하나 선택하기\n",
    "    table_html = str(table) # 테이블 html 정보를 문자열로 변경하기\n",
    "    # 판다스의 read_html 로 테이블 정보 읽기. flavor=None(==lxml), encoding='utf-8' or(<) 'euc-kr' or(<) 'cp949'\n",
    "    df = df.append(pd.read_html(table_html, flavor=None, header=0, encoding='cp949')[0])\n",
    "    \n",
    "df = df.dropna()\n",
    "\n",
    "# df = df.iloc[0:30]\n",
    "# df = df.iloc[0:]\n",
    "# df = df.rename(columns={'날짜':'Date', '시가':'Open', '고가':'High', '저가':'Low', '종가':'Close', '거래량':'Volume'})\n",
    "# df = df.sort_values(by='Date')\n",
    "# df.index = pd.to_datetime(df.Date)\n",
    "# df = df[['Open', 'High', 'Low', 'Close', 'Volume']]\n",
    "\n",
    "# mpf.plot(df, title='Celltrion candle chart', type='candle')\n",
    "\n",
    "# mpf.plot(df, title='Celltrion ohlc chart', type='ohlc')\n",
    "\n",
    "# kwargs = dict(title='Celltrion customized chart', type='candle',\n",
    "#     mav=(2, 4, 6), volume=True, ylabel='ohlc candles')\n",
    "# mc = mpf.make_marketcolors(up='r', down='b', inherit=True)\n",
    "# s  = mpf.make_mpf_style(marketcolors=mc)\n",
    "# mpf.plot(df, **kwargs, style=s)"
   ]
  },
  {
   "cell_type": "code",
   "execution_count": 64,
   "id": "7fd5be65",
   "metadata": {
    "scrolled": true
   },
   "outputs": [
    {
     "name": "stdout",
     "output_type": "stream",
     "text": [
      "<class 'pandas.core.frame.DataFrame'>\n",
      "Int64Index: 6580 entries, 1 to 13\n",
      "Data columns (total 7 columns):\n",
      " #   Column  Non-Null Count  Dtype  \n",
      "---  ------  --------------  -----  \n",
      " 0   날짜      6580 non-null   object \n",
      " 1   종가      6580 non-null   float64\n",
      " 2   전일비     6580 non-null   float64\n",
      " 3   시가      6580 non-null   float64\n",
      " 4   고가      6580 non-null   float64\n",
      " 5   저가      6580 non-null   float64\n",
      " 6   거래량     6580 non-null   float64\n",
      "dtypes: float64(6), object(1)\n",
      "memory usage: 411.2+ KB\n"
     ]
    }
   ],
   "source": [
    "df.info()"
   ]
  },
  {
   "cell_type": "code",
   "execution_count": 65,
   "id": "eaf09a42",
   "metadata": {
    "scrolled": true
   },
   "outputs": [
    {
     "data": {
      "text/html": [
       "<div>\n",
       "<style scoped>\n",
       "    .dataframe tbody tr th:only-of-type {\n",
       "        vertical-align: middle;\n",
       "    }\n",
       "\n",
       "    .dataframe tbody tr th {\n",
       "        vertical-align: top;\n",
       "    }\n",
       "\n",
       "    .dataframe thead th {\n",
       "        text-align: right;\n",
       "    }\n",
       "</style>\n",
       "<table border=\"1\" class=\"dataframe\">\n",
       "  <thead>\n",
       "    <tr style=\"text-align: right;\">\n",
       "      <th></th>\n",
       "      <th>날짜</th>\n",
       "      <th>종가</th>\n",
       "      <th>전일비</th>\n",
       "      <th>시가</th>\n",
       "      <th>고가</th>\n",
       "      <th>저가</th>\n",
       "      <th>거래량</th>\n",
       "    </tr>\n",
       "  </thead>\n",
       "  <tbody>\n",
       "    <tr>\n",
       "      <th>1</th>\n",
       "      <td>2022.09.08</td>\n",
       "      <td>17450.0</td>\n",
       "      <td>600.0</td>\n",
       "      <td>16700.0</td>\n",
       "      <td>21250.0</td>\n",
       "      <td>16250.0</td>\n",
       "      <td>25566113.0</td>\n",
       "    </tr>\n",
       "    <tr>\n",
       "      <th>2</th>\n",
       "      <td>2022.09.07</td>\n",
       "      <td>16850.0</td>\n",
       "      <td>2000.0</td>\n",
       "      <td>15200.0</td>\n",
       "      <td>16850.0</td>\n",
       "      <td>14950.0</td>\n",
       "      <td>11763436.0</td>\n",
       "    </tr>\n",
       "    <tr>\n",
       "      <th>3</th>\n",
       "      <td>2022.09.06</td>\n",
       "      <td>14850.0</td>\n",
       "      <td>1700.0</td>\n",
       "      <td>12950.0</td>\n",
       "      <td>15650.0</td>\n",
       "      <td>12900.0</td>\n",
       "      <td>19409079.0</td>\n",
       "    </tr>\n",
       "    <tr>\n",
       "      <th>4</th>\n",
       "      <td>2022.09.05</td>\n",
       "      <td>13150.0</td>\n",
       "      <td>1050.0</td>\n",
       "      <td>12600.0</td>\n",
       "      <td>13550.0</td>\n",
       "      <td>11350.0</td>\n",
       "      <td>9487497.0</td>\n",
       "    </tr>\n",
       "    <tr>\n",
       "      <th>5</th>\n",
       "      <td>2022.09.02</td>\n",
       "      <td>12100.0</td>\n",
       "      <td>0.0</td>\n",
       "      <td>12150.0</td>\n",
       "      <td>12250.0</td>\n",
       "      <td>11800.0</td>\n",
       "      <td>1099212.0</td>\n",
       "    </tr>\n",
       "  </tbody>\n",
       "</table>\n",
       "</div>"
      ],
      "text/plain": [
       "           날짜       종가     전일비       시가       고가       저가         거래량\n",
       "1  2022.09.08  17450.0   600.0  16700.0  21250.0  16250.0  25566113.0\n",
       "2  2022.09.07  16850.0  2000.0  15200.0  16850.0  14950.0  11763436.0\n",
       "3  2022.09.06  14850.0  1700.0  12950.0  15650.0  12900.0  19409079.0\n",
       "4  2022.09.05  13150.0  1050.0  12600.0  13550.0  11350.0   9487497.0\n",
       "5  2022.09.02  12100.0     0.0  12150.0  12250.0  11800.0   1099212.0"
      ]
     },
     "execution_count": 65,
     "metadata": {},
     "output_type": "execute_result"
    }
   ],
   "source": [
    "df.head()"
   ]
  },
  {
   "cell_type": "code",
   "execution_count": 69,
   "id": "71dc5d29",
   "metadata": {
    "scrolled": false
   },
   "outputs": [
    {
     "data": {
      "image/png": "[encoded data removed]",
      "text/plain": [
       "<Figure size 800x575 with 4 Axes>"
      ]
     },
     "metadata": {},
     "output_type": "display_data"
    }
   ],
   "source": [
    "df = df.iloc[0:30]\n",
    "# df = df.iloc[:]\n",
    "df = df.rename(columns={'날짜':'Date', '시가':'Open', '고가':'High', '저가':'Low', '종가':'Close', '거래량':'Volume'})\n",
    "df = df.sort_values(by='Date')\n",
    "# df.index = pd.to_datetime(df.Date, format='%y.%m.%d')\n",
    "# df.index = pd.to_datetime(df['Date'], format='%y.%m.%d')\n",
    "df.index = pd.to_datetime(df['Date'], infer_datetime_format=True)\n",
    "\n",
    "df = df[['Open', 'High', 'Low', 'Close', 'Volume']]\n",
    "\n",
    "# mpf.plot(df, title='kyc candle chart', type='candle')\n",
    "\n",
    "# mpf.plot(df, title='kyc ohlc chart', type='ohlc')\n",
    "\n",
    "kwargs = dict(title='kyc customized candle chart', type='candle', mav=(2, 4, 6), volume=True, ylabel='ohlc candles')\n",
    "mc = mpf.make_marketcolors(up='r', down='b', inherit=True)\n",
    "s = mpf.make_mpf_style(marketcolors=mc)\n",
    "mpf.plot(df, **kwargs, style=s)\n",
    "# plot = mpf.plot(df, **kwargs, style=s)\n",
    "# plot.savefig('kyc customized candle chart', dpi=150) # dpi는 인치당 픽셀 수. 높을 수록 고해상도"
   ]
  },
  {
   "cell_type": "code",
   "execution_count": 70,
   "id": "8b5fa43c",
   "metadata": {
    "scrolled": true
   },
   "outputs": [
    {
     "data": {
      "text/html": [
       "<div>\n",
       "<style scoped>\n",
       "    .dataframe tbody tr th:only-of-type {\n",
       "        vertical-align: middle;\n",
       "    }\n",
       "\n",
       "    .dataframe tbody tr th {\n",
       "        vertical-align: top;\n",
       "    }\n",
       "\n",
       "    .dataframe thead th {\n",
       "        text-align: right;\n",
       "    }\n",
       "</style>\n",
       "<table border=\"1\" class=\"dataframe\">\n",
       "  <thead>\n",
       "    <tr style=\"text-align: right;\">\n",
       "      <th></th>\n",
       "      <th>Open</th>\n",
       "      <th>High</th>\n",
       "      <th>Low</th>\n",
       "      <th>Close</th>\n",
       "      <th>Volume</th>\n",
       "    </tr>\n",
       "    <tr>\n",
       "      <th>Date</th>\n",
       "      <th></th>\n",
       "      <th></th>\n",
       "      <th></th>\n",
       "      <th></th>\n",
       "      <th></th>\n",
       "    </tr>\n",
       "  </thead>\n",
       "  <tbody>\n",
       "    <tr>\n",
       "      <th>2022-07-28</th>\n",
       "      <td>9100.0</td>\n",
       "      <td>9100.0</td>\n",
       "      <td>8570.0</td>\n",
       "      <td>8750.0</td>\n",
       "      <td>6742289.0</td>\n",
       "    </tr>\n",
       "    <tr>\n",
       "      <th>2022-07-29</th>\n",
       "      <td>8640.0</td>\n",
       "      <td>8960.0</td>\n",
       "      <td>8460.0</td>\n",
       "      <td>8540.0</td>\n",
       "      <td>5576178.0</td>\n",
       "    </tr>\n",
       "    <tr>\n",
       "      <th>2022-08-01</th>\n",
       "      <td>8540.0</td>\n",
       "      <td>10050.0</td>\n",
       "      <td>8400.0</td>\n",
       "      <td>9560.0</td>\n",
       "      <td>17797057.0</td>\n",
       "    </tr>\n",
       "    <tr>\n",
       "      <th>2022-08-02</th>\n",
       "      <td>9400.0</td>\n",
       "      <td>9750.0</td>\n",
       "      <td>8840.0</td>\n",
       "      <td>9110.0</td>\n",
       "      <td>8081163.0</td>\n",
       "    </tr>\n",
       "    <tr>\n",
       "      <th>2022-08-03</th>\n",
       "      <td>8510.0</td>\n",
       "      <td>8720.0</td>\n",
       "      <td>7610.0</td>\n",
       "      <td>7890.0</td>\n",
       "      <td>13839322.0</td>\n",
       "    </tr>\n",
       "  </tbody>\n",
       "</table>\n",
       "</div>"
      ],
      "text/plain": [
       "              Open     High     Low   Close      Volume\n",
       "Date                                                   \n",
       "2022-07-28  9100.0   9100.0  8570.0  8750.0   6742289.0\n",
       "2022-07-29  8640.0   8960.0  8460.0  8540.0   5576178.0\n",
       "2022-08-01  8540.0  10050.0  8400.0  9560.0  17797057.0\n",
       "2022-08-02  9400.0   9750.0  8840.0  9110.0   8081163.0\n",
       "2022-08-03  8510.0   8720.0  7610.0  7890.0  13839322.0"
      ]
     },
     "execution_count": 70,
     "metadata": {},
     "output_type": "execute_result"
    }
   ],
   "source": [
    "df.head()"
   ]
  },
  {
   "cell_type": "markdown",
   "id": "7fb926b9",
   "metadata": {},
   "source": [
    "### Matplotlib은 한글 지원 안 함. font가 필요함! 아래는 mpl에 font 쓰는 예시\n",
    "\n",
    "### mplfinance는 한글 지원 안 하나..?"
   ]
  },
  {
   "cell_type": "code",
   "execution_count": null,
   "id": "9b828f56",
   "metadata": {},
   "outputs": [],
   "source": [
    "import matplotlib as mpl # font 잡는데 필요한 모듈 불러오기\n",
    "import matplotlib.pyplot as plt\n",
    "import matplotlib.font_manager as fm\n",
    "from matplotlib import rc\n",
    "\n",
    "font_path = './font/malgun.ttf' # ttf 파일을 jupyter notebook 디렉터리 안에 넣기\n",
    "font_name = fm.FontProperties(fname=font_path).get_name() # fm으로 font 이름 알아오기\n",
    "# print(font_name) # Malgun Gothic\n",
    "rc('font', family=font_name) # family는 font를 지칭함"
   ]
  },
  {
   "cell_type": "code",
   "execution_count": 74,
   "id": "c2d262cc",
   "metadata": {},
   "outputs": [],
   "source": [
    "kwargs = dict(title='kyc customized candle chart', type='candle', mav=(2, 4, 6), volume=True, ylabel='ohlc candles')\n",
    "mc = mpf.make_marketcolors(up='r', down='b', inherit=True)\n",
    "s = mpf.make_mpf_style(marketcolors=mc)\n",
    "mpf.plot(df, **kwargs, style=s, savefig=dict(fname='./CandleCharts/kyc_CandleChart.jpg', dpi=100, pad_inches=0.25))"
   ]
  },
  {
   "cell_type": "code",
   "execution_count": null,
   "id": "adea8064",
   "metadata": {},
   "outputs": [],
   "source": []
  }
 ],
 "metadata": {
  "kernelspec": {
   "display_name": "Python 3 (ipykernel)",
   "language": "python",
   "name": "python3"
  },
  "language_info": {
   "codemirror_mode": {
    "name": "ipython",
    "version": 3
   },
   "file_extension": ".py",
   "mimetype": "text/x-python",
   "name": "python",
   "nbconvert_exporter": "python",
   "pygments_lexer": "ipython3",
   "version": "3.10.4"
  },
  "vscode": {
   "interpreter": {
    "hash": "7686ba3900ac7c249b87df7ba5470728244e461a13fc76511b10ac837ea0b4fa"
   }
  }
 },
 "nbformat": 4,
 "nbformat_minor": 5
}
