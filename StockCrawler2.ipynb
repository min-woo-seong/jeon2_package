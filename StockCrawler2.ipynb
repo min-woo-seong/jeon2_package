{
 "cells": [
  {
   "cell_type": "markdown",
   "id": "896164f7",
   "metadata": {},
   "source": [
    "## 원본"
   ]
  },
  {
   "cell_type": "code",
   "execution_count": 1,
   "id": "37e078fd",
   "metadata": {},
   "outputs": [
    {
     "name": "stdout",
     "output_type": "stream",
     "text": [
      "['001570', '009270', '006220', '010580', '096300']\n"
     ]
    }
   ],
   "source": [
    "import requests\n",
    "from bs4 import BeautifulSoup\n",
    "\n",
    "URL = 'https://finance.naver.com/sise/sise_quant.nhn'\n",
    "res = requests.get(URL)\n",
    "# print(res.status_code)\n",
    "\n",
    "soup = BeautifulSoup(res.text, 'html.parser')\n",
    "stocks = soup.select('.type_2 tr')[2:]\n",
    "\n",
    "codes = []\n",
    "\n",
    "for stock in stocks:\n",
    "    try:\n",
    "        stock_n = stock.select_one('.tltle').text\n",
    "        price = stock.select_one('.number').text.replace(',', '')\n",
    "        code = stock.select_one('.tltle').attrs['href'][-6:]\n",
    "\n",
    "        if (('인버스' not in stock_n) and ('레버리지' not in stock_n)) and (int(price) <= 26000):\n",
    "            codes.append(code)\n",
    "        else:\n",
    "            pass\n",
    "    except:\n",
    "        continue\n",
    "        \n",
    "    if len(codes) == 5:\n",
    "        break\n",
    "        \n",
    "print(codes)"
   ]
  },
  {
   "cell_type": "markdown",
   "id": "1365d3d5",
   "metadata": {},
   "source": [
    "## 작업 중.. \n",
    "### (codes에 담긴 종목 중 변동성 돌파 기반으로 매수해야 할 종목이 있는지 추가적으로 데이터 크롤링 후 시각화 예정)"
   ]
  },
  {
   "cell_type": "code",
   "execution_count": 3,
   "id": "5b46cf38",
   "metadata": {},
   "outputs": [],
   "source": [
    "import requests\n",
    "from bs4 import BeautifulSoup\n",
    "\n",
    "URL = 'https://finance.naver.com/sise/sise_quant.nhn'\n",
    "res = requests.get(URL)\n",
    "# print(res.status_code)\n",
    "\n",
    "soup = BeautifulSoup(res.text, 'html.parser')\n",
    "stocks = soup.select('.type_2 tr')[2:]"
   ]
  },
  {
   "cell_type": "code",
   "execution_count": 4,
   "id": "c5cbda90",
   "metadata": {},
   "outputs": [
    {
     "data": {
      "text/plain": [
       "[<span class=\"tah p11 red02\">\n",
       " \t\t\t\t30\n",
       " \t\t\t\t</span>,\n",
       " <span class=\"tah p11 red01\">\n",
       " \t\t\t\t+0.95%\n",
       " \t\t\t\t</span>]"
      ]
     },
     "execution_count": 4,
     "metadata": {},
     "output_type": "execute_result"
    }
   ],
   "source": [
    "stocks[0].select('.tah.p11')"
   ]
  },
  {
   "cell_type": "code",
   "execution_count": 5,
   "id": "f7e2b2fc",
   "metadata": {},
   "outputs": [
    {
     "data": {
      "text/plain": [
       "'\\n\\t\\t\\t\\t30\\n\\t\\t\\t\\t'"
      ]
     },
     "execution_count": 5,
     "metadata": {},
     "output_type": "execute_result"
    }
   ],
   "source": [
    "stocks[0].select('.tah.p11')[0].text"
   ]
  },
  {
   "cell_type": "code",
   "execution_count": 6,
   "id": "5583b43e",
   "metadata": {},
   "outputs": [
    {
     "data": {
      "text/plain": [
       "'\\n\\t\\t\\t\\t+0.95%\\n\\t\\t\\t\\t'"
      ]
     },
     "execution_count": 6,
     "metadata": {},
     "output_type": "execute_result"
    }
   ],
   "source": [
    "stocks[0].select('.tah.p11')[1].text"
   ]
  },
  {
   "cell_type": "code",
   "execution_count": 7,
   "id": "3bcde46a",
   "metadata": {},
   "outputs": [],
   "source": [
    "import re"
   ]
  },
  {
   "cell_type": "code",
   "execution_count": 8,
   "id": "20c6ea1c",
   "metadata": {
    "scrolled": true
   },
   "outputs": [
    {
     "name": "stdout",
     "output_type": "stream",
     "text": [
      "\n",
      "\t\t\t\t30\n",
      "\t\t\t\t \n",
      "\t\t\t\t+0.95%\n",
      "\t\t\t\t\n"
     ]
    }
   ],
   "source": [
    "a = stocks[0].select('.tah.p11')[0].text\n",
    "b = stocks[0].select('.tah.p11')[1].text\n",
    "re_a = re.sub('[a-zA-Z]', '', a)\n",
    "re_b = re.sub('[a-zA-Z]', '', b)\n",
    "print(re_a, re_b)"
   ]
  },
  {
   "cell_type": "code",
   "execution_count": 9,
   "id": "c1002b3b",
   "metadata": {},
   "outputs": [
    {
     "name": "stdout",
     "output_type": "stream",
     "text": [
      "30 +0.95%\n"
     ]
    }
   ],
   "source": [
    "Notag_a = re.sub('\\t*|\\n*|(\\<[^\\>]*\\>)|\\n*\\t*', '', a)\n",
    "Notag_b = re.sub('\\t*|\\n*|(\\<[^\\>]*\\>)|\\n*\\t*', '', b)\n",
    "print(Notag_a, Notag_b)"
   ]
  },
  {
   "cell_type": "code",
   "execution_count": 36,
   "id": "fec40dbc",
   "metadata": {},
   "outputs": [
    {
     "name": "stdout",
     "output_type": "stream",
     "text": [
      "[<td class=\"number\">63,913,877</td>, <td class=\"number\">33,485</td>, <td class=\"number\">505</td>, <td class=\"number\">506</td>, <td class=\"number\">1,326</td>]\n",
      "63,913,877\n",
      "1,326\n"
     ]
    },
    {
     "data": {
      "text/plain": [
       "'63,913,877'"
      ]
     },
     "execution_count": 36,
     "metadata": {},
     "output_type": "execute_result"
    }
   ],
   "source": [
    "ccc = stocks[1].select('td.number')[3:-2]\n",
    "print(ccc, stocks[1].select('td.number')[3].text, stocks[1].select('td.number')[-3].text, sep = '\\n')\n",
    "ccc[0].text"
   ]
  },
  {
   "cell_type": "code",
   "execution_count": 35,
   "id": "66c4065c",
   "metadata": {},
   "outputs": [
    {
     "data": {
      "text/plain": [
       "'63,913,877'"
      ]
     },
     "execution_count": 35,
     "metadata": {},
     "output_type": "execute_result"
    }
   ],
   "source": [
    "pp = re.sub('\\t*|\\n*|(\\<[^\\>]*\\>)|\\n*\\t*|, ', '', str(ccc[0]))\n",
    "pp"
   ]
  },
  {
   "cell_type": "code",
   "execution_count": 14,
   "id": "057fb468",
   "metadata": {
    "scrolled": true
   },
   "outputs": [
    {
     "name": "stdout",
     "output_type": "stream",
     "text": [
      "<class 'bs4.element.Tag'>\n"
     ]
    }
   ],
   "source": [
    "print(type(ccc[0]))"
   ]
  },
  {
   "cell_type": "code",
   "execution_count": 15,
   "id": "3c4416e4",
   "metadata": {},
   "outputs": [
    {
     "name": "stdout",
     "output_type": "stream",
     "text": [
      "<td class=\"number\">63,913,877</td>\n",
      "<td class=\"number\">33,485</td>\n",
      "<td class=\"number\">505</td>\n",
      "<td class=\"number\">506</td>\n",
      "<td class=\"number\">1,326</td>\n"
     ]
    },
    {
     "data": {
      "text/plain": [
       "['63,913,877', '33,485', '505', '506', '1,326']"
      ]
     },
     "execution_count": 15,
     "metadata": {},
     "output_type": "execute_result"
    }
   ],
   "source": [
    "result = []\n",
    "\n",
    "for cc in ccc:\n",
    "    c = re.sub('\\t*|\\n*|(\\<[^\\>]*\\>)|\\n*\\t*|, ', '', str(cc))\n",
    "    print(cc)\n",
    "    result.append(c)\n",
    "result # 거래량, 거래대금, 매수호가, 매도호가, 시가총액"
   ]
  },
  {
   "cell_type": "code",
   "execution_count": 124,
   "id": "ce1186ed",
   "metadata": {
    "scrolled": false
   },
   "outputs": [
    {
     "name": "stdout",
     "output_type": "stream",
     "text": [
      "['001570', '009270', '006220', '010580', '096300']\n",
      "\n",
      "{'종목명': '금양', '현재가': '17450', '전일비': '600', '등락률': '+3.56%', '거래량': '25,566,113', '시가총액': '10,048'}\n",
      "\n",
      "{'종목명': '신원', '현재가': '1680', '전일비': '55', '등락률': '+3.38%', '거래량': '16,567,236', '시가총액': '1,606'}\n",
      "\n",
      "{'종목명': '제주은행', '현재가': '7020', '전일비': '730', '등락률': '+11.61%', '거래량': '11,798,306', '시가총액': '2,255'}\n",
      "\n",
      "{'종목명': '에스엠벡셀', '현재가': '2700', '전일비': '405', '등락률': '+17.65%', '거래량': '11,708,144', '시가총액': '3,004'}\n",
      "\n",
      "{'종목명': '베트남개발1', '현재가': '71', '전일비': '5', '등락률': '+7.58%', '거래량': '11,487,373', '시가총액': '98'}\n"
     ]
    }
   ],
   "source": [
    "import requests\n",
    "from bs4 import BeautifulSoup\n",
    "import re\n",
    "\n",
    "URL = 'https://finance.naver.com/sise/sise_quant.nhn'\n",
    "res = requests.get(URL)\n",
    "# print(res.status_code)\n",
    "\n",
    "soup = BeautifulSoup(res.text, 'html.parser')\n",
    "stocks = soup.select('.type_2 tr')[2:]\n",
    "\n",
    "codes = []\n",
    "keys = ['종목명', '현재가', '전일비', '등락률', '거래량', '시가총액']\n",
    "result = []\n",
    "\n",
    "for stock in stocks:\n",
    "    try:\n",
    "        stock_n = stock.select_one('.tltle').text\n",
    "        price = stock.select_one('.number').text.replace(',', '')\n",
    "\n",
    "        if (('인버스' not in stock_n) and ('레버리지' not in stock_n)) and (int(price) <= 26000):\n",
    "            \n",
    "            code = stock.select_one('.tltle').attrs['href'][-6:]\n",
    "            codes.append(code)\n",
    "            \n",
    "            updown = stock.select('.tah.p11')[0].text\n",
    "            percentage = stock.select('.tah.p11')[1].text\n",
    "            \n",
    "            re_updown = re.sub('\\t*|\\n*|(\\<[^\\>]*\\>)|\\n*\\t*', '', updown)\n",
    "            re_percentage = re.sub('\\t*|\\n*|(\\<[^\\>]*\\>)|\\n*\\t*', '', percentage)\n",
    "            \n",
    "            market = stock.select('td.number')[3].text\n",
    "            volumn = stock.select('td.number')[-3].text\n",
    "            \n",
    "            values = [stock_n, price, re_updown, re_percentage, market, volumn]\n",
    "            \n",
    "            info_dict = dict(zip(keys, values))\n",
    "            result.append(info_dict)\n",
    "        \n",
    "        else:\n",
    "            pass\n",
    "    except:\n",
    "        continue\n",
    "        \n",
    "    if len(codes) == 5:\n",
    "        break\n",
    "        \n",
    "print(codes)\n",
    "\n",
    "for r in result:\n",
    "    print()\n",
    "    print(r)"
   ]
  },
  {
   "cell_type": "code",
   "execution_count": 123,
   "id": "8f5455dc",
   "metadata": {
    "scrolled": true
   },
   "outputs": [
    {
     "name": "stdout",
     "output_type": "stream",
     "text": [
      "['001570', '009270', '006220', '010580', '096300'] [<class 'str'>, <class 'str'>, <class 'str'>, <class 'str'>, <class 'str'>]\n",
      "\n",
      "{'종목명': '금양', '현재가': '17450', '전일비': '600', '등락률': '+3.56%', '거래량': '25,566,113', '시가총액': '10,048'}\n",
      "\n",
      "{'종목명': '신원', '현재가': '1680', '전일비': '55', '등락률': '+3.38%', '거래량': '16,567,236', '시가총액': '1,606'}\n",
      "\n",
      "{'종목명': '제주은행', '현재가': '7020', '전일비': '730', '등락률': '+11.61%', '거래량': '11,798,306', '시가총액': '2,255'}\n",
      "\n",
      "{'종목명': '에스엠벡셀', '현재가': '2700', '전일비': '405', '등락률': '+17.65%', '거래량': '11,708,144', '시가총액': '3,004'}\n",
      "\n",
      "{'종목명': '베트남개발1', '현재가': '71', '전일비': '5', '등락률': '+7.58%', '거래량': '11,487,373', '시가총액': '98'}\n",
      "https://finance.naver.com/item/sise_day.naver?code=001570\n",
      "https://finance.naver.com/item/sise_day.naver?code=009270\n",
      "https://finance.naver.com/item/sise_day.naver?code=006220\n",
      "https://finance.naver.com/item/sise_day.naver?code=010580\n",
      "https://finance.naver.com/item/sise_day.naver?code=096300\n"
     ]
    }
   ],
   "source": [
    "import requests\n",
    "from bs4 import BeautifulSoup\n",
    "import re\n",
    "\n",
    "URL = 'https://finance.naver.com/sise/sise_quant.nhn'\n",
    "res = requests.get(URL)\n",
    "# print(res.status_code)\n",
    "\n",
    "soup = BeautifulSoup(res.text, 'html.parser')\n",
    "stocks = soup.select('.type_2 tr')[2:]\n",
    "\n",
    "codes = []\n",
    "keys = ['종목명', '현재가', '전일비', '등락률', '거래량', '시가총액']\n",
    "result = []\n",
    "urls = []\n",
    "\n",
    "for stock in stocks:\n",
    "    try:\n",
    "        company = stock.select_one('.tltle').text\n",
    "        price = stock.select_one('.number').text.replace(',', '')\n",
    "\n",
    "        if (('인버스' not in company) and ('레버리지' not in company)) and (int(price) <= 26000):\n",
    "            \n",
    "            code = stock.select_one('.tltle').attrs['href'][-6:] # 종목코드 가져오기\n",
    "            codes.append(code)\n",
    "            \n",
    "            updown = stock.select('.tah.p11')[0].text # 전일비 가져오기\n",
    "            percentage = stock.select('.tah.p11')[1].text # 등락률 가져오기\n",
    "            \n",
    "            re_updown = re.sub('\\t*|\\n*|(\\<[^\\>]*\\>)|\\n*\\t*', '', updown) # 전일비 정규표현식으로 클렌징\n",
    "            re_percentage = re.sub('\\t*|\\n*|(\\<[^\\>]*\\>)|\\n*\\t*', '', percentage) # 등락률 정규표현식으로 클렌징\n",
    "            \n",
    "            market = stock.select('td.number')[3].text # 거래량 가져오기\n",
    "            volumn = stock.select('td.number')[-3].text # 시가총액 가져오기\n",
    "            \n",
    "            values = [company, price, re_updown, re_percentage, market, volumn]\n",
    "            \n",
    "            info_dict = dict(zip(keys, values))\n",
    "            result.append(info_dict)\n",
    "            \n",
    "            sise_URL = 'https://finance.naver.com/item/sise_day.naver?code=' + code # 각 종목의 시세 탭으로 진입\n",
    "            urls.append(sise_URL)\n",
    "#             sise_res = requests.get(sise_URL)\n",
    "        \n",
    "        else:\n",
    "            pass\n",
    "    except:\n",
    "        continue\n",
    "        \n",
    "    if len(codes) == 5:\n",
    "        break\n",
    "        \n",
    "print(codes, [type(i) for i in codes])\n",
    "\n",
    "for r in result:\n",
    "    print()\n",
    "    print(r)\n",
    "\n",
    "print(*urls, sep='\\n')\n",
    "\n",
    "# for url in urls:\n",
    "#     res = requests.get(url)\n",
    "#     soup = BeautifulSoup(res.text, 'html.parser')"
   ]
  },
  {
   "cell_type": "code",
   "execution_count": 131,
   "id": "f749d2f1",
   "metadata": {
    "scrolled": false
   },
   "outputs": [
    {
     "name": "stdout",
     "output_type": "stream",
     "text": [
      "<tr onmouseout=\"mouseOut(this)\" onmouseover=\"mouseOver(this)\">\n",
      "<td align=\"center\"><span class=\"tah p10 gray03\">2022.09.08</span></td>\n",
      "<td class=\"num\"><span class=\"tah p11\">17,450</span></td>\n",
      "<td class=\"num\">\n",
      "<img alt=\"상승\" height=\"6\" src=\"https://ssl.pstatic.net/imgstock/images/images4/ico_up.gif\" style=\"margin-right:4px;\" width=\"7\"/><span class=\"tah p11 red02\">\n",
      "\t\t\t\t600\n",
      "\t\t\t\t</span>\n",
      "</td>\n",
      "<td class=\"num\"><span class=\"tah p11\">16,700</span></td>\n",
      "<td class=\"num\"><span class=\"tah p11\">21,250</span></td>\n",
      "<td class=\"num\"><span class=\"tah p11\">16,250</span></td>\n",
      "<td class=\"num\"><span class=\"tah p11\">25,566,113</span></td>\n",
      "</tr>\n",
      "2022.09.08\n",
      "16700\n",
      "21250\n",
      "16250\n",
      "19200\n",
      "19200.0\n",
      "20950.0\n"
     ]
    }
   ],
   "source": [
    "headers= {'user-agent': 'Mozilla/5.0 (X11; Ubuntu; Linux x86_64; rv:104.0) Gecko/20100101 Firefox/104.0'}\n",
    "sise_URL = 'https://finance.naver.com/item/sise_day.naver?code=001570'\n",
    "sise_res = requests.get(sise_URL, headers=headers)\n",
    "# print(res.status_code)\n",
    "\n",
    "soup = BeautifulSoup(sise_res.text, 'html.parser')\n",
    "prices = soup.select('.type2 tr')[2]\n",
    "\n",
    "'''\n",
    " <th>날짜</th>\n",
    " <th>종가</th>\n",
    " <th>전일비</th>\n",
    " <th>시가</th>\n",
    " <th>고가</th>\n",
    " <th>저가</th>\n",
    " <th>거래량</th>\n",
    "'''\n",
    "\n",
    "latest_date = prices.select_one('.tah.p10.gray03').text\n",
    "start_price = prices.select('.tah.p11')[2].text.replace(',', '') # 전날 시가이기 때문에 필요 없음. 당일 시가로 대체해야\n",
    "highest_price = prices.select('.tah.p11')[3].text.replace(',', '')\n",
    "lowest_price = prices.select('.tah.p11')[4].text.replace(',', '')\n",
    "target_price = int(start_price) + (int(highest_price) - int(lowest_price)) * 0.5\n",
    "print(prices, latest_date, start_price, highest_price, lowest_price, int(target_price), sep = '\\n')\n",
    "print(16700 + (21250-16250) * 0.5) # 돌파계수 K가 default 0.5일 때. 매수 타켓가격: 19200\n",
    "print(16700 + (21250-16250) * 0.85) # 돌파계수 K가 시장 상황에 따라 0.85일 때. 매수 타켓가격: 20950"
   ]
  },
  {
   "cell_type": "code",
   "execution_count": 110,
   "id": "1ee5599e",
   "metadata": {},
   "outputs": [
    {
     "name": "stdout",
     "output_type": "stream",
     "text": [
      "0.85\n",
      "-750\n",
      "5000\n",
      "0.15\n"
     ]
    }
   ],
   "source": [
    "print(1-abs(16700-17450)/(21250-16250))\n",
    "print(16700-17450); print(21250-16250); print(750/5000)"
   ]
  },
  {
   "cell_type": "code",
   "execution_count": 134,
   "id": "791b3ca4",
   "metadata": {
    "scrolled": false
   },
   "outputs": [
    {
     "name": "stdout",
     "output_type": "stream",
     "text": [
      "2022.09.08\n"
     ]
    },
    {
     "data": {
      "text/plain": [
       "[<table cellspacing=\"0\" class=\"type2\">\n",
       " <tr>\n",
       " <th>날짜</th>\n",
       " <th>종가</th>\n",
       " <th>전일비</th>\n",
       " <th>시가</th>\n",
       " <th>고가</th>\n",
       " <th>저가</th>\n",
       " <th>거래량</th>\n",
       " </tr>\n",
       " <tr>\n",
       " <td colspan=\"7\" height=\"8\"></td>\n",
       " </tr>\n",
       " <tr onmouseout=\"mouseOut(this)\" onmouseover=\"mouseOver(this)\">\n",
       " <td align=\"center\"><span class=\"tah p10 gray03\">2022.09.08</span></td>\n",
       " <td class=\"num\"><span class=\"tah p11\">17,450</span></td>\n",
       " <td class=\"num\">\n",
       " <img alt=\"상승\" height=\"6\" src=\"https://ssl.pstatic.net/imgstock/images/images4/ico_up.gif\" style=\"margin-right:4px;\" width=\"7\"/><span class=\"tah p11 red02\">\n",
       " \t\t\t\t600\n",
       " \t\t\t\t</span>\n",
       " </td>\n",
       " <td class=\"num\"><span class=\"tah p11\">16,700</span></td>\n",
       " <td class=\"num\"><span class=\"tah p11\">21,250</span></td>\n",
       " <td class=\"num\"><span class=\"tah p11\">16,250</span></td>\n",
       " <td class=\"num\"><span class=\"tah p11\">25,566,113</span></td>\n",
       " </tr>\n",
       " <tr onmouseout=\"mouseOut(this)\" onmouseover=\"mouseOver(this)\">\n",
       " <td align=\"center\"><span class=\"tah p10 gray03\">2022.09.07</span></td>\n",
       " <td class=\"num\"><span class=\"tah p11\">16,850</span></td>\n",
       " <td class=\"num\">\n",
       " <img alt=\"상승\" height=\"6\" src=\"https://ssl.pstatic.net/imgstock/images/images4/ico_up.gif\" style=\"margin-right:4px;\" width=\"7\"/><span class=\"tah p11 red02\">\n",
       " \t\t\t\t2,000\n",
       " \t\t\t\t</span>\n",
       " </td>\n",
       " <td class=\"num\"><span class=\"tah p11\">15,200</span></td>\n",
       " <td class=\"num\"><span class=\"tah p11\">16,850</span></td>\n",
       " <td class=\"num\"><span class=\"tah p11\">14,950</span></td>\n",
       " <td class=\"num\"><span class=\"tah p11\">11,763,436</span></td>\n",
       " </tr>\n",
       " <tr onmouseout=\"mouseOut(this)\" onmouseover=\"mouseOver(this)\">\n",
       " <td align=\"center\"><span class=\"tah p10 gray03\">2022.09.06</span></td>\n",
       " <td class=\"num\"><span class=\"tah p11\">14,850</span></td>\n",
       " <td class=\"num\">\n",
       " <img alt=\"상승\" height=\"6\" src=\"https://ssl.pstatic.net/imgstock/images/images4/ico_up.gif\" style=\"margin-right:4px;\" width=\"7\"/><span class=\"tah p11 red02\">\n",
       " \t\t\t\t1,700\n",
       " \t\t\t\t</span>\n",
       " </td>\n",
       " <td class=\"num\"><span class=\"tah p11\">12,950</span></td>\n",
       " <td class=\"num\"><span class=\"tah p11\">15,650</span></td>\n",
       " <td class=\"num\"><span class=\"tah p11\">12,900</span></td>\n",
       " <td class=\"num\"><span class=\"tah p11\">19,409,079</span></td>\n",
       " </tr>\n",
       " <tr onmouseout=\"mouseOut(this)\" onmouseover=\"mouseOver(this)\">\n",
       " <td align=\"center\"><span class=\"tah p10 gray03\">2022.09.05</span></td>\n",
       " <td class=\"num\"><span class=\"tah p11\">13,150</span></td>\n",
       " <td class=\"num\">\n",
       " <img alt=\"상승\" height=\"6\" src=\"https://ssl.pstatic.net/imgstock/images/images4/ico_up.gif\" style=\"margin-right:4px;\" width=\"7\"/><span class=\"tah p11 red02\">\n",
       " \t\t\t\t1,050\n",
       " \t\t\t\t</span>\n",
       " </td>\n",
       " <td class=\"num\"><span class=\"tah p11\">12,600</span></td>\n",
       " <td class=\"num\"><span class=\"tah p11\">13,550</span></td>\n",
       " <td class=\"num\"><span class=\"tah p11\">11,350</span></td>\n",
       " <td class=\"num\"><span class=\"tah p11\">9,487,497</span></td>\n",
       " </tr>\n",
       " <tr onmouseout=\"mouseOut(this)\" onmouseover=\"mouseOver(this)\">\n",
       " <td align=\"center\"><span class=\"tah p10 gray03\">2022.09.02</span></td>\n",
       " <td class=\"num\"><span class=\"tah p11\">12,100</span></td>\n",
       " <td class=\"num\">\n",
       " <span class=\"tah p11\">0</span>\n",
       " </td>\n",
       " <td class=\"num\"><span class=\"tah p11\">12,150</span></td>\n",
       " <td class=\"num\"><span class=\"tah p11\">12,250</span></td>\n",
       " <td class=\"num\"><span class=\"tah p11\">11,800</span></td>\n",
       " <td class=\"num\"><span class=\"tah p11\">1,099,212</span></td>\n",
       " </tr>\n",
       " <tr>\n",
       " <td colspan=\"7\" height=\"8\"></td>\n",
       " </tr>\n",
       " <tr>\n",
       " <td bgcolor=\"#e1e1e1\" colspan=\"7\" height=\"1\"></td>\n",
       " </tr>\n",
       " <tr>\n",
       " <td colspan=\"7\" height=\"8\"></td>\n",
       " </tr>\n",
       " <tr onmouseout=\"mouseOut(this)\" onmouseover=\"mouseOver(this)\">\n",
       " <td align=\"center\"><span class=\"tah p10 gray03\">2022.09.01</span></td>\n",
       " <td class=\"num\"><span class=\"tah p11\">12,100</span></td>\n",
       " <td class=\"num\">\n",
       " <img alt=\"상승\" height=\"6\" src=\"https://ssl.pstatic.net/imgstock/images/images4/ico_up.gif\" style=\"margin-right:4px;\" width=\"7\"/><span class=\"tah p11 red02\">\n",
       " \t\t\t\t50\n",
       " \t\t\t\t</span>\n",
       " </td>\n",
       " <td class=\"num\"><span class=\"tah p11\">11,700</span></td>\n",
       " <td class=\"num\"><span class=\"tah p11\">12,250</span></td>\n",
       " <td class=\"num\"><span class=\"tah p11\">11,700</span></td>\n",
       " <td class=\"num\"><span class=\"tah p11\">1,586,011</span></td>\n",
       " </tr>\n",
       " <tr onmouseout=\"mouseOut(this)\" onmouseover=\"mouseOver(this)\">\n",
       " <td align=\"center\"><span class=\"tah p10 gray03\">2022.08.31</span></td>\n",
       " <td class=\"num\"><span class=\"tah p11\">12,050</span></td>\n",
       " <td class=\"num\">\n",
       " <img alt=\"상승\" height=\"6\" src=\"https://ssl.pstatic.net/imgstock/images/images4/ico_up.gif\" style=\"margin-right:4px;\" width=\"7\"/><span class=\"tah p11 red02\">\n",
       " \t\t\t\t150\n",
       " \t\t\t\t</span>\n",
       " </td>\n",
       " <td class=\"num\"><span class=\"tah p11\">11,800</span></td>\n",
       " <td class=\"num\"><span class=\"tah p11\">13,150</span></td>\n",
       " <td class=\"num\"><span class=\"tah p11\">11,050</span></td>\n",
       " <td class=\"num\"><span class=\"tah p11\">5,373,907</span></td>\n",
       " </tr>\n",
       " <tr onmouseout=\"mouseOut(this)\" onmouseover=\"mouseOver(this)\">\n",
       " <td align=\"center\"><span class=\"tah p10 gray03\">2022.08.30</span></td>\n",
       " <td class=\"num\"><span class=\"tah p11\">11,900</span></td>\n",
       " <td class=\"num\">\n",
       " <img alt=\"상승\" height=\"6\" src=\"https://ssl.pstatic.net/imgstock/images/images4/ico_up.gif\" style=\"margin-right:4px;\" width=\"7\"/><span class=\"tah p11 red02\">\n",
       " \t\t\t\t250\n",
       " \t\t\t\t</span>\n",
       " </td>\n",
       " <td class=\"num\"><span class=\"tah p11\">11,650</span></td>\n",
       " <td class=\"num\"><span class=\"tah p11\">11,900</span></td>\n",
       " <td class=\"num\"><span class=\"tah p11\">11,400</span></td>\n",
       " <td class=\"num\"><span class=\"tah p11\">2,009,660</span></td>\n",
       " </tr>\n",
       " <tr onmouseout=\"mouseOut(this)\" onmouseover=\"mouseOver(this)\">\n",
       " <td align=\"center\"><span class=\"tah p10 gray03\">2022.08.29</span></td>\n",
       " <td class=\"num\"><span class=\"tah p11\">11,650</span></td>\n",
       " <td class=\"num\">\n",
       " <img alt=\"상승\" height=\"6\" src=\"https://ssl.pstatic.net/imgstock/images/images4/ico_up.gif\" style=\"margin-right:4px;\" width=\"7\"/><span class=\"tah p11 red02\">\n",
       " \t\t\t\t450\n",
       " \t\t\t\t</span>\n",
       " </td>\n",
       " <td class=\"num\"><span class=\"tah p11\">10,750</span></td>\n",
       " <td class=\"num\"><span class=\"tah p11\">12,000</span></td>\n",
       " <td class=\"num\"><span class=\"tah p11\">10,600</span></td>\n",
       " <td class=\"num\"><span class=\"tah p11\">3,289,576</span></td>\n",
       " </tr>\n",
       " <tr onmouseout=\"mouseOut(this)\" onmouseover=\"mouseOver(this)\">\n",
       " <td align=\"center\"><span class=\"tah p10 gray03\">2022.08.26</span></td>\n",
       " <td class=\"num\"><span class=\"tah p11\">11,200</span></td>\n",
       " <td class=\"num\">\n",
       " <img alt=\"상승\" height=\"6\" src=\"https://ssl.pstatic.net/imgstock/images/images4/ico_up.gif\" style=\"margin-right:4px;\" width=\"7\"/><span class=\"tah p11 red02\">\n",
       " \t\t\t\t150\n",
       " \t\t\t\t</span>\n",
       " </td>\n",
       " <td class=\"num\"><span class=\"tah p11\">11,150</span></td>\n",
       " <td class=\"num\"><span class=\"tah p11\">11,300</span></td>\n",
       " <td class=\"num\"><span class=\"tah p11\">10,850</span></td>\n",
       " <td class=\"num\"><span class=\"tah p11\">1,886,105</span></td>\n",
       " </tr>\n",
       " <tr>\n",
       " <td colspan=\"7\" height=\"8\"></td>\n",
       " </tr>\n",
       " </table>]"
      ]
     },
     "execution_count": 134,
     "metadata": {},
     "output_type": "execute_result"
    }
   ],
   "source": [
    "from datetime import datetime, timedelta\n",
    "\n",
    "today = datetime.now().date()\n",
    "yesterday = today - timedelta(days=1)\n",
    "# print(str(yesterday).replace('-', '.'))\n",
    "yesterday = str(yesterday).replace('-', '.')\n",
    "print(yesterday)\n",
    "prices = soup.select('table.type2')\n",
    "prices"
   ]
  }
 ],
 "metadata": {
  "kernelspec": {
   "display_name": "Python 3 (ipykernel)",
   "language": "python",
   "name": "python3"
  },
  "language_info": {
   "codemirror_mode": {
    "name": "ipython",
    "version": 3
   },
   "file_extension": ".py",
   "mimetype": "text/x-python",
   "name": "python",
   "nbconvert_exporter": "python",
   "pygments_lexer": "ipython3",
   "version": "3.10.4"
  },
  "vscode": {
   "interpreter": {
    "hash": "7686ba3900ac7c249b87df7ba5470728244e461a13fc76511b10ac837ea0b4fa"
   }
  }
 },
 "nbformat": 4,
 "nbformat_minor": 5
}
