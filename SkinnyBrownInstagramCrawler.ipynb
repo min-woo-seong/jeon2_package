{
 "cells": [
  {
   "cell_type": "markdown",
   "id": "7616bd78",
   "metadata": {},
   "source": [
    "## 스키니 브라운 인별에서 하단 해시태그가 포함된 포스트(URL, 날짜, 본문)만 가져오기\n",
    "### #콘서트 #공연 #페스티벌 #라인업 #티켓 #사인회"
   ]
  },
  {
   "cell_type": "markdown",
   "id": "876b9180",
   "metadata": {},
   "source": [
    "# 작업 로그~"
   ]
  },
  {
   "cell_type": "code",
   "execution_count": 2,
   "id": "8926682f",
   "metadata": {
    "scrolled": true
   },
   "outputs": [
    {
     "name": "stderr",
     "output_type": "stream",
     "text": [
      "/tmp/ipykernel_2985/2904026680.py:23: DeprecationWarning: executable_path has been deprecated, please pass in a Service object\n",
      "  driver = wd.Chrome(\"/mnt/FE0A5E240A5DDA6B/workspace/practice/chromedriver\")\n"
     ]
    },
    {
     "data": {
      "text/plain": [
       "['https://www.instagram.com/p/Ch_xkqxJs4i/',\n",
       " 'https://www.instagram.com/p/ChrKOB0vlZi/',\n",
       " 'https://www.instagram.com/p/Chjm1fPFjWk/',\n",
       " 'https://www.instagram.com/p/ChZ1zuJFl1e/',\n",
       " 'https://www.instagram.com/p/ChMl7Bvl4uu/',\n",
       " 'https://www.instagram.com/p/Cg_TUiElK5h/',\n",
       " 'https://www.instagram.com/p/Cg6apv5F6XU/',\n",
       " 'https://www.instagram.com/p/Cgo00A6PPrJ/',\n",
       " 'https://www.instagram.com/p/Cgjwqd-vzNF/',\n",
       " 'https://www.instagram.com/p/CgcMtg7FsBa/',\n",
       " 'https://www.instagram.com/p/CgGzLK9Pn4k/',\n",
       " 'https://www.instagram.com/p/Cf_OZgXJDkS/',\n",
       " 'https://www.instagram.com/p/Cf3fXsWpVGs/',\n",
       " 'https://www.instagram.com/p/Cf1WbMBpaWe/',\n",
       " 'https://www.instagram.com/p/Cfq2v9-F73A/',\n",
       " 'https://www.instagram.com/p/CfVhUxhl0Zv/',\n",
       " 'https://www.instagram.com/p/Ce-uS-ZlSKT/',\n",
       " 'https://www.instagram.com/p/Ce8Mbf7pEl4/',\n",
       " 'https://www.instagram.com/p/Ce5yYByvWBu/',\n",
       " 'https://www.instagram.com/p/Ce0kl_Up5YJ/',\n",
       " 'https://www.instagram.com/p/CetiE7Avrse/',\n",
       " 'https://www.instagram.com/p/Ceq6-t2pM5p/',\n",
       " 'https://www.instagram.com/p/CedHkjKJkjv/',\n",
       " 'https://www.instagram.com/p/CeAdP9mvnh7/']"
      ]
     },
     "execution_count": 2,
     "metadata": {},
     "output_type": "execute_result"
    }
   ],
   "source": [
    "import re\n",
    "import time\n",
    "import yaml\n",
    "import requests\n",
    "from bs4 import BeautifulSoup\n",
    "from selenium import webdriver as wd\n",
    "from selenium.webdriver.common.by import By\n",
    "from selenium.webdriver.common.keys import Keys\n",
    "from selenium.webdriver.support.ui import WebDriverWait\n",
    "\n",
    "# 인스타그램 로그인 계정\n",
    "with open('/mnt/FE0A5E240A5DDA6B/workspace/jeon2_package/InstagramConfig.yaml', encoding='UTF-8') as f:\n",
    "    _cfg = yaml.load(f, Loader=yaml.FullLoader)\n",
    "username = _cfg['username']\n",
    "userpw = _cfg['userpw']\n",
    "\n",
    "time.sleep(3)\n",
    "\n",
    "# 인스타그램 로그인 URL\n",
    "loginURL = 'https://www.instagram.com/accounts/login/'\n",
    "\n",
    "# Chrome drvier 실행\n",
    "driver = wd.Chrome(\"/mnt/FE0A5E240A5DDA6B/workspace/practice/chromedriver\")\n",
    "driver.get(loginURL)\n",
    "time.sleep(3)\n",
    "\n",
    "# login\n",
    "driver.find_element(By.XPATH, '//*[@id=\"loginForm\"]/div/div[1]/div/label/input').send_keys(username)\n",
    "driver.find_element(By.XPATH, '//*[@id=\"loginForm\"]/div/div[2]/div/label/input').send_keys(userpw)\n",
    "\n",
    "driver.find_element(By.XPATH, '//*[@id=\"loginForm\"]/div/div[3]/button').click()\n",
    "time.sleep(3)\n",
    "\n",
    "# 정보 나중에 저장하기 클릭하고 넘어가기\n",
    "driver.find_element(By.XPATH, '//*[@id=\"react-root\"]/section/main/div/div/div/div/button').click()\n",
    "time.sleep(3)\n",
    "\n",
    "# 설정 나중에 하기 클릭하고 넘어가기\n",
    "driver.find_element(By.CLASS_NAME, '_a9--._a9_1').click() # XPATH 일부가 매번 바뀌기 때문에 class로 찾아 줌\n",
    "time.sleep(3)\n",
    "\n",
    "skinnyURL = 'https://www.instagram.com/skinnybrownn/' # Skinny Brown Instagram URL\n",
    "driver.get(skinnyURL)\n",
    "time.sleep(3)\n",
    "\n",
    "aTags = driver.find_elements(By.CSS_SELECTOR, '._ac7v._aang a') # 최근 포스트 URL\n",
    "time.sleep(3)\n",
    "\n",
    "hrefs = []\n",
    "\n",
    "for a in aTags:\n",
    "    hrefs.append(a.get_attribute('href'))\n",
    "\n",
    "hrefs"
   ]
  },
  {
   "cell_type": "code",
   "execution_count": 3,
   "id": "f66353ab",
   "metadata": {
    "scrolled": true
   },
   "outputs": [
    {
     "data": {
      "text/plain": [
       "24"
      ]
     },
     "execution_count": 3,
     "metadata": {},
     "output_type": "execute_result"
    }
   ],
   "source": [
    "len(hrefs)"
   ]
  },
  {
   "cell_type": "code",
   "execution_count": 4,
   "id": "58577149",
   "metadata": {
    "scrolled": false
   },
   "outputs": [
    {
     "data": {
      "text/plain": [
       "['https://www.instagram.com/p/Ch_xkqxJs4i/',\n",
       " 'https://www.instagram.com/p/ChrKOB0vlZi/',\n",
       " 'https://www.instagram.com/p/Chjm1fPFjWk/',\n",
       " 'https://www.instagram.com/p/ChZ1zuJFl1e/',\n",
       " 'https://www.instagram.com/p/ChMl7Bvl4uu/',\n",
       " 'https://www.instagram.com/p/Cg_TUiElK5h/']"
      ]
     },
     "execution_count": 4,
     "metadata": {},
     "output_type": "execute_result"
    }
   ],
   "source": [
    "recent6 = hrefs[:6] # 최근 포스트 6개만 추리기\n",
    "recent6"
   ]
  },
  {
   "cell_type": "code",
   "execution_count": 5,
   "id": "28343e0d",
   "metadata": {},
   "outputs": [
    {
     "data": {
      "text/plain": [
       "'https://www.instagram.com/p/Ch_xkqxJs4i/'"
      ]
     },
     "execution_count": 5,
     "metadata": {},
     "output_type": "execute_result"
    }
   ],
   "source": [
    "recent6[0]"
   ]
  },
  {
   "cell_type": "code",
   "execution_count": 56,
   "id": "a64cb12e",
   "metadata": {
    "scrolled": false
   },
   "outputs": [
    {
     "data": {
      "text/plain": [
       "\"제가 코로나19 확진으로 랩비트페스티벌에 참여하지 못하게 되었습니다 기대하던 공연이였는데 정말 아쉽습니다 기대해주셨던 분들께 죄송합니다📢RAPBEAT 2022 라인업 변동 안내📢9월 3일(토) 출연 예정이었던 SKINNY BROWN이 코로나19 확진으로 출연이 취소되었습니다.해당 시간에는 GIST(@gist.the.artist)가 대체 아티스트로 출연할 예정이며, 본 게시물을 통해 변경된 타임테이블을 확인해 주시기 바랍니다.📢RAPBEAT 2022 LINEUP CHANGE📢SKINNY BROWN who was expected to perform on the 3rd of September (SAT) is unable to attend the festival due to his COVID-19 test resulting as positive. GIST (@gist.the.artist) will be replacing his place, hence please make sure to check out the changed timetable.💫 𝗥𝗔𝗣𝗕𝗘𝗔𝗧 𝟮𝟬𝟮𝟮 💫- DATE : 9/3(SAT)-9/4(SUN) 1PM- VENUE : 서울랜드 (SEOULLAND)- LINE-UP9/3(SAT) : LUCKY DAYE, CL, NELL, E SENS, ZION.T, PH-1, LILBOI, LOOPY, BIBI, BIG NAUGHTY, BE'O, KHUNDI PANDA, SOKODOMO, SAMUEL SEO, DVWN, SEORI, 정기고, CRUCIAL STAR, TAKEWON, DON MALIK, GIST, BLASE X DIVE, SON SIMBA, CHOILB, PEAKBOY, BUMZU, SOMA, DSEL, YANU, 권영훈, CLOUDYBAY, UNE, 최진호, JUTO, WYNN, DNEIRF, SUMMER CAKE, DJ TEZZ, YLN FOREIGN, VIANN, LOXX PUNKMAN, ODD95, INDEGO AID, EUNSAN, BADASSGATSBY, LNB, DOBERMAN, DJ KENDRICKX⠀9/4(SUN) : AMINÉ, AUDREY NUNA, SIMON DOMINIC, LOCO, BLOO, SUPERBEE, KID MILLI, JUSTHIS, ASH ISLAND, 새소년, B.I, LEELLAMARZ, UNEDUCATED KID, 호미들, 미노이, SINCE, RAD MUSEUM, TABBER, MISO, BILL STAX, SHAUN, QUEEN WA$ABII, BIGONE, D.ARK, BRYN, TRADE L, LOBONABEAT!, FURYFROMGUXXI, 박현진, UNTELL, BOY WONDER, BMTJ, CHERRY COKE, CHURRY, 니화, MINGGINYU, DEEPSHOWER, 오넷, 유민, 세진, 찰리빈웍스, 서자영, GYU HYUK, HOLISHIP, DAUL, NXPS, DOCE, JAHKI🎫 2ND TICKET 🎫- BOOKING : 무신사, 멜론티켓, 티켓링크, 네이버 예약, TRAZY- TICKET PRICE· 2DAYS : 149,000원 (정가 199,000원)· 1DAY : 99,000원 (정가 139,000원)Presented by @culturethink#RAPBEAT #랩비트 #RAPBEAT2022 #랩비트2022 #페스티벌 #뮤직페스티벌 #LINEUP #라인업\""
      ]
     },
     "execution_count": 56,
     "metadata": {},
     "output_type": "execute_result"
    }
   ],
   "source": [
    "r_URL = recent6[0] # 포스트 안에 댓글 제외하고, 본문만 가져오기\n",
    "response = requests.get(r_URL)\n",
    "soup = BeautifulSoup(response.text, 'html.parser')\n",
    "text = soup.text\n",
    "# real_text = re.sub('\\s', '', text)\n",
    "real_text = re.sub('[\\t\\n\\r\\f\\v]', '', text)\n",
    "real_text = re.sub('Skinny Brown on Instagram: ', '', real_text)\n",
    "real_text = re.sub('\"', '', real_text)\n",
    "real_text"
   ]
  },
  {
   "cell_type": "code",
   "execution_count": 57,
   "id": "c623631a",
   "metadata": {
    "scrolled": true
   },
   "outputs": [
    {
     "name": "stdout",
     "output_type": "stream",
     "text": [
      "#페스티벌 True\n",
      "#라인업 True\n",
      "#LINEUP True\n"
     ]
    },
    {
     "data": {
      "text/plain": [
       "['#페스티벌', '#라인업', '#LINEUP']"
      ]
     },
     "execution_count": 57,
     "metadata": {},
     "output_type": "execute_result"
    }
   ],
   "source": [
    "FilterTags = ['#콘서트', '#concert', '#CONCERT', '#공연', '#페스티벌', '#festival', '#FESTIVAL', '#라인업', '#lineup', '#LINEUP', '#티켓', '#ticket', '#TICKET', '#사인회']\n",
    "hashtags = []\n",
    "\n",
    "for F in FilterTags:\n",
    "    if F in real_text:\n",
    "        print(F, F in real_text)\n",
    "        hashtags.append(F)\n",
    "    else:\n",
    "        continue\n",
    "hashtags"
   ]
  },
  {
   "cell_type": "code",
   "execution_count": 11,
   "id": "f24b9604",
   "metadata": {},
   "outputs": [],
   "source": [
    "filterTags = ['#콘서트', '#concert', '#CONCERT', '#공연', '#페스티벌', '#festival', '#FESTIVAL', '#라인업', '#lineup', '#LINEUP', '#티켓', '#ticket', '#TICKET', '#사인회']\n",
    "feed = [] # URL, Tag 딕셔너리 담은 리스트\n",
    "posts = [] # 모든 포스트(최근 6개)\n",
    "content = [] # 필요한 태그가 들어가 있는 포스트만\n",
    "\n",
    "for i in range(6):\n",
    "    response = requests.get(recent6[i])\n",
    "    soup = BeautifulSoup(response.text, 'html.parser')\n",
    "    text = re.sub('[\\t\\n\\r\\f\\v]', '', soup.text)\n",
    "    text = re.sub('Skinny Brown on Instagram: ', '', text)\n",
    "    text = re.sub('\"', '', text)\n",
    "    posts.append(text)\n",
    "    \n",
    "    tags = []\n",
    "    \n",
    "    for f in filterTags:\n",
    "        if f in text:\n",
    "            tags.append(f)\n",
    "            \n",
    "            if text not in content:\n",
    "                content.append(text)\n",
    "                \n",
    "            else:\n",
    "                continue\n",
    "            \n",
    "        else:\n",
    "            continue\n",
    "#             pass\n",
    "            \n",
    "#     urltags = dict(zip(recent6[i], tags))\n",
    "\n",
    "    driver.get(recent6[i])\n",
    "    time.sleep(3)\n",
    "\n",
    "    date = driver.find_element(By.CSS_SELECTOR, '._a9z6._a9za time')\n",
    "    date = date.get_attribute('datetime')[:10]\n",
    "    \n",
    "    urltags = [date, tags, recent6[i]]\n",
    "    \n",
    "    if tags == []:\n",
    "        continue\n",
    "    \n",
    "    feed.append(urltags)\n",
    "    \n",
    "# 최대 50초까지 기다렸다가, > 모양 클릭하여 다음 게시물로 넘어가기\n",
    "# WebDriverWait(driver,50).until(EC.presence_of_element_located((By.CSS_SELECTOR, 'a._65Bje.coreSpriteRightPaginationArrow')))\n",
    "\n",
    "# 크롬드라이버 종료\n",
    "driver.close()"
   ]
  },
  {
   "cell_type": "code",
   "execution_count": 67,
   "id": "65cd97f8",
   "metadata": {
    "scrolled": true
   },
   "outputs": [
    {
     "data": {
      "text/plain": [
       "'like a birdman go tell em!'"
      ]
     },
     "execution_count": 67,
     "metadata": {},
     "output_type": "execute_result"
    }
   ],
   "source": [
    "text # 최근 6개 포스트 중 마지막 텍스트"
   ]
  },
  {
   "cell_type": "code",
   "execution_count": 68,
   "id": "bfc9d7a2",
   "metadata": {
    "scrolled": true
   },
   "outputs": [
    {
     "data": {
      "text/plain": [
       "[\"제가 코로나19 확진으로 랩비트페스티벌에 참여하지 못하게 되었습니다 기대하던 공연이였는데 정말 아쉽습니다 기대해주셨던 분들께 죄송합니다📢RAPBEAT 2022 라인업 변동 안내📢9월 3일(토) 출연 예정이었던 SKINNY BROWN이 코로나19 확진으로 출연이 취소되었습니다.해당 시간에는 GIST(@gist.the.artist)가 대체 아티스트로 출연할 예정이며, 본 게시물을 통해 변경된 타임테이블을 확인해 주시기 바랍니다.📢RAPBEAT 2022 LINEUP CHANGE📢SKINNY BROWN who was expected to perform on the 3rd of September (SAT) is unable to attend the festival due to his COVID-19 test resulting as positive. GIST (@gist.the.artist) will be replacing his place, hence please make sure to check out the changed timetable.💫 𝗥𝗔𝗣𝗕𝗘𝗔𝗧 𝟮𝟬𝟮𝟮 💫- DATE : 9/3(SAT)-9/4(SUN) 1PM- VENUE : 서울랜드 (SEOULLAND)- LINE-UP9/3(SAT) : LUCKY DAYE, CL, NELL, E SENS, ZION.T, PH-1, LILBOI, LOOPY, BIBI, BIG NAUGHTY, BE'O, KHUNDI PANDA, SOKODOMO, SAMUEL SEO, DVWN, SEORI, 정기고, CRUCIAL STAR, TAKEWON, DON MALIK, GIST, BLASE X DIVE, SON SIMBA, CHOILB, PEAKBOY, BUMZU, SOMA, DSEL, YANU, 권영훈, CLOUDYBAY, UNE, 최진호, JUTO, WYNN, DNEIRF, SUMMER CAKE, DJ TEZZ, YLN FOREIGN, VIANN, LOXX PUNKMAN, ODD95, INDEGO AID, EUNSAN, BADASSGATSBY, LNB, DOBERMAN, DJ KENDRICKX⠀9/4(SUN) : AMINÉ, AUDREY NUNA, SIMON DOMINIC, LOCO, BLOO, SUPERBEE, KID MILLI, JUSTHIS, ASH ISLAND, 새소년, B.I, LEELLAMARZ, UNEDUCATED KID, 호미들, 미노이, SINCE, RAD MUSEUM, TABBER, MISO, BILL STAX, SHAUN, QUEEN WA$ABII, BIGONE, D.ARK, BRYN, TRADE L, LOBONABEAT!, FURYFROMGUXXI, 박현진, UNTELL, BOY WONDER, BMTJ, CHERRY COKE, CHURRY, 니화, MINGGINYU, DEEPSHOWER, 오넷, 유민, 세진, 찰리빈웍스, 서자영, GYU HYUK, HOLISHIP, DAUL, NXPS, DOCE, JAHKI🎫 2ND TICKET 🎫- BOOKING : 무신사, 멜론티켓, 티켓링크, 네이버 예약, TRAZY- TICKET PRICE· 2DAYS : 149,000원 (정가 199,000원)· 1DAY : 99,000원 (정가 139,000원)Presented by @culturethink#RAPBEAT #랩비트 #RAPBEAT2022 #랩비트2022 #페스티벌 #뮤직페스티벌 #LINEUP #라인업\",\n",
       " 'mood',\n",
       " '더 위 더 성장',\n",
       " 'Skinny Brown on Instagram',\n",
       " '풀리지 않는 고민 가창으로 참여!',\n",
       " 'like a birdman go tell em!']"
      ]
     },
     "execution_count": 68,
     "metadata": {},
     "output_type": "execute_result"
    }
   ],
   "source": [
    "posts # 모든 포스트(최근 6개)"
   ]
  },
  {
   "cell_type": "code",
   "execution_count": 69,
   "id": "9f2d15e5",
   "metadata": {},
   "outputs": [
    {
     "data": {
      "text/plain": [
       "[\"제가 코로나19 확진으로 랩비트페스티벌에 참여하지 못하게 되었습니다 기대하던 공연이였는데 정말 아쉽습니다 기대해주셨던 분들께 죄송합니다📢RAPBEAT 2022 라인업 변동 안내📢9월 3일(토) 출연 예정이었던 SKINNY BROWN이 코로나19 확진으로 출연이 취소되었습니다.해당 시간에는 GIST(@gist.the.artist)가 대체 아티스트로 출연할 예정이며, 본 게시물을 통해 변경된 타임테이블을 확인해 주시기 바랍니다.📢RAPBEAT 2022 LINEUP CHANGE📢SKINNY BROWN who was expected to perform on the 3rd of September (SAT) is unable to attend the festival due to his COVID-19 test resulting as positive. GIST (@gist.the.artist) will be replacing his place, hence please make sure to check out the changed timetable.💫 𝗥𝗔𝗣𝗕𝗘𝗔𝗧 𝟮𝟬𝟮𝟮 💫- DATE : 9/3(SAT)-9/4(SUN) 1PM- VENUE : 서울랜드 (SEOULLAND)- LINE-UP9/3(SAT) : LUCKY DAYE, CL, NELL, E SENS, ZION.T, PH-1, LILBOI, LOOPY, BIBI, BIG NAUGHTY, BE'O, KHUNDI PANDA, SOKODOMO, SAMUEL SEO, DVWN, SEORI, 정기고, CRUCIAL STAR, TAKEWON, DON MALIK, GIST, BLASE X DIVE, SON SIMBA, CHOILB, PEAKBOY, BUMZU, SOMA, DSEL, YANU, 권영훈, CLOUDYBAY, UNE, 최진호, JUTO, WYNN, DNEIRF, SUMMER CAKE, DJ TEZZ, YLN FOREIGN, VIANN, LOXX PUNKMAN, ODD95, INDEGO AID, EUNSAN, BADASSGATSBY, LNB, DOBERMAN, DJ KENDRICKX⠀9/4(SUN) : AMINÉ, AUDREY NUNA, SIMON DOMINIC, LOCO, BLOO, SUPERBEE, KID MILLI, JUSTHIS, ASH ISLAND, 새소년, B.I, LEELLAMARZ, UNEDUCATED KID, 호미들, 미노이, SINCE, RAD MUSEUM, TABBER, MISO, BILL STAX, SHAUN, QUEEN WA$ABII, BIGONE, D.ARK, BRYN, TRADE L, LOBONABEAT!, FURYFROMGUXXI, 박현진, UNTELL, BOY WONDER, BMTJ, CHERRY COKE, CHURRY, 니화, MINGGINYU, DEEPSHOWER, 오넷, 유민, 세진, 찰리빈웍스, 서자영, GYU HYUK, HOLISHIP, DAUL, NXPS, DOCE, JAHKI🎫 2ND TICKET 🎫- BOOKING : 무신사, 멜론티켓, 티켓링크, 네이버 예약, TRAZY- TICKET PRICE· 2DAYS : 149,000원 (정가 199,000원)· 1DAY : 99,000원 (정가 139,000원)Presented by @culturethink#RAPBEAT #랩비트 #RAPBEAT2022 #랩비트2022 #페스티벌 #뮤직페스티벌 #LINEUP #라인업\"]"
      ]
     },
     "execution_count": 69,
     "metadata": {},
     "output_type": "execute_result"
    }
   ],
   "source": [
    "content # 필요한 태그가 들어가 있는 포스트만"
   ]
  },
  {
   "cell_type": "code",
   "execution_count": 12,
   "id": "9add5864",
   "metadata": {
    "scrolled": true
   },
   "outputs": [
    {
     "data": {
      "text/plain": [
       "[['2022-09-02',\n",
       "  ['#페스티벌', '#라인업', '#LINEUP'],\n",
       "  'https://www.instagram.com/p/Ch_xkqxJs4i/']]"
      ]
     },
     "execution_count": 12,
     "metadata": {},
     "output_type": "execute_result"
    }
   ],
   "source": [
    "feed"
   ]
  },
  {
   "cell_type": "code",
   "execution_count": 72,
   "id": "ef62b480",
   "metadata": {
    "scrolled": true
   },
   "outputs": [
    {
     "data": {
      "text/plain": [
       "'2022-09-02'"
      ]
     },
     "execution_count": 72,
     "metadata": {},
     "output_type": "execute_result"
    }
   ],
   "source": [
    "# driver = wd.Chrome(\"/mnt/FE0A5E240A5DDA6B/workspace/practice/chromedriver\")\n",
    "driver.get(recent6[0])\n",
    "time.sleep(2)\n",
    "\n",
    "date = driver.find_element(By.CSS_SELECTOR, '._a9z6._a9za time')\n",
    "\n",
    "date = date.get_attribute('datetime')[:10]\n",
    "date # '2022-09-02'"
   ]
  },
  {
   "cell_type": "code",
   "execution_count": 13,
   "id": "d313240f",
   "metadata": {},
   "outputs": [],
   "source": [
    "driver.close()"
   ]
  },
  {
   "cell_type": "markdown",
   "id": "a7d47269",
   "metadata": {},
   "source": [
    "# 최종 Ver."
   ]
  },
  {
   "cell_type": "code",
   "execution_count": 18,
   "id": "774928f6",
   "metadata": {
    "scrolled": true
   },
   "outputs": [
    {
     "name": "stderr",
     "output_type": "stream",
     "text": [
      "/tmp/ipykernel_2985/3408124768.py:23: DeprecationWarning: executable_path has been deprecated, please pass in a Service object\n",
      "  driver = wd.Chrome(\"/mnt/FE0A5E240A5DDA6B/workspace/practice/chromedriver\")\n"
     ]
    },
    {
     "data": {
      "text/plain": [
       "[\"날짜: 2022-09-02, 해시태그: ['#페스티벌', '#라인업', '#LINEUP'], URL: https://www.instagram.com/p/Ch_xkqxJs4i/\"]"
      ]
     },
     "execution_count": 18,
     "metadata": {},
     "output_type": "execute_result"
    }
   ],
   "source": [
    "import re\n",
    "import time\n",
    "import yaml\n",
    "import requests\n",
    "from bs4 import BeautifulSoup\n",
    "from selenium import webdriver as wd\n",
    "from selenium.webdriver.common.by import By\n",
    "from selenium.webdriver.common.keys import Keys\n",
    "from selenium.webdriver.support.ui import WebDriverWait\n",
    "\n",
    "# 인스타그램 로그인 계정\n",
    "with open('/mnt/FE0A5E240A5DDA6B/workspace/jeon2_package/InstagramConfig.yaml', encoding='UTF-8') as f:\n",
    "    _cfg = yaml.load(f, Loader=yaml.FullLoader)\n",
    "username = _cfg['username']\n",
    "userpw = _cfg['userpw']\n",
    "\n",
    "time.sleep(3)\n",
    "\n",
    "# 인스타그램 로그인 URL\n",
    "loginURL = 'https://www.instagram.com/accounts/login/'\n",
    "\n",
    "# Chrome drvier 실행\n",
    "driver = wd.Chrome(\"/mnt/FE0A5E240A5DDA6B/workspace/practice/chromedriver\")\n",
    "driver.get(loginURL)\n",
    "time.sleep(3)\n",
    "\n",
    "# login\n",
    "driver.find_element(By.XPATH, '//*[@id=\"loginForm\"]/div/div[1]/div/label/input').send_keys(username)\n",
    "driver.find_element(By.XPATH, '//*[@id=\"loginForm\"]/div/div[2]/div/label/input').send_keys(userpw)\n",
    "\n",
    "driver.find_element(By.XPATH, '//*[@id=\"loginForm\"]/div/div[3]/button').click()\n",
    "time.sleep(3)\n",
    "\n",
    "# 정보 나중에 저장하기 클릭하고 넘어가기\n",
    "driver.find_element(By.XPATH, '//*[@id=\"react-root\"]/section/main/div/div/div/div/button').click()\n",
    "time.sleep(3)\n",
    "\n",
    "# 설정 나중에 하기 클릭하고 넘어가기\n",
    "driver.find_element(By.CLASS_NAME, '_a9--._a9_1').click() # XPATH 일부가 매번 바뀌기 때문에 class로 찾아 줌\n",
    "time.sleep(3)\n",
    "\n",
    "skinnyURL = 'https://www.instagram.com/skinnybrownn/' # Skinny Brown Instagram URL\n",
    "driver.get(skinnyURL)\n",
    "time.sleep(3)\n",
    "\n",
    "aTags = driver.find_elements(By.CSS_SELECTOR, '._ac7v._aang a') # 최근 포스트 URL\n",
    "time.sleep(3)\n",
    "\n",
    "hrefs = []\n",
    "\n",
    "for a in aTags:\n",
    "    hrefs.append(a.get_attribute('href'))\n",
    "    \n",
    "filterTags = ['#콘서트', '#concert', '#CONCERT', '#공연', '#페스티벌', '#festival', '#FESTIVAL', '#라인업', '#lineup', '#LINEUP', '#티켓', '#ticket', '#TICKET', '#사인회']\n",
    "feed = [] # URL, Tag 딕셔너리 담은 리스트\n",
    "posts = [] # 모든 포스트(최근 6개)\n",
    "content = [] # 필요한 태그가 들어가 있는 포스트만\n",
    "\n",
    "for i in range(6):\n",
    "    response = requests.get(recent6[i])\n",
    "    soup = BeautifulSoup(response.text, 'html.parser')\n",
    "    text = re.sub('[\\t\\n\\r\\f\\v]', '', soup.text)\n",
    "    text = re.sub('Skinny Brown on Instagram: ', '', text)\n",
    "    text = re.sub('\"', '', text)\n",
    "    posts.append(text)\n",
    "    \n",
    "    tags = []\n",
    "    \n",
    "    for f in filterTags:\n",
    "        if f in text:\n",
    "            tags.append(f)\n",
    "            \n",
    "            if text not in content:\n",
    "                content.append(text)\n",
    "                \n",
    "            else:\n",
    "                continue\n",
    "            \n",
    "        else:\n",
    "            continue\n",
    "\n",
    "    driver.get(recent6[i])\n",
    "    time.sleep(3)\n",
    "\n",
    "    date = driver.find_element(By.CSS_SELECTOR, '._a9z6._a9za time')\n",
    "    date = date.get_attribute('datetime')[:10]\n",
    "    \n",
    "    urltags = f'날짜: {date}, 해시태그: {tags}, URL: {recent6[i]}'\n",
    "    \n",
    "    if tags == []:\n",
    "        continue\n",
    "    \n",
    "    feed.append(urltags)\n",
    "    \n",
    "# 크롬드라이버 종료\n",
    "driver.close()\n",
    "\n",
    "feed"
   ]
  }
 ],
 "metadata": {
  "kernelspec": {
   "display_name": "Python [conda env:study] *",
   "language": "python",
   "name": "conda-env-study-py"
  },
  "language_info": {
   "codemirror_mode": {
    "name": "ipython",
    "version": 3
   },
   "file_extension": ".py",
   "mimetype": "text/x-python",
   "name": "python",
   "nbconvert_exporter": "python",
   "pygments_lexer": "ipython3",
   "version": "3.10.4"
  }
 },
 "nbformat": 4,
 "nbformat_minor": 5
}
