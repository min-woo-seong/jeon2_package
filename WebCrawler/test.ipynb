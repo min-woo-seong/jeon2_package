{
 "cells": [
  {
   "cell_type": "code",
   "execution_count": 3,
   "metadata": {},
   "outputs": [
    {
     "ename": "TimeoutException",
     "evalue": "Message: \nStacktrace:\n#0 0x55c237029693 <unknown>\n#1 0x55c236e22b0a <unknown>\n#2 0x55c236e5b5f7 <unknown>\n#3 0x55c236e5b7c1 <unknown>\n#4 0x55c236e8e804 <unknown>\n#5 0x55c236e7894d <unknown>\n#6 0x55c236e8c4b0 <unknown>\n#7 0x55c236e78743 <unknown>\n#8 0x55c236e4e533 <unknown>\n#9 0x55c236e4f715 <unknown>\n#10 0x55c2370797bd <unknown>\n#11 0x55c23707cbf9 <unknown>\n#12 0x55c23705ef2e <unknown>\n#13 0x55c23707d9b3 <unknown>\n#14 0x55c237052e4f <unknown>\n#15 0x55c23709cea8 <unknown>\n#16 0x55c23709d052 <unknown>\n#17 0x55c2370b771f <unknown>\n#18 0x7f104cb62b43 <unknown>\n",
     "output_type": "error",
     "traceback": [
      "\u001b[0;31m---------------------------------------------------------------------------\u001b[0m",
      "\u001b[0;31mTimeoutException\u001b[0m                          Traceback (most recent call last)",
      "\u001b[1;32m/mnt/FE0A5E240A5DDA6B/workspace/jeon2_package/WebCrawler/test.ipynb 셀 1\u001b[0m in \u001b[0;36m<cell line: 4>\u001b[0;34m()\u001b[0m\n\u001b[1;32m      <a href='vscode-notebook-cell:/mnt/FE0A5E240A5DDA6B/workspace/jeon2_package/WebCrawler/test.ipynb#W0sZmlsZQ%3D%3D?line=0'>1</a>\u001b[0m \u001b[39mfrom\u001b[39;00m \u001b[39mSBInstaTele\u001b[39;00m \u001b[39mimport\u001b[39;00m \u001b[39m*\u001b[39m\n\u001b[1;32m      <a href='vscode-notebook-cell:/mnt/FE0A5E240A5DDA6B/workspace/jeon2_package/WebCrawler/test.ipynb#W0sZmlsZQ%3D%3D?line=2'>3</a>\u001b[0m \u001b[39m# SBInsta()\u001b[39;00m\n\u001b[0;32m----> <a href='vscode-notebook-cell:/mnt/FE0A5E240A5DDA6B/workspace/jeon2_package/WebCrawler/test.ipynb#W0sZmlsZQ%3D%3D?line=3'>4</a>\u001b[0m TeleBot()\n",
      "File \u001b[0;32m/mnt/FE0A5E240A5DDA6B/workspace/jeon2_package/WebCrawler/SBInstaTele.py:127\u001b[0m, in \u001b[0;36mTeleBot\u001b[0;34m()\u001b[0m\n\u001b[1;32m    125\u001b[0m chat_id \u001b[39m=\u001b[39m telegram_config[\u001b[39m'\u001b[39m\u001b[39mchat_id\u001b[39m\u001b[39m'\u001b[39m]\n\u001b[1;32m    126\u001b[0m bot \u001b[39m=\u001b[39m telegram\u001b[39m.\u001b[39mBot(token)\n\u001b[0;32m--> 127\u001b[0m feed \u001b[39m=\u001b[39m SBInsta()\n\u001b[1;32m    128\u001b[0m msg \u001b[39m=\u001b[39m \u001b[39mstr\u001b[39m(\u001b[39m*\u001b[39mfeed)\n\u001b[1;32m    129\u001b[0m bot\u001b[39m.\u001b[39msend_message(chat_id, text\u001b[39m=\u001b[39m\u001b[39m'\u001b[39m\u001b[39m봇이 작동하기 시작합니다.\u001b[39m\u001b[39m'\u001b[39m)\n",
      "File \u001b[0;32m/mnt/FE0A5E240A5DDA6B/workspace/jeon2_package/WebCrawler/SBInstaTele.py:46\u001b[0m, in \u001b[0;36mSBInsta\u001b[0;34m()\u001b[0m\n\u001b[1;32m     42\u001b[0m elem\u001b[39m.\u001b[39msend_keys(Keys\u001b[39m.\u001b[39mENTER)\n\u001b[1;32m     44\u001b[0m \u001b[39m# 로그인 정보 나중에 저장하기 클릭하고 넘어가기\u001b[39;00m\n\u001b[1;32m     45\u001b[0m elem \u001b[39m=\u001b[39m WebDriverWait(driver, \u001b[39m10\u001b[39;49m, ignored_exceptions\u001b[39m=\u001b[39;49mig_e)\\\n\u001b[0;32m---> 46\u001b[0m     \u001b[39m.\u001b[39;49muntil(EC\u001b[39m.\u001b[39;49melement_to_be_clickable((By\u001b[39m.\u001b[39;49mCSS_SELECTOR, \u001b[39m'\u001b[39;49m\u001b[39m#react-root > section > main > div > div > div > div > button\u001b[39;49m\u001b[39m'\u001b[39;49m)))\n\u001b[1;32m     47\u001b[0m elem\u001b[39m.\u001b[39mclick()\n\u001b[1;32m     49\u001b[0m \u001b[39m# 설정 나중에 하기 클릭하고 넘어가기\u001b[39;00m\n",
      "File \u001b[0;32m~/anaconda3/envs/study/lib/python3.10/site-packages/selenium/webdriver/support/wait.py:90\u001b[0m, in \u001b[0;36mWebDriverWait.until\u001b[0;34m(self, method, message)\u001b[0m\n\u001b[1;32m     88\u001b[0m     \u001b[39mif\u001b[39;00m time\u001b[39m.\u001b[39mmonotonic() \u001b[39m>\u001b[39m end_time:\n\u001b[1;32m     89\u001b[0m         \u001b[39mbreak\u001b[39;00m\n\u001b[0;32m---> 90\u001b[0m \u001b[39mraise\u001b[39;00m TimeoutException(message, screen, stacktrace)\n",
      "\u001b[0;31mTimeoutException\u001b[0m: Message: \nStacktrace:\n#0 0x55c237029693 <unknown>\n#1 0x55c236e22b0a <unknown>\n#2 0x55c236e5b5f7 <unknown>\n#3 0x55c236e5b7c1 <unknown>\n#4 0x55c236e8e804 <unknown>\n#5 0x55c236e7894d <unknown>\n#6 0x55c236e8c4b0 <unknown>\n#7 0x55c236e78743 <unknown>\n#8 0x55c236e4e533 <unknown>\n#9 0x55c236e4f715 <unknown>\n#10 0x55c2370797bd <unknown>\n#11 0x55c23707cbf9 <unknown>\n#12 0x55c23705ef2e <unknown>\n#13 0x55c23707d9b3 <unknown>\n#14 0x55c237052e4f <unknown>\n#15 0x55c23709cea8 <unknown>\n#16 0x55c23709d052 <unknown>\n#17 0x55c2370b771f <unknown>\n#18 0x7f104cb62b43 <unknown>\n"
     ]
    }
   ],
   "source": [
    "from SBInstaTele import *\n",
    "\n",
    "TeleBot()"
   ]
  }
 ],
 "metadata": {
  "kernelspec": {
   "display_name": "Python 3.10.4 ('study')",
   "language": "python",
   "name": "python3"
  },
  "language_info": {
   "codemirror_mode": {
    "name": "ipython",
    "version": 3
   },
   "file_extension": ".py",
   "mimetype": "text/x-python",
   "name": "python",
   "nbconvert_exporter": "python",
   "pygments_lexer": "ipython3",
   "version": "3.10.4"
  },
  "orig_nbformat": 4,
  "vscode": {
   "interpreter": {
    "hash": "7686ba3900ac7c249b87df7ba5470728244e461a13fc76511b10ac837ea0b4fa"
   }
  }
 },
 "nbformat": 4,
 "nbformat_minor": 2
}
