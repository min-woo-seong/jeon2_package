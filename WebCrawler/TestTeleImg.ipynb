{
 "cells": [
  {
   "cell_type": "code",
   "execution_count": 31,
   "metadata": {},
   "outputs": [],
   "source": [
    "import re\n",
    "import yaml\n",
    "import requests\n",
    "from bs4 import BeautifulSoup\n",
    "from selenium import webdriver as wd\n",
    "from selenium.webdriver.common.by import By\n",
    "from selenium.webdriver.common.keys import Keys\n",
    "from selenium.webdriver.chrome.service import Service\n",
    "from webdriver_manager.chrome import ChromeDriverManager\n",
    "from selenium.webdriver.support.ui import WebDriverWait\n",
    "from selenium.webdriver.support import expected_conditions as EC\n",
    "from selenium.common.exceptions import NoSuchElementException\n",
    "from selenium.common.exceptions import StaleElementReferenceException\n",
    "import time\n",
    "import telegram\n",
    "\n",
    "ig_e = (NoSuchElementException, StaleElementReferenceException,)\n",
    "\n",
    "# 인스타그램 로그인 계정\n",
    "with open('/mnt/FE0A5E240A5DDA6B/workspace/jeon2_package/WebCrawler/InstagramConfig.yaml', encoding='UTF-8') as f:\n",
    "    _cfg = yaml.load(f, Loader=yaml.FullLoader)\n",
    "username = _cfg['username']\n",
    "userpw = _cfg['userpw']\n",
    "\n",
    "# 인스타그램 로그인 URL\n",
    "loginURL = 'https://www.instagram.com/accounts/login/'\n",
    "\n",
    "# Chrome Option 추가\n",
    "chrome_options = wd.ChromeOptions()\n",
    "# chrome_options.add_argument('lang=ko_KR')\n",
    "# chrome_options.add_argument('--headless')\n",
    "chrome_options.add_argument('--no-sandbox')\n",
    "# chrome_options.add_argument('--disable-gpu')\n",
    "# chrome_options.add_argument('--single-process')\n",
    "chrome_options.add_argument('window-size=1920,1080')\n",
    "# chrome_options.add_argument('--disable-dev-shm-usage')\n",
    "chrome_options.add_argument('user-agent=Mozilla/5.0 (X11; Linux x86_64) AppleWebKit/537.36 (KHTML, like Gecko) Chrome/105.0.0.0 Safari/537.36')\n",
    "\n",
    "# Chrome driver 실행\n",
    "driver = wd.Chrome(service=Service(ChromeDriverManager().install()), options=chrome_options) # Selenium 4 버전 대\n",
    "driver.get(loginURL)\n",
    "# user_agent = driver.find_element(By.CSS_SELECTOR, '#user-agent').text # no such element\n",
    "driver.implicitly_wait(3) # 처음 접속 시 대기(페이지 로딩 끝나면 진행)\n",
    "\n",
    "# login\n",
    "elem = WebDriverWait(driver, 3, ignored_exceptions=ig_e)\\\n",
    "    .until(EC.presence_of_element_located((By.NAME, 'username')))\n",
    "elem.send_keys(username)\n",
    "\n",
    "elem = WebDriverWait(driver, 3, ignored_exceptions=ig_e)\\\n",
    "    .until(EC.presence_of_element_located((By.NAME, 'password')))\n",
    "elem.send_keys(userpw)\n",
    "elem.send_keys(Keys.ENTER)\n",
    "\n",
    "# 로그인 정보 나중에 저장하기 클릭하고 넘어가기\n",
    "try:\n",
    "    elem = WebDriverWait(driver, 20, ignored_exceptions=ig_e)\\\n",
    "        .until(EC.element_to_be_clickable((By.CSS_SELECTOR, '#react-root > section > main > div > div > div > div > button')))\n",
    "except:\n",
    "    elem = WebDriverWait(driver, 20, ignored_exceptions=ig_e)\\\n",
    "        .until(EC.element_to_be_clickable((By.CSS_SELECTOR, '#mount_0_0_f2 > div > div > div > div.bdao358l.om3e55n1.g4tp4svg > div > div > div > div.alzwoclg.cqf1kptm.p1t2w4gn.fawcizw8.om3e55n1.g4tp4svg > div.bdao358l.cauy2b9r.alzwoclg.cmg2g80i.lk0hwhjd.nfcwbgbd.mivixfar.h4m39qi9.i54nktwv.z2vv26z9.c7y9u1f0.jez8cy9q.jl2a5g8c.oq7qnk0t.o9w3sbdw.mx6umkf4.sl27f92c > div.mfclru0v.mdyuua9d.mu7z578c.dx5cv30n.b0g6smra.ixtmsaem > section > main > div > div > div > div > button')))\n",
    "elem.click()\n",
    "\n",
    "# 설정 나중에 하기 클릭하고 넘어가기\n",
    "elem = WebDriverWait(driver, 20, ignored_exceptions=ig_e)\\\n",
    "    .until(EC.element_to_be_clickable((By.CLASS_NAME, '_a9--._a9_1')))\n",
    "elem.click() # XPATH 일부가 매번 바뀌기 때문에 class로 찾아 줌\n",
    "\n",
    "skinnyURL = 'https://www.instagram.com/skinnybrownn/' # Skinny Brown Instagram URL\n",
    "driver.get(skinnyURL)\n",
    "driver.implicitly_wait(3)\n",
    "\n",
    "WebDriverWait(driver, 3, ignored_exceptions=ig_e)\\\n",
    "    .until(EC.presence_of_element_located((By.CSS_SELECTOR, '._ac7v._aang a')))\n",
    "\n",
    "aTags = driver.find_elements(By.CSS_SELECTOR, '._ac7v._aang a')[:3] # 최근 포스트 URL"
   ]
  },
  {
   "cell_type": "code",
   "execution_count": 32,
   "metadata": {},
   "outputs": [
    {
     "data": {
      "text/plain": [
       "['https://www.instagram.com/p/CipdQ84g21z/',\n",
       " 'https://www.instagram.com/p/CijzoYJBcsi/',\n",
       " 'https://www.instagram.com/p/Cib17pep3yx/']"
      ]
     },
     "execution_count": 32,
     "metadata": {},
     "output_type": "execute_result"
    }
   ],
   "source": [
    "recent3 = []\n",
    "\n",
    "for a in aTags:\n",
    "    recent3.append(a.get_attribute('href'))\n",
    "    \n",
    "recent3"
   ]
  },
  {
   "cell_type": "code",
   "execution_count": 5,
   "metadata": {},
   "outputs": [],
   "source": [
    "recent3 = ['https://www.instagram.com/p/CipdQ84g21z/', 'https://www.instagram.com/p/CijzoYJBcsi/', 'https://www.instagram.com/p/Cib17pep3yx/']"
   ]
  },
  {
   "cell_type": "code",
   "execution_count": 43,
   "metadata": {},
   "outputs": [
    {
     "data": {
      "text/plain": [
       "[]"
      ]
     },
     "execution_count": 43,
     "metadata": {},
     "output_type": "execute_result"
    }
   ],
   "source": [
    "response = requests.get(recent3[0])\n",
    "soup = BeautifulSoup(response.text, 'lxml')\n",
    "# Video = soup.find('video', class_='_ab1d')\n",
    "# Video = soup.select_one('._aato video')\n",
    "# Video = soup.select_one('#mount_0_0_4L > div > div > div > div.bdao358l.om3e55n1.g4tp4svg > div > div > div > div.alzwoclg.cqf1kptm.p1t2w4gn.fawcizw8.om3e55n1.g4tp4svg > div.bdao358l.cauy2b9r.alzwoclg.cmg2g80i.lk0hwhjd.nfcwbgbd.mivixfar.h4m39qi9.i54nktwv.z2vv26z9.c7y9u1f0.jez8cy9q.jl2a5g8c.oq7qnk0t.o9w3sbdw.mx6umkf4.sl27f92c > div.mfclru0v.mdyuua9d.mu7z578c.dx5cv30n.b0g6smra.ixtmsaem > section > main > div._aa6b._ad9f._aa6d > div._aa6e > article > div > div._aatk._aatn > div > div > div:nth-child(1) > div > div > video')\n",
    "# Video = soup.select_one('._aatk._aatn._ab1d video')\n",
    "Video = soup.select('image')\n",
    "Video\n",
    "# print(Video.attrs['src'])"
   ]
  },
  {
   "cell_type": "code",
   "execution_count": null,
   "metadata": {},
   "outputs": [],
   "source": [
    "driver.get(recent3[0])\n",
    "\n",
    "# Vid = WebDriverWait(driver, 10, ignored_exceptions=ig_e)\\\n",
    "# .until(EC.presence_of_element_located((By.CSS_SELECTOR, '._aatk._aatn._ab1d video')))\n",
    "\n",
    "Vid = WebDriverWait(driver, 10, ignored_exceptions=ig_e)\\\n",
    ".until(EC.presence_of_element_located((By.CLASS_NAME, '_ab1c')))\n",
    "\n",
    "Vid = Vid.get_attribute('poster')\n",
    "Vid"
   ]
  },
  {
   "cell_type": "code",
   "execution_count": null,
   "metadata": {},
   "outputs": [],
   "source": [
    "pageString = driver.page_source \n",
    "soup = BeautifulSoup(pageString, \"lxml\")\n",
    "soup\n",
    "# imgs = soup.select_one('_ab1c')\n",
    "# imgs = imgs.attrs['poster']\n",
    "# imgs"
   ]
  },
  {
   "cell_type": "code",
   "execution_count": 35,
   "metadata": {},
   "outputs": [
    {
     "ename": "AttributeError",
     "evalue": "'NoneType' object has no attribute 'attrs'",
     "output_type": "error",
     "traceback": [
      "\u001b[0;31m---------------------------------------------------------------------------\u001b[0m",
      "\u001b[0;31mAttributeError\u001b[0m                            Traceback (most recent call last)",
      "\u001b[1;32m/mnt/FE0A5E240A5DDA6B/workspace/jeon2_package/WebCrawler/TestTele.ipynb 셀 7\u001b[0m in \u001b[0;36m<cell line: 16>\u001b[0;34m()\u001b[0m\n\u001b[1;32m     <a href='vscode-notebook-cell:/mnt/FE0A5E240A5DDA6B/workspace/jeon2_package/WebCrawler/TestTele.ipynb#X10sZmlsZQ%3D%3D?line=12'>13</a>\u001b[0m soup \u001b[39m=\u001b[39m BeautifulSoup(pagesource, \u001b[39m\"\u001b[39m\u001b[39mlxml\u001b[39m\u001b[39m\"\u001b[39m)\n\u001b[1;32m     <a href='vscode-notebook-cell:/mnt/FE0A5E240A5DDA6B/workspace/jeon2_package/WebCrawler/TestTele.ipynb#X10sZmlsZQ%3D%3D?line=14'>15</a>\u001b[0m img \u001b[39m=\u001b[39m soup\u001b[39m.\u001b[39mselect_one(\u001b[39m'\u001b[39m\u001b[39m._aagt\u001b[39m\u001b[39m'\u001b[39m)\n\u001b[0;32m---> <a href='vscode-notebook-cell:/mnt/FE0A5E240A5DDA6B/workspace/jeon2_package/WebCrawler/TestTele.ipynb#X10sZmlsZQ%3D%3D?line=15'>16</a>\u001b[0m img \u001b[39m=\u001b[39m img\u001b[39m.\u001b[39;49mattrs[\u001b[39m'\u001b[39m\u001b[39msrc\u001b[39m\u001b[39m'\u001b[39m]\n\u001b[1;32m     <a href='vscode-notebook-cell:/mnt/FE0A5E240A5DDA6B/workspace/jeon2_package/WebCrawler/TestTele.ipynb#X10sZmlsZQ%3D%3D?line=16'>17</a>\u001b[0m \u001b[39mprint\u001b[39m(img)\n",
      "\u001b[0;31mAttributeError\u001b[0m: 'NoneType' object has no attribute 'attrs'"
     ]
    }
   ],
   "source": [
    "driver.get(recent3[0])\n",
    "\n",
    "pagesource = driver.page_source\n",
    "soup = BeautifulSoup(pagesource, \"lxml\")\n",
    "\n",
    "vid1 = soup.select_one('._ab1d')\n",
    "vid1 = vid1.attrs['poster']\n",
    "print(vid1)\n",
    "\n",
    "driver.get(recent3[1])\n",
    "\n",
    "pagesource = driver.page_source\n",
    "soup = BeautifulSoup(pagesource, \"lxml\")\n",
    "\n",
    "img = soup.select_one('._aagt')\n",
    "img = img.attrs['src']\n",
    "print(img)\n",
    "\n",
    "driver.get(recent3[2])\n",
    "\n",
    "pagesource = driver.page_source\n",
    "soup = BeautifulSoup(pagesource, \"lxml\")\n",
    "\n",
    "vid2 = soup.select_one('._ab1d')\n",
    "vid2 = vid2.attrs['poster']\n",
    "print(vid2)"
   ]
  },
  {
   "cell_type": "code",
   "execution_count": 38,
   "metadata": {},
   "outputs": [
    {
     "name": "stdout",
     "output_type": "stream",
     "text": [
      "https://scontent-gmp1-1.cdninstagram.com/v/t51.2885-15/307415924_155634797102111_4081743369920493630_n.jpg?stp=c0.210.540.540a_dst-jpg_e15&_nc_ht=scontent-gmp1-1.cdninstagram.com&_nc_cat=111&_nc_ohc=dkqxTXd908MAX8rgu2O&edm=APU89FABAAAA&ccb=7-5&oh=00_AT_iBc-M2cfightNgPyXe-RNsZ4jPqM2QfvSnRSWLJFRjw&oe=632ADB58&_nc_sid=86f79a https://scontent-gmp1-1.cdninstagram.com/v/t51.2885-15/307415924_155634797102111_4081743369920493630_n.jpg?stp=c0.210.540.540a_dst-jpg_e15&_nc_ht=scontent-gmp1-1.cdninstagram.com&_nc_cat=111&_nc_ohc=dkqxTXd908MAX8rgu2O&edm=APU89FABAAAA&ccb=7-5&oh=00_AT_iBc-M2cfightNgPyXe-RNsZ4jPqM2QfvSnRSWLJFRjw&oe=632ADB58&_nc_sid=86f79a https://scontent-gmp1-1.cdninstagram.com/v/t51.2885-15/307415924_155634797102111_4081743369920493630_n.jpg?stp=c0.210.540.540a_dst-jpg_e15&_nc_ht=scontent-gmp1-1.cdninstagram.com&_nc_cat=111&_nc_ohc=dkqxTXd908MAX8rgu2O&edm=APU89FABAAAA&ccb=7-5&oh=00_AT_iBc-M2cfightNgPyXe-RNsZ4jPqM2QfvSnRSWLJFRjw&oe=632ADB58&_nc_sid=86f79a 3\n"
     ]
    }
   ],
   "source": [
    "pagesource = driver.page_source\n",
    "soup = BeautifulSoup(pagesource, \"lxml\")\n",
    "# vid = soup.select_one('._ab1d')\n",
    "# vid = vid.attrs['poster']\n",
    "\n",
    "# vid\n",
    "\n",
    "src = []\n",
    "for i in range(len(recent3)):\n",
    "    driver.get(recent3[i])\n",
    "    if soup.select_one('._aagt'):\n",
    "        img = soup.select_one('._aagt')\n",
    "        img = img.attrs['src']\n",
    "        src.append(img)\n",
    "\n",
    "    else:\n",
    "        if soup.select_one('._ab1c'):\n",
    "            vid = soup.select_one('._ab1d')\n",
    "            vid = vid.attrs['poster']\n",
    "            src.append(vid)\n",
    "\n",
    "print(*src, len(src))"
   ]
  },
  {
   "cell_type": "code",
   "execution_count": null,
   "metadata": {},
   "outputs": [],
   "source": [
    "filterTags = ['#콘서트', '#concert', '#CONCERT', '#공연', '#페스티벌', '#festival', '#FESTIVAL', '#라인업', '#lineup', '#LINEUP', '#티켓', '#ticket', '#TICKET', '#사인회']\n",
    "feed = [] # URL, Tag 딕셔너리 담은 리스트\n",
    "posts = [] # 모든 포스트(최근 3개)\n",
    "content = [] # 필요한 태그가 들어가 있는 포스트만\n",
    "\n",
    "for i in range(3):\n",
    "    response = requests.get(recent6[i])\n",
    "    soup = BeautifulSoup(response.text, 'lxml')\n",
    "    text = re.sub('[\\t\\n\\r\\f\\v]', '', soup.text)\n",
    "    text = re.sub('Skinny Brown on Instagram: ', '', text)\n",
    "    text = re.sub('\"', '', text)\n",
    "    posts.append(text)\n",
    "    \n",
    "    tags = []\n",
    "    \n",
    "    for f in filterTags:\n",
    "        if f in text:\n",
    "            tags.append(f)\n",
    "            \n",
    "            if text not in content:\n",
    "                content.append(text)\n",
    "                \n",
    "            else:\n",
    "                continue\n",
    "            \n",
    "        else:\n",
    "            continue\n",
    "\n",
    "    driver.get(recent6[i])\n",
    "\n",
    "    date = WebDriverWait(driver, 10, ignored_exceptions=ig_e)\\\n",
    "    .until(EC.presence_of_element_located((By.TAG_NAME, 'time')))\n",
    "\n",
    "    date = date.get_attribute('datetime')[:10]\n",
    "\n",
    "    Vid = WebDriverWait(driver, 10, ignored_exceptions=ig_e)\\\n",
    "    .until(EC.presence_of_element_located((By.CSS_SELECTOR, '._aatk._aatn._ab1d video')))\n",
    "\n",
    "    urltags = f'날짜: {date}, 해시태그: {tags}, URL: {recent6[i]}'\n",
    "    \n",
    "    if tags == []:\n",
    "        continue\n",
    "    \n",
    "    feed.append(urltags)\n",
    "    \n",
    "# 크롬드라이버 종료\n",
    "driver.close()"
   ]
  }
 ],
 "metadata": {
  "kernelspec": {
   "display_name": "Python 3.10.4 ('study')",
   "language": "python",
   "name": "python3"
  },
  "language_info": {
   "codemirror_mode": {
    "name": "ipython",
    "version": 3
   },
   "file_extension": ".py",
   "mimetype": "text/x-python",
   "name": "python",
   "nbconvert_exporter": "python",
   "pygments_lexer": "ipython3",
   "version": "3.10.4"
  },
  "orig_nbformat": 4,
  "vscode": {
   "interpreter": {
    "hash": "7686ba3900ac7c249b87df7ba5470728244e461a13fc76511b10ac837ea0b4fa"
   }
  }
 },
 "nbformat": 4,
 "nbformat_minor": 2
}
