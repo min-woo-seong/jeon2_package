{
 "cells": [
  {
   "cell_type": "markdown",
   "id": "1365d3d5",
   "metadata": {},
   "source": [
    "## 작업 중.. \n",
    "### (codes에 담긴 종목 중 변동성 돌파 기반으로 매수해야 할 종목이 있는지 추가적으로 데이터 크롤링 후 시각화 예정)"
   ]
  },
  {
   "cell_type": "code",
   "execution_count": 1,
   "id": "8f5455dc",
   "metadata": {
    "scrolled": true
   },
   "outputs": [
    {
     "name": "stdout",
     "output_type": "stream",
     "text": [
      "['008420', '026940', '071090', '002140', '008970']\n",
      "\n",
      "{'종목명': '문배철강', '현재가': '4850', '전일비': '1,095', '등락률': '+29.16%', '거래량': '11,797,688', '시가총액': '994'}\n",
      "\n",
      "{'종목명': '부국철강', '현재가': '4240', '전일비': '740', '등락률': '+21.14%', '거래량': '5,529,701', '시가총액': '848'}\n",
      "\n",
      "{'종목명': '하이스틸', '현재가': '5050', '전일비': '640', '등락률': '+14.51%', '거래량': '4,158,978', '시가총액': '1,020'}\n",
      "\n",
      "{'종목명': '고려산업', '현재가': '6370', '전일비': '190', '등락률': '-2.90%', '거래량': '3,912,787', '시가총액': '1,589'}\n",
      "\n",
      "{'종목명': '동양철관', '현재가': '1140', '전일비': '65', '등락률': '+6.05%', '거래량': '3,647,904', '시가총액': '1,355'}\n",
      "https://finance.naver.com/item/sise_day.naver?code=008420\n",
      "https://finance.naver.com/item/sise_day.naver?code=026940\n",
      "https://finance.naver.com/item/sise_day.naver?code=071090\n",
      "https://finance.naver.com/item/sise_day.naver?code=002140\n",
      "https://finance.naver.com/item/sise_day.naver?code=008970\n"
     ]
    }
   ],
   "source": [
    "import requests\n",
    "from bs4 import BeautifulSoup\n",
    "import re\n",
    "\n",
    "URL = 'https://finance.naver.com/sise/sise_quant.nhn'\n",
    "res = requests.get(URL)\n",
    "# print(res.status_code)\n",
    "\n",
    "soup = BeautifulSoup(res.text, 'lxml')\n",
    "stocks = soup.select('.type_2 tr')[2:]\n",
    "\n",
    "codes = []\n",
    "keys = ['종목명', '현재가', '전일비', '등락률', '거래량', '시가총액']\n",
    "result = []\n",
    "urls = []\n",
    "\n",
    "for stock in stocks:\n",
    "    try:\n",
    "        company = stock.select_one('.tltle').text\n",
    "        price = stock.select_one('.number').text.replace(',', '')\n",
    "\n",
    "        if (('인버스' not in company) and ('레버리지' not in company)) and (int(price) <= 26000):\n",
    "            \n",
    "            code = stock.select_one('.tltle').attrs['href'][-6:] # 종목코드 가져오기\n",
    "            codes.append(code)\n",
    "            \n",
    "            updown = stock.select('.tah.p11')[0].text # 전일비 가져오기\n",
    "            percentage = stock.select('.tah.p11')[1].text # 등락률 가져오기\n",
    "            \n",
    "            re_updown = re.sub('\\t*|\\n*|(\\<[^\\>]*\\>)|\\n*\\t*', '', updown) # 전일비 정규표현식으로 클렌징\n",
    "            re_percentage = re.sub('\\t*|\\n*|(\\<[^\\>]*\\>)|\\n*\\t*', '', percentage) # 등락률 정규표현식으로 클렌징\n",
    "            \n",
    "            market = stock.select('td.number')[3].text # 거래량 가져오기\n",
    "            volumn = stock.select('td.number')[-3].text # 시가총액 가져오기\n",
    "            \n",
    "            values = [company, price, re_updown, re_percentage, market, volumn]\n",
    "            \n",
    "            info_dict = dict(zip(keys, values))\n",
    "            result.append(info_dict)\n",
    "            \n",
    "            sise_URL = 'https://finance.naver.com/item/sise_day.naver?code=' + code # 각 종목의 시세 탭으로 진입\n",
    "            urls.append(sise_URL)\n",
    "#             sise_res = requests.get(sise_URL)\n",
    "        \n",
    "        else:\n",
    "            continue\n",
    "    except:\n",
    "        pass\n",
    "        \n",
    "    if len(codes) == 5:\n",
    "        break\n",
    "        \n",
    "print(codes) # [type(i) for i in codes]\n",
    "\n",
    "for r in result:\n",
    "    print()\n",
    "    print(r)\n",
    "\n",
    "print(*urls, sep='\\n')\n",
    "\n",
    "# for url in urls:\n",
    "#     res = requests.get(url)\n",
    "#     soup = BeautifulSoup(res.text, 'lxml')"
   ]
  },
  {
   "cell_type": "markdown",
   "id": "21552089",
   "metadata": {},
   "source": [
    "## 고정 돌파계수 K vs. 시장 상황(전날 추세 - 9/8 목)에 따른 변동 돌파계수 K"
   ]
  },
  {
   "cell_type": "markdown",
   "id": "0fd16dcb",
   "metadata": {},
   "source": [
    "#### 날짜, 종가, 전일비, 시가, 고가, 저가, 거래량\n",
    " \n",
    "- 특정 종목의 (전일 고가-전일 저가)가 갑자기 크게 증가한 다음날 (상한가를 치거나 주가가 많이 오른 경우) \n",
    "- 전날보다는 못하지만 어느 정도 상승장을 이어가고 있을 때 고정된 돌파계수 0.5 때문에 매수 타이밍을 못 잡는 경우가 생길 수도 있고 \n",
    "- 반대의 경우, 즉 (전일 고가-전일 저가)가 작았던 다음날 미약한 주가 상승에도 매수를 시도하는 경우가 생기기도 함"
   ]
  },
  {
   "cell_type": "code",
   "execution_count": 2,
   "id": "f749d2f1",
   "metadata": {
    "scrolled": false
   },
   "outputs": [
    {
     "name": "stdout",
     "output_type": "stream",
     "text": [
      "<tr onmouseout=\"mouseOut(this)\" onmouseover=\"mouseOver(this)\">\n",
      "<td align=\"center\"><span class=\"tah p10 gray03\">2022.09.23</span></td>\n",
      "<td class=\"num\"><span class=\"tah p11\">21,100</span></td>\n",
      "<td class=\"num\">\n",
      "<img alt=\"상승\" height=\"6\" src=\"https://ssl.pstatic.net/imgstock/images/images4/ico_up.gif\" style=\"margin-right:4px;\" width=\"7\"/><span class=\"tah p11 red02\">\n",
      "\t\t\t\t1,250\n",
      "\t\t\t\t</span>\n",
      "</td>\n",
      "<td class=\"num\"><span class=\"tah p11\">20,050</span></td>\n",
      "<td class=\"num\"><span class=\"tah p11\">21,150</span></td>\n",
      "<td class=\"num\"><span class=\"tah p11\">19,600</span></td>\n",
      "<td class=\"num\"><span class=\"tah p11\">2,699,421</span></td>\n",
      "</tr> \n",
      "최근 날짜: 2022.09.23, \n",
      "시가: 20050, \n",
      "종가: 21100, \n",
      "고가: 21150, \n",
      "저가: 19600, \n",
      "돌파계수 K: 0.32258064516129037, \n",
      "매수 타겟가: 20550.0\n",
      "20825.0 20550.0 차이: 20550.0 - 20825.0 = 275.0\n"
     ]
    }
   ],
   "source": [
    "import requests\n",
    "from bs4 import BeautifulSoup\n",
    "\n",
    "headers = {'user-agent': 'Mozilla/5.0 (X11; Ubuntu; Linux x86_64; rv:104.0) Gecko/20100101 Firefox/104.0'}\n",
    "sise_URL = 'https://finance.naver.com/item/sise_day.naver?code=001570'\n",
    "sise_res = requests.get(sise_URL, headers=headers)\n",
    "# print(res.status_code)\n",
    "\n",
    "soup = BeautifulSoup(sise_res.text, 'lxml')\n",
    "prices = soup.select('.type2 tr')[2]\n",
    "\n",
    "latest_date = prices.select_one('.tah.p10.gray03').text # 최근 날짜\n",
    "start_price = int(prices.select('.tah.p11')[2].text.replace(',', '')) # 전날 시가이기 때문에 필요 없음. 당일 시가로 대체해야\n",
    "end_price = int(prices.select('.tah.p11')[0].text.replace(',', '')) # 종가\n",
    "highest_price = int(prices.select('.tah.p11')[3].text.replace(',', '')) # 고가\n",
    "lowest_price = int(prices.select('.tah.p11')[4].text.replace(',', '')) # 저가\n",
    "\n",
    "# K = 0.5 # 고정 돌파계수 K\n",
    "K = 1 - (abs(start_price - end_price) / (highest_price - lowest_price)) # 돌파계수 K, 9/8 - 0.85\n",
    "\n",
    "target_price = start_price + (highest_price - lowest_price) * K # 매수 타켓가\n",
    "\n",
    "print(prices, f'\\n최근 날짜: {latest_date}, \\n시가: {start_price}, \\n종가: {end_price}, \\n고가: {highest_price}, \\n저가: {lowest_price}, \\n돌파계수 K: {K}, \\n매수 타겟가: {target_price}')\n",
    "\n",
    "fixedK = start_price + (highest_price - lowest_price) * 0.5 # 돌파계수 K가 default 0.5일 때. 매수 타켓가: 19200\n",
    "flexibleK = start_price + (highest_price - lowest_price) * K # 돌파계수 K가 시장 상황에 따라 0.85일 때. 매수 타켓가: 20950\n",
    "print(fixedK, flexibleK, f'차이: {flexibleK} - {fixedK} =', abs(flexibleK - fixedK))"
   ]
  },
  {
   "cell_type": "markdown",
   "id": "0ae48d57",
   "metadata": {},
   "source": [
    "### 1. 시장 상황(추세)에 따른 돌파계수 K를 구하기 귀해 열흘 치 주가 정보 가져와서 평균을 구하자\n",
    "\n",
    "### 2. 열흘 치 주가 정보를 고정/변동/평균 K로 운영했을 때 예상 수익을 비교해보자 (백테스트)\n",
    "- #### 고정 K: -200, 변동 K: -401, 변동 K 평균: -1168"
   ]
  },
  {
   "cell_type": "code",
   "execution_count": 23,
   "id": "073a06a9",
   "metadata": {
    "scrolled": false
   },
   "outputs": [
    {
     "name": "stdout",
     "output_type": "stream",
     "text": [
      "날짜: 2022.09.23, \n",
      "시가: 20050, \n",
      "종가: 20000, \n",
      "고가: 21350, \n",
      "저가: 19600,               \n",
      "변동 돌파계수 K: 0.97\n",
      "차이: 변동 K 21747 - 고정 K 20925 = 822\n",
      "매수 여부(변동 K): False\n",
      "고정 K 예상 수익: 0, 변동 K 예상 수익: 0, 승부: 동점\n",
      "\n",
      "날짜: 2022.09.22, \n",
      "시가: 16800, \n",
      "종가: 19850, \n",
      "고가: 20200, \n",
      "저가: 16650,               \n",
      "변동 돌파계수 K: 0.14\n",
      "차이: 변동 K 17297 - 고정 K 18575 = 1278\n",
      "매수 여부(변동 K): True\n",
      "고정 K 예상 수익: 1275, 변동 K 예상 수익: 2553, 승부: 변동 K 승리\n",
      "\n",
      "날짜: 2022.09.21, \n",
      "시가: 16900, \n",
      "종가: 17200, \n",
      "고가: 17750, \n",
      "저가: 16600,               \n",
      "변동 돌파계수 K: 0.74\n",
      "차이: 변동 K 17751 - 고정 K 17475 = 276\n",
      "매수 여부(변동 K): False\n",
      "고정 K 예상 수익: 0, 변동 K 예상 수익: 0, 승부: 동점\n",
      "\n",
      "날짜: 2022.09.20, \n",
      "시가: 17550, \n",
      "종가: 17100, \n",
      "고가: 17800, \n",
      "저가: 16150,               \n",
      "변동 돌파계수 K: 0.73\n",
      "차이: 변동 K 18754 - 고정 K 18375 = 379\n",
      "매수 여부(변동 K): False\n",
      "고정 K 예상 수익: 0, 변동 K 예상 수익: 0, 승부: 동점\n",
      "\n",
      "날짜: 2022.09.19, \n",
      "시가: 20750, \n",
      "종가: 17300, \n",
      "고가: 20850, \n",
      "저가: 16100,               \n",
      "변동 돌파계수 K: 0.27\n",
      "차이: 변동 K 22032 - 고정 K 23125 = 1093\n",
      "매수 여부(변동 K): False\n",
      "고정 K 예상 수익: 0, 변동 K 예상 수익: 0, 승부: 동점\n",
      "\n",
      "날짜: 2022.09.16, \n",
      "시가: 20350, \n",
      "종가: 20550, \n",
      "고가: 21300, \n",
      "저가: 19800,               \n",
      "변동 돌파계수 K: 0.87\n",
      "차이: 변동 K 21655 - 고정 K 21100 = 555\n",
      "매수 여부(변동 K): False\n",
      "고정 K 예상 수익: 0, 변동 K 예상 수익: 0, 승부: 동점\n",
      "\n",
      "날짜: 2022.09.15, \n",
      "시가: 19650, \n",
      "종가: 20800, \n",
      "고가: 21600, \n",
      "저가: 18950,               \n",
      "변동 돌파계수 K: 0.57\n",
      "차이: 변동 K 21160 - 고정 K 20975 = 185\n",
      "매수 여부(변동 K): True\n",
      "고정 K 예상 수익: -175, 변동 K 예상 수익: -360, 승부: 고정 K 승리\n",
      "\n",
      "날짜: 2022.09.14, \n",
      "시가: 17100, \n",
      "종가: 19100, \n",
      "고가: 19500, \n",
      "저가: 16850,               \n",
      "변동 돌파계수 K: 0.25\n",
      "차이: 변동 K 17762 - 고정 K 18425 = 663\n",
      "매수 여부(변동 K): True\n",
      "고정 K 예상 수익: 675, 변동 K 예상 수익: 1338, 승부: 변동 K 승리\n",
      "\n",
      "날짜: 2022.09.13, \n",
      "시가: 17200, \n",
      "종가: 17700, \n",
      "고가: 18000, \n",
      "저가: 15950,               \n",
      "변동 돌파계수 K: 0.76\n",
      "차이: 변동 K 18758 - 고정 K 18225 = 533\n",
      "매수 여부(변동 K): False\n",
      "고정 K 예상 수익: 0, 변동 K 예상 수익: 0, 승부: 동점\n",
      "\n",
      "날짜: 2022.09.08, \n",
      "시가: 16700, \n",
      "종가: 17450, \n",
      "고가: 21250, \n",
      "저가: 16250,               \n",
      "변동 돌파계수 K: 0.85\n",
      "차이: 변동 K 20950 - 고정 K 19200 = 1750\n",
      "매수 여부(변동 K): True\n",
      "고정 K 예상 수익: -1750, 변동 K 예상 수익: -3500, 승부: 고정 K 승리\n",
      "\n",
      "고정 K로 열흘 운용했을 때 예상 수익: 25, 변동 K로 열흘 운용했을 때 예상 수익: 31\n",
      "경기가 그냥 그렇다. 보합권!\n",
      "\n",
      "변동 K의 열흘 치 평균: 0.61\n"
     ]
    }
   ],
   "source": [
    "import requests\n",
    "from bs4 import BeautifulSoup\n",
    "\n",
    "headers = {'user-agent': 'Mozilla/5.0 (X11; Ubuntu; Linux x86_64; rv:104.0) Gecko/20100101 Firefox/104.0'}\n",
    "sise_URL = 'https://finance.naver.com/item/sise_day.naver?code=001570'\n",
    "sise_res = requests.get(sise_URL, headers=headers)\n",
    "# print(res.status_code)\n",
    "\n",
    "soup = BeautifulSoup(sise_res.text, 'lxml')\n",
    "prices = soup.select('.type2 tr')[2:-1] # 최근 열흘치 주가 정보 가져오기\n",
    "# print(prices[-1].text)\n",
    "\n",
    "fixedKprofits = 0\n",
    "flexibleKprofits = 0\n",
    "flexibleKs = 0\n",
    "\n",
    "for price in prices:\n",
    "#     print(price.text)\n",
    "    \n",
    "    try:\n",
    "        latest_date = price.select_one('.tah.p10.gray03').text # 최근 날짜\n",
    "        start_price = int(price.select('.tah.p11')[2].text.replace(',', '')) # 전날 시가이기 때문에 필요 없음. 당일 시가로 대체해야\n",
    "        end_price = int(price.select('.tah.p11')[0].text.replace(',', '')) # 종가\n",
    "        highest_price = int(price.select('.tah.p11')[3].text.replace(',', '')) # 고가\n",
    "        lowest_price = int(price.select('.tah.p11')[4].text.replace(',', '')) # 저가\n",
    "        \n",
    "        K = 1 - (abs(start_price - end_price) / (highest_price - lowest_price)) # 돌파계수 K, 9/8 - 0.85\n",
    "        K = round(K, 2)\n",
    "        flexibleKs += K # 변동 K의 평균 구하기\n",
    "\n",
    "        fixedKtarget = int(start_price + (highest_price - lowest_price) * 0.5) # 돌파계수 K가 default 0.5일 때 매수 타켓가\n",
    "        flexibleKtarget = int(start_price + (highest_price - lowest_price) * K) # 돌파계수 K가 시장 상황에 따라 0.85일 때 매수 타켓가\n",
    "\n",
    "        print(f'날짜: {latest_date}, \\n시가: {start_price}, \\n종가: {end_price}, \\n고가: {highest_price}, \\n저가: {lowest_price}, \\\n",
    "              \\n변동 돌파계수 K: {K}')\n",
    "        \n",
    "        gap = abs(flexibleKtarget - fixedKtarget)\n",
    "        \n",
    "        print(f'차이: 변동 K {flexibleKtarget} - 고정 K {fixedKtarget} =', gap)\n",
    "        \n",
    "        # 현재가가 매수 타겟가를 넘어서자 마자 매수할 것이고, 종가에 근접한 가격으로 매도할 것이기 때문에 데이 트레이딩 수익 예측이 가능함\n",
    "        BuyOrDont = highest_price >= flexibleKtarget # 매수 여부 확인\n",
    "        \n",
    "        if BuyOrDont == True: # 매수 했을 경우 수익 계산\n",
    "            fixedKprofit = end_price - fixedKtarget # 고정 K 예상 수익\n",
    "            flexibleKprofit = end_price - flexibleKtarget # 변동 K 예상 수익\n",
    "\n",
    "            fixedKprofits += fixedKprofit # 고정 K 예상 누적 수익\n",
    "            flexibleKprofits += flexibleKprofit # 변동 K 예상 누적 수익\n",
    "        \n",
    "            if flexibleKprofit > fixedKprofit:\n",
    "                versus = '변동 K 승리'\n",
    "\n",
    "            elif flexibleKprofit < fixedKprofit:\n",
    "                versus = '고정 K 승리'\n",
    "                \n",
    "        else:\n",
    "            fixedKprofit = 0 # 고정 K 예상 수익\n",
    "            flexibleKprofit = 0 # 변동 K 예상 수익\n",
    "            versus = '동점'\n",
    "        \n",
    "        print(f'매수 여부(변동 K): {BuyOrDont}')\n",
    "        print(f'고정 K 예상 수익: {fixedKprofit}, 변동 K 예상 수익: {flexibleKprofit}, 승부: {versus}\\n')\n",
    "        \n",
    "    except:\n",
    "        continue\n",
    "    \n",
    "print(f'고정 K로 열흘 운용했을 때 예상 수익: {fixedKprofits}, 변동 K로 열흘 운용했을 때 예상 수익: {flexibleKprofits}')\n",
    "# 고정 K로 열흘 운용했을 때 예상 수익: -200, 변동 K로 열흘 운용했을 때 예상 수익: -401, 변동 K 평균으로 열흘 운용했을 때 예상 수익: -1168\n",
    "\n",
    "if fixedKprofits < 0 and flexibleKprofits < 0:\n",
    "    print('경기가 안 좋다.. 하락장!\\n')\n",
    "    \n",
    "elif fixedKprofits <= 1000 and flexibleKprofits <= 1000:\n",
    "    print('경기가 그냥 그렇다. 보합권!\\n')\n",
    "    \n",
    "else:\n",
    "    print('경기가 좋다! 상승장!\\n')\n",
    "    \n",
    "print(f'변동 K의 열흘 치 평균: {round(flexibleKs / 10, 2)}')"
   ]
  },
  {
   "cell_type": "code",
   "execution_count": 5,
   "id": "637cf21c",
   "metadata": {},
   "outputs": [
    {
     "name": "stdout",
     "output_type": "stream",
     "text": [
      "현재가: 54700, 오늘 시가: 54400\n"
     ]
    }
   ],
   "source": [
    "import requests\n",
    "from bs4 import BeautifulSoup\n",
    "\n",
    "headers = {'user-agent': 'Mozilla/5.0 (X11; Ubuntu; Linux x86_64; rv:104.0) Gecko/20100101 Firefox/104.0'}\n",
    "sise_URL = 'https://finance.naver.com/item/sise.naver?code=005930'\n",
    "sise_res = requests.get(sise_URL, headers=headers)\n",
    "# print(res.status_code)\n",
    "\n",
    "soup = BeautifulSoup(sise_res.text, 'lxml')\n",
    "present_price = int(soup.select('table.type2.type_tax tbody .tah.p11')[0].text.replace(',', ''))\n",
    "today_opening_price = int(soup.select('table.type2.type_tax tbody .tah.p11')[7].text.replace(',', ''))\n",
    "\n",
    "print(f'현재가: {present_price}, 오늘 시가: {today_opening_price}')"
   ]
  },
  {
   "cell_type": "code",
   "execution_count": 6,
   "id": "65dfc97d",
   "metadata": {
    "scrolled": false
   },
   "outputs": [],
   "source": [
    "import pandas as pd\n",
    "import requests\n",
    "from bs4 import BeautifulSoup\n",
    "import mplfinance as mpf\n",
    "\n",
    "import html5lib\n",
    "import warnings\n",
    "\n",
    "warnings.filterwarnings(action='ignore')\n",
    "\n",
    "headers = {'user-agent': 'Mozilla/5.0 (X11; Ubuntu; Linux x86_64; rv:104.0) Gecko/20100101 Firefox/104.0'}\n",
    "url = 'https://finance.naver.com/item/sise_day.nhn?code=005930&page=1'\n",
    "res = requests.get(url, headers=headers)\n",
    "soup = BeautifulSoup(res.text, 'lxml')\n",
    "\n",
    "pgrr = soup.find('td', class_='pgRR')\n",
    "s = str(pgrr.a['href']).split('=')\n",
    "last_page = s[-1]\n",
    "last_page\n",
    "\n",
    "df = pd.DataFrame()\n",
    "sise_url = 'https://finance.naver.com/item/sise_day.nhn?code=005930'\n",
    "\n",
    "# for page in range(1, int(last_page)+1): # 전체 기간 주가 가져오기\n",
    "#     page_url = '{}&page={}'.format(sise_url, page)\n",
    "#     res = requests.get(page_url, headers=headers)\n",
    "#     soup = BeautifulSoup(res.text, 'lxml')\n",
    "#     table = soup.select_one('table', class_='type2') # 현재 페이지에서 클래스가 type2인 table 태그 하나 선택하기\n",
    "#     table_html = str(table) # 테이블 html 정보를 문자열로 변경하기\n",
    "#     # 판다스의 read_html 로 테이블 정보 읽기. flavor=None(==lxml), encoding='utf-8' or(<) 'euc-kr' or(<) 'cp949'\n",
    "#     df = df.append(pd.read_html(table_html, flavor=None, header=0, encoding='cp949')[0])\n",
    "    \n",
    "for page in range(1, 4): # 한 달 주가 가져오기\n",
    "    page_url = '{}&page={}'.format(sise_url, page)\n",
    "    res = requests.get(page_url, headers=headers)\n",
    "    soup = BeautifulSoup(res.text, 'lxml')\n",
    "    table = soup.select_one('table', class_='type2') # 현재 페이지에서 클래스가 type2인 table 태그 하나 선택하기\n",
    "    table_html = str(table) # 테이블 html 정보를 문자열로 변경하기\n",
    "    # 판다스의 read_html 로 테이블 정보 읽기. flavor=None(==lxml), encoding='utf-8' or(<) 'euc-kr' or(<) 'cp949'\n",
    "    df = df.append(pd.read_html(table_html, flavor=None, header=0, encoding='cp949')[0])\n",
    "    \n",
    "df = df.dropna()\n",
    "\n",
    "# df = df.iloc[0:30]\n",
    "# df = df.iloc[0:]\n",
    "# df = df.rename(columns={'날짜':'Date', '시가':'Open', '고가':'High', '저가':'Low', '종가':'Close', '거래량':'Volume'})\n",
    "# df = df.sort_values(by='Date')\n",
    "# df.index = pd.to_datetime(df.Date)\n",
    "# df = df[['Open', 'High', 'Low', 'Close', 'Volume']]\n",
    "\n",
    "# mpf.plot(df, title='Celltrion candle chart', type='candle')\n",
    "\n",
    "# mpf.plot(df, title='Celltrion ohlc chart', type='ohlc')\n",
    "\n",
    "# kwargs = dict(title='Celltrion customized chart', type='candle',\n",
    "#     mav=(2, 4, 6), volume=True, ylabel='ohlc candles')\n",
    "# mc = mpf.make_marketcolors(up='r', down='b', inherit=True)\n",
    "# s  = mpf.make_mpf_style(marketcolors=mc)\n",
    "# mpf.plot(df, **kwargs, style=s)"
   ]
  },
  {
   "cell_type": "code",
   "execution_count": 7,
   "id": "7fd5be65",
   "metadata": {
    "scrolled": true
   },
   "outputs": [
    {
     "name": "stdout",
     "output_type": "stream",
     "text": [
      "<class 'pandas.core.frame.DataFrame'>\n",
      "Int64Index: 30 entries, 1 to 13\n",
      "Data columns (total 7 columns):\n",
      " #   Column  Non-Null Count  Dtype  \n",
      "---  ------  --------------  -----  \n",
      " 0   날짜      30 non-null     object \n",
      " 1   종가      30 non-null     float64\n",
      " 2   전일비     30 non-null     float64\n",
      " 3   시가      30 non-null     float64\n",
      " 4   고가      30 non-null     float64\n",
      " 5   저가      30 non-null     float64\n",
      " 6   거래량     30 non-null     float64\n",
      "dtypes: float64(6), object(1)\n",
      "memory usage: 1.9+ KB\n"
     ]
    }
   ],
   "source": [
    "df.info()"
   ]
  },
  {
   "cell_type": "code",
   "execution_count": 8,
   "id": "aae8fe2d",
   "metadata": {},
   "outputs": [
    {
     "data": {
      "text/plain": [
       "(30, 7)"
      ]
     },
     "execution_count": 8,
     "metadata": {},
     "output_type": "execute_result"
    }
   ],
   "source": [
    "df.shape"
   ]
  },
  {
   "cell_type": "code",
   "execution_count": 9,
   "id": "eaf09a42",
   "metadata": {
    "scrolled": true
   },
   "outputs": [
    {
     "data": {
      "text/html": [
       "<div>\n",
       "<style scoped>\n",
       "    .dataframe tbody tr th:only-of-type {\n",
       "        vertical-align: middle;\n",
       "    }\n",
       "\n",
       "    .dataframe tbody tr th {\n",
       "        vertical-align: top;\n",
       "    }\n",
       "\n",
       "    .dataframe thead th {\n",
       "        text-align: right;\n",
       "    }\n",
       "</style>\n",
       "<table border=\"1\" class=\"dataframe\">\n",
       "  <thead>\n",
       "    <tr style=\"text-align: right;\">\n",
       "      <th></th>\n",
       "      <th>날짜</th>\n",
       "      <th>종가</th>\n",
       "      <th>전일비</th>\n",
       "      <th>시가</th>\n",
       "      <th>고가</th>\n",
       "      <th>저가</th>\n",
       "      <th>거래량</th>\n",
       "    </tr>\n",
       "  </thead>\n",
       "  <tbody>\n",
       "    <tr>\n",
       "      <th>1</th>\n",
       "      <td>2022.09.23</td>\n",
       "      <td>54700.0</td>\n",
       "      <td>300.0</td>\n",
       "      <td>54400.0</td>\n",
       "      <td>54900.0</td>\n",
       "      <td>54400.0</td>\n",
       "      <td>2395005.0</td>\n",
       "    </tr>\n",
       "    <tr>\n",
       "      <th>2</th>\n",
       "      <td>2022.09.22</td>\n",
       "      <td>54400.0</td>\n",
       "      <td>900.0</td>\n",
       "      <td>54600.0</td>\n",
       "      <td>54700.0</td>\n",
       "      <td>54300.0</td>\n",
       "      <td>12786510.0</td>\n",
       "    </tr>\n",
       "    <tr>\n",
       "      <th>3</th>\n",
       "      <td>2022.09.21</td>\n",
       "      <td>55300.0</td>\n",
       "      <td>500.0</td>\n",
       "      <td>55400.0</td>\n",
       "      <td>55500.0</td>\n",
       "      <td>55000.0</td>\n",
       "      <td>11863700.0</td>\n",
       "    </tr>\n",
       "    <tr>\n",
       "      <th>4</th>\n",
       "      <td>2022.09.20</td>\n",
       "      <td>55800.0</td>\n",
       "      <td>600.0</td>\n",
       "      <td>56400.0</td>\n",
       "      <td>57000.0</td>\n",
       "      <td>55800.0</td>\n",
       "      <td>14041465.0</td>\n",
       "    </tr>\n",
       "    <tr>\n",
       "      <th>5</th>\n",
       "      <td>2022.09.19</td>\n",
       "      <td>56400.0</td>\n",
       "      <td>200.0</td>\n",
       "      <td>56300.0</td>\n",
       "      <td>57000.0</td>\n",
       "      <td>56000.0</td>\n",
       "      <td>12278653.0</td>\n",
       "    </tr>\n",
       "  </tbody>\n",
       "</table>\n",
       "</div>"
      ],
      "text/plain": [
       "           날짜       종가    전일비       시가       고가       저가         거래량\n",
       "1  2022.09.23  54700.0  300.0  54400.0  54900.0  54400.0   2395005.0\n",
       "2  2022.09.22  54400.0  900.0  54600.0  54700.0  54300.0  12786510.0\n",
       "3  2022.09.21  55300.0  500.0  55400.0  55500.0  55000.0  11863700.0\n",
       "4  2022.09.20  55800.0  600.0  56400.0  57000.0  55800.0  14041465.0\n",
       "5  2022.09.19  56400.0  200.0  56300.0  57000.0  56000.0  12278653.0"
      ]
     },
     "execution_count": 9,
     "metadata": {},
     "output_type": "execute_result"
    }
   ],
   "source": [
    "df.head()"
   ]
  },
  {
   "cell_type": "markdown",
   "id": "7fb926b9",
   "metadata": {},
   "source": [
    "### Matplotlib은 한글 지원 안 함. font가 필요함! 아래는 mpl에 font 쓰는 예시\n",
    "\n",
    "### mplfinance는 한글 지원 안 하나..? 아래 설정 실행해도 한글 깨짐\n",
    "\n",
    "#### cf. https://github.com/INVESTAR/StockAnalysisInPython/issues/50"
   ]
  },
  {
   "cell_type": "code",
   "execution_count": 10,
   "id": "9b828f56",
   "metadata": {},
   "outputs": [
    {
     "name": "stdout",
     "output_type": "stream",
     "text": [
      "Nanum HaNaSonGeurSsi\n"
     ]
    }
   ],
   "source": [
    "import matplotlib as mpl # font 잡는데 필요한 모듈 불러오기\n",
    "import matplotlib.pyplot as plt\n",
    "import matplotlib.font_manager as fm\n",
    "from matplotlib import rc\n",
    "\n",
    "font_path = '/mnt/FE0A5E240A5DDA6B/workspace/jeon2_package/Font/hana.ttf' # ttf 파일을 jupyter notebook 디렉터리 안에 넣기\n",
    "font_name = fm.FontProperties(fname=font_path).get_name() # fm으로 font 이름 알아오기\n",
    "print(font_name) # Malgun Gothic\n",
    "rc('font', family=font_name) # family는 font를 지칭함"
   ]
  },
  {
   "cell_type": "code",
   "execution_count": 24,
   "id": "71dc5d29",
   "metadata": {
    "scrolled": false
   },
   "outputs": [
    {
     "ename": "KeyError",
     "evalue": "'Date'",
     "output_type": "error",
     "traceback": [
      "\u001b[0;31m---------------------------------------------------------------------------\u001b[0m",
      "\u001b[0;31mKeyError\u001b[0m                                  Traceback (most recent call last)",
      "File \u001b[0;32m~/anaconda3/envs/study/lib/python3.10/site-packages/pandas/core/indexes/base.py:3621\u001b[0m, in \u001b[0;36mIndex.get_loc\u001b[0;34m(self, key, method, tolerance)\u001b[0m\n\u001b[1;32m   3620\u001b[0m \u001b[39mtry\u001b[39;00m:\n\u001b[0;32m-> 3621\u001b[0m     \u001b[39mreturn\u001b[39;00m \u001b[39mself\u001b[39;49m\u001b[39m.\u001b[39;49m_engine\u001b[39m.\u001b[39;49mget_loc(casted_key)\n\u001b[1;32m   3622\u001b[0m \u001b[39mexcept\u001b[39;00m \u001b[39mKeyError\u001b[39;00m \u001b[39mas\u001b[39;00m err:\n",
      "File \u001b[0;32m~/anaconda3/envs/study/lib/python3.10/site-packages/pandas/_libs/index.pyx:136\u001b[0m, in \u001b[0;36mpandas._libs.index.IndexEngine.get_loc\u001b[0;34m()\u001b[0m\n",
      "File \u001b[0;32m~/anaconda3/envs/study/lib/python3.10/site-packages/pandas/_libs/index.pyx:163\u001b[0m, in \u001b[0;36mpandas._libs.index.IndexEngine.get_loc\u001b[0;34m()\u001b[0m\n",
      "File \u001b[0;32mpandas/_libs/hashtable_class_helper.pxi:5198\u001b[0m, in \u001b[0;36mpandas._libs.hashtable.PyObjectHashTable.get_item\u001b[0;34m()\u001b[0m\n",
      "File \u001b[0;32mpandas/_libs/hashtable_class_helper.pxi:5206\u001b[0m, in \u001b[0;36mpandas._libs.hashtable.PyObjectHashTable.get_item\u001b[0;34m()\u001b[0m\n",
      "\u001b[0;31mKeyError\u001b[0m: 'Date'",
      "\nThe above exception was the direct cause of the following exception:\n",
      "\u001b[0;31mKeyError\u001b[0m                                  Traceback (most recent call last)",
      "\u001b[1;32m/mnt/FE0A5E240A5DDA6B/workspace/jeon2_package/Analyze/StockData.ipynb 셀 15\u001b[0m in \u001b[0;36m<cell line: 7>\u001b[0;34m()\u001b[0m\n\u001b[1;32m      <a href='vscode-notebook-cell:/mnt/FE0A5E240A5DDA6B/workspace/jeon2_package/Analyze/StockData.ipynb#X20sZmlsZQ%3D%3D?line=3'>4</a>\u001b[0m df \u001b[39m=\u001b[39m df\u001b[39m.\u001b[39msort_values(by\u001b[39m=\u001b[39m\u001b[39m'\u001b[39m\u001b[39mDate\u001b[39m\u001b[39m'\u001b[39m)\n\u001b[1;32m      <a href='vscode-notebook-cell:/mnt/FE0A5E240A5DDA6B/workspace/jeon2_package/Analyze/StockData.ipynb#X20sZmlsZQ%3D%3D?line=4'>5</a>\u001b[0m \u001b[39m# df.index = pd.to_datetime(df.Date, format='%y.%m.%d')\u001b[39;00m\n\u001b[1;32m      <a href='vscode-notebook-cell:/mnt/FE0A5E240A5DDA6B/workspace/jeon2_package/Analyze/StockData.ipynb#X20sZmlsZQ%3D%3D?line=5'>6</a>\u001b[0m \u001b[39m# df.index = pd.to_datetime(df['Date'], format='%y.%m.%d')\u001b[39;00m\n\u001b[0;32m----> <a href='vscode-notebook-cell:/mnt/FE0A5E240A5DDA6B/workspace/jeon2_package/Analyze/StockData.ipynb#X20sZmlsZQ%3D%3D?line=6'>7</a>\u001b[0m df\u001b[39m.\u001b[39mindex \u001b[39m=\u001b[39m pd\u001b[39m.\u001b[39mto_datetime(df[\u001b[39m'\u001b[39;49m\u001b[39mDate\u001b[39;49m\u001b[39m'\u001b[39;49m], infer_datetime_format\u001b[39m=\u001b[39m\u001b[39mTrue\u001b[39;00m)\n\u001b[1;32m      <a href='vscode-notebook-cell:/mnt/FE0A5E240A5DDA6B/workspace/jeon2_package/Analyze/StockData.ipynb#X20sZmlsZQ%3D%3D?line=8'>9</a>\u001b[0m df \u001b[39m=\u001b[39m df[[\u001b[39m'\u001b[39m\u001b[39mOpen\u001b[39m\u001b[39m'\u001b[39m, \u001b[39m'\u001b[39m\u001b[39mHigh\u001b[39m\u001b[39m'\u001b[39m, \u001b[39m'\u001b[39m\u001b[39mLow\u001b[39m\u001b[39m'\u001b[39m, \u001b[39m'\u001b[39m\u001b[39mClose\u001b[39m\u001b[39m'\u001b[39m, \u001b[39m'\u001b[39m\u001b[39mVolume\u001b[39m\u001b[39m'\u001b[39m]]\n\u001b[1;32m     <a href='vscode-notebook-cell:/mnt/FE0A5E240A5DDA6B/workspace/jeon2_package/Analyze/StockData.ipynb#X20sZmlsZQ%3D%3D?line=10'>11</a>\u001b[0m kwargs \u001b[39m=\u001b[39m \u001b[39mdict\u001b[39m(title\u001b[39m=\u001b[39m\u001b[39m'\u001b[39m\u001b[39msamsung candle chart\u001b[39m\u001b[39m'\u001b[39m, \u001b[39mtype\u001b[39m\u001b[39m=\u001b[39m\u001b[39m'\u001b[39m\u001b[39mcandle\u001b[39m\u001b[39m'\u001b[39m, \n\u001b[1;32m     <a href='vscode-notebook-cell:/mnt/FE0A5E240A5DDA6B/workspace/jeon2_package/Analyze/StockData.ipynb#X20sZmlsZQ%3D%3D?line=11'>12</a>\u001b[0m               mav\u001b[39m=\u001b[39m(\u001b[39m2\u001b[39m, \u001b[39m4\u001b[39m, \u001b[39m6\u001b[39m), volume\u001b[39m=\u001b[39m\u001b[39mTrue\u001b[39;00m, ylabel\u001b[39m=\u001b[39m\u001b[39m'\u001b[39m\u001b[39mohlc candles\u001b[39m\u001b[39m'\u001b[39m) \u001b[39m# mav는 moving average, 이동평균선(복수도 가능)의 기간을 튜플로 전달.\u001b[39;00m\n",
      "File \u001b[0;32m~/anaconda3/envs/study/lib/python3.10/site-packages/pandas/core/frame.py:3505\u001b[0m, in \u001b[0;36mDataFrame.__getitem__\u001b[0;34m(self, key)\u001b[0m\n\u001b[1;32m   3503\u001b[0m \u001b[39mif\u001b[39;00m \u001b[39mself\u001b[39m\u001b[39m.\u001b[39mcolumns\u001b[39m.\u001b[39mnlevels \u001b[39m>\u001b[39m \u001b[39m1\u001b[39m:\n\u001b[1;32m   3504\u001b[0m     \u001b[39mreturn\u001b[39;00m \u001b[39mself\u001b[39m\u001b[39m.\u001b[39m_getitem_multilevel(key)\n\u001b[0;32m-> 3505\u001b[0m indexer \u001b[39m=\u001b[39m \u001b[39mself\u001b[39;49m\u001b[39m.\u001b[39;49mcolumns\u001b[39m.\u001b[39;49mget_loc(key)\n\u001b[1;32m   3506\u001b[0m \u001b[39mif\u001b[39;00m is_integer(indexer):\n\u001b[1;32m   3507\u001b[0m     indexer \u001b[39m=\u001b[39m [indexer]\n",
      "File \u001b[0;32m~/anaconda3/envs/study/lib/python3.10/site-packages/pandas/core/indexes/base.py:3623\u001b[0m, in \u001b[0;36mIndex.get_loc\u001b[0;34m(self, key, method, tolerance)\u001b[0m\n\u001b[1;32m   3621\u001b[0m     \u001b[39mreturn\u001b[39;00m \u001b[39mself\u001b[39m\u001b[39m.\u001b[39m_engine\u001b[39m.\u001b[39mget_loc(casted_key)\n\u001b[1;32m   3622\u001b[0m \u001b[39mexcept\u001b[39;00m \u001b[39mKeyError\u001b[39;00m \u001b[39mas\u001b[39;00m err:\n\u001b[0;32m-> 3623\u001b[0m     \u001b[39mraise\u001b[39;00m \u001b[39mKeyError\u001b[39;00m(key) \u001b[39mfrom\u001b[39;00m \u001b[39merr\u001b[39;00m\n\u001b[1;32m   3624\u001b[0m \u001b[39mexcept\u001b[39;00m \u001b[39mTypeError\u001b[39;00m:\n\u001b[1;32m   3625\u001b[0m     \u001b[39m# If we have a listlike key, _check_indexing_error will raise\u001b[39;00m\n\u001b[1;32m   3626\u001b[0m     \u001b[39m#  InvalidIndexError. Otherwise we fall through and re-raise\u001b[39;00m\n\u001b[1;32m   3627\u001b[0m     \u001b[39m#  the TypeError.\u001b[39;00m\n\u001b[1;32m   3628\u001b[0m     \u001b[39mself\u001b[39m\u001b[39m.\u001b[39m_check_indexing_error(key)\n",
      "\u001b[0;31mKeyError\u001b[0m: 'Date'"
     ]
    }
   ],
   "source": [
    "# df = df.iloc[0:30]\n",
    "df = df.iloc[:]\n",
    "df = df.rename(columns={'날짜':'Date', '시가':'Open', '고가':'High', '저가':'Low', '종가':'Close', '거래량':'Volume'})\n",
    "df = df.sort_values(by='Date')\n",
    "# df.index = pd.to_datetime(df.Date, format='%y.%m.%d')\n",
    "# df.index = pd.to_datetime(df['Date'], format='%y.%m.%d')\n",
    "df.index = pd.to_datetime(df['Date'], infer_datetime_format=True)\n",
    "\n",
    "df = df[['Open', 'High', 'Low', 'Close', 'Volume']]\n",
    "\n",
    "kwargs = dict(title='samsung candle chart', type='candle', \n",
    "              mav=(2, 4, 6), volume=True, ylabel='ohlc candles') # mav는 moving average, 이동평균선(복수도 가능)의 기간을 튜플로 전달.\n",
    "# 일봉 데이터를 기준으로 최근 2/4/6개 종가의 평균값이 라인 차트로 그려지는 것을 확인할 수 있음\n",
    "mc = mpf.make_marketcolors(up='r', down='b', inherit=True)\n",
    "s = mpf.make_mpf_style(marketcolors=mc)\n",
    "mpf.plot(df, **kwargs, style=s)"
   ]
  },
  {
   "cell_type": "code",
   "execution_count": 12,
   "id": "8b5fa43c",
   "metadata": {
    "scrolled": false
   },
   "outputs": [
    {
     "data": {
      "text/html": [
       "<div>\n",
       "<style scoped>\n",
       "    .dataframe tbody tr th:only-of-type {\n",
       "        vertical-align: middle;\n",
       "    }\n",
       "\n",
       "    .dataframe tbody tr th {\n",
       "        vertical-align: top;\n",
       "    }\n",
       "\n",
       "    .dataframe thead th {\n",
       "        text-align: right;\n",
       "    }\n",
       "</style>\n",
       "<table border=\"1\" class=\"dataframe\">\n",
       "  <thead>\n",
       "    <tr style=\"text-align: right;\">\n",
       "      <th></th>\n",
       "      <th>Open</th>\n",
       "      <th>High</th>\n",
       "      <th>Low</th>\n",
       "      <th>Close</th>\n",
       "      <th>Volume</th>\n",
       "    </tr>\n",
       "    <tr>\n",
       "      <th>Date</th>\n",
       "      <th></th>\n",
       "      <th></th>\n",
       "      <th></th>\n",
       "      <th></th>\n",
       "      <th></th>\n",
       "    </tr>\n",
       "  </thead>\n",
       "  <tbody>\n",
       "    <tr>\n",
       "      <th>2022-08-10</th>\n",
       "      <td>58900.0</td>\n",
       "      <td>59200.0</td>\n",
       "      <td>58600.0</td>\n",
       "      <td>59100.0</td>\n",
       "      <td>18084349.0</td>\n",
       "    </tr>\n",
       "    <tr>\n",
       "      <th>2022-08-11</th>\n",
       "      <td>59600.0</td>\n",
       "      <td>60000.0</td>\n",
       "      <td>59300.0</td>\n",
       "      <td>59900.0</td>\n",
       "      <td>15141941.0</td>\n",
       "    </tr>\n",
       "    <tr>\n",
       "      <th>2022-08-12</th>\n",
       "      <td>59500.0</td>\n",
       "      <td>60700.0</td>\n",
       "      <td>59400.0</td>\n",
       "      <td>60200.0</td>\n",
       "      <td>10786658.0</td>\n",
       "    </tr>\n",
       "    <tr>\n",
       "      <th>2022-08-16</th>\n",
       "      <td>60500.0</td>\n",
       "      <td>61600.0</td>\n",
       "      <td>60300.0</td>\n",
       "      <td>61000.0</td>\n",
       "      <td>15036727.0</td>\n",
       "    </tr>\n",
       "    <tr>\n",
       "      <th>2022-08-17</th>\n",
       "      <td>61100.0</td>\n",
       "      <td>61200.0</td>\n",
       "      <td>60300.0</td>\n",
       "      <td>60400.0</td>\n",
       "      <td>9061518.0</td>\n",
       "    </tr>\n",
       "  </tbody>\n",
       "</table>\n",
       "</div>"
      ],
      "text/plain": [
       "               Open     High      Low    Close      Volume\n",
       "Date                                                      \n",
       "2022-08-10  58900.0  59200.0  58600.0  59100.0  18084349.0\n",
       "2022-08-11  59600.0  60000.0  59300.0  59900.0  15141941.0\n",
       "2022-08-12  59500.0  60700.0  59400.0  60200.0  10786658.0\n",
       "2022-08-16  60500.0  61600.0  60300.0  61000.0  15036727.0\n",
       "2022-08-17  61100.0  61200.0  60300.0  60400.0   9061518.0"
      ]
     },
     "execution_count": 12,
     "metadata": {},
     "output_type": "execute_result"
    }
   ],
   "source": [
    "df.head()"
   ]
  },
  {
   "cell_type": "code",
   "execution_count": 16,
   "id": "c2d262cc",
   "metadata": {
    "scrolled": false
   },
   "outputs": [],
   "source": [
    "kwargs = dict(title='samsung customized candle chart', type='candle', mav=(2, 4, 6), volume=True, ylabel='ohlc candles')\n",
    "mc = mpf.make_marketcolors(up='r', down='b', inherit=True)\n",
    "s = mpf.make_mpf_style(marketcolors=mc)\n",
    "mpf.plot(df, **kwargs, style=s, savefig=dict(fname='/mnt/FE0A5E240A5DDA6B/workspace/jeon2_package/Analyze/CandleCharts/samsung_CandleChart.jpg', dpi=100, pad_inches=0.25)) # dpi는 인치당 픽셀 수. 높을 수록 고해상도"
   ]
  },
  {
   "cell_type": "code",
   "execution_count": 19,
   "id": "adea8064",
   "metadata": {
    "scrolled": false
   },
   "outputs": [
    {
     "name": "stdout",
     "output_type": "stream",
     "text": [
      "ls: 'samsung_CandleChart.jpg.jpg'에 접근할 수 없습니다: 그런 파일이나 디렉터리가 없습니다\n"
     ]
    },
    {
     "data": {
      "image/jpeg": "[encoded data removed]",
      "text/plain": [
       "<IPython.core.display.Image object>"
      ]
     },
     "execution_count": 19,
     "metadata": {},
     "output_type": "execute_result"
    }
   ],
   "source": [
    "import IPython.display as IPydisplay\n",
    "# %cd ..\n",
    "# %cd ~/CandleCharts/\n",
    "%ls -l samsung_CandleChart.jpg.jpg\n",
    "IPydisplay.Image(filename='/mnt/FE0A5E240A5DDA6B/workspace/jeon2_package/Analyze/CandleCharts/samsung_CandleChart.jpg')"
   ]
  }
 ],
 "metadata": {
  "kernelspec": {
   "display_name": "Python 3 (ipykernel)",
   "language": "python",
   "name": "python3"
  },
  "language_info": {
   "codemirror_mode": {
    "name": "ipython",
    "version": 3
   },
   "file_extension": ".py",
   "mimetype": "text/x-python",
   "name": "python",
   "nbconvert_exporter": "python",
   "pygments_lexer": "ipython3",
   "version": "3.10.4"
  },
  "vscode": {
   "interpreter": {
    "hash": "7686ba3900ac7c249b87df7ba5470728244e461a13fc76511b10ac837ea0b4fa"
   }
  }
 },
 "nbformat": 4,
 "nbformat_minor": 5
}
